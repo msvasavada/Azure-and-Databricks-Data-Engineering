{
 "cells": [
  {
   "cell_type": "markdown",
   "metadata": {
    "application/vnd.databricks.v1+cell": {
     "cellMetadata": {
      "byteLimit": 2048000,
      "rowLimit": 10000
     },
     "inputWidgets": {},
     "nuid": "8cb72d25-159c-41dc-9222-69d9160ecc80",
     "showTitle": false,
     "tableResultSettingsMap": {},
     "title": ""
    }
   },
   "source": [
    "\n",
    "<div style=\"text-align: center; line-height: 0; padding-top: 9px;\">\n",
    "  <img src=\"https://databricks.com/wp-content/uploads/2018/03/db-academy-rgb-1200px.png\" alt=\"Databricks Learning\">\n",
    "</div>\n"
   ]
  },
  {
   "cell_type": "markdown",
   "metadata": {
    "application/vnd.databricks.v1+cell": {
     "cellMetadata": {
      "byteLimit": 2048000,
      "rowLimit": 10000
     },
     "inputWidgets": {},
     "nuid": "3409c1b8-f58c-4f86-83e6-d698850be457",
     "showTitle": false,
     "tableResultSettingsMap": {},
     "title": ""
    }
   },
   "source": [
    "\n",
    "\n",
    "\n",
    "# Propagating Changes with CDF Lab\n",
    "\n",
    "We'll be using [Change Data Feed](https://docs.databricks.com/en/delta/delta-change-data-feed.html) to propagate changes to many tables from a single source.\n",
    "\n",
    "For this lab, we'll work with the fitness tracker datasets to propagate changes through a Lakehouse with Delta Lake Change Data Feed (CDF).\n",
    "\n",
    "Because the **user_lookup** table links identifying information between different pipelines, we'll make this the point where changes propagate from.\n",
    "\n",
    "\n",
    "## Objectives\n",
    "By the end of this lab, you should be able to:\n",
    "- Enable Change Data Feed on a particular table\n",
    "- Read CDF output with Spark SQL or PySpark\n",
    "- Refactor ELT code to process CDF output"
   ]
  },
  {
   "cell_type": "markdown",
   "metadata": {
    "application/vnd.databricks.v1+cell": {
     "cellMetadata": {
      "byteLimit": 2048000,
      "rowLimit": 10000
     },
     "inputWidgets": {},
     "nuid": "f67e8112-db12-4e13-af2e-9761d30dd9ec",
     "showTitle": false,
     "tableResultSettingsMap": {},
     "title": ""
    }
   },
   "source": [
    "## REQUIRED - SELECT CLASSIC COMPUTE\n",
    "\n",
    "Before executing cells in this notebook, please select your classic compute cluster in the lab. Be aware that **Serverless** is enabled by default.\n",
    "\n",
    "Follow these steps to select the classic compute cluster:\n",
    "\n",
    "1. Navigate to the top-right of this notebook and click the drop-down menu to select your cluster. By default, the notebook will use **Serverless**.\n",
    "\n",
    "1. If your cluster is available, select it and continue to the next cell. If the cluster is not shown:\n",
    "\n",
    "    - In the drop-down, select **More**.\n",
    "\n",
    "    - In the **Attach to an existing compute resource** pop-up, select the first drop-down. You will see a unique cluster name in that drop-down. Please select that cluster.\n",
    "\n",
    "**NOTE:** If your cluster has terminated, you might need to restart it in order to select it. To do this:\n",
    "\n",
    "1. Right-click on **Compute** in the left navigation pane and select *Open in new tab*.\n",
    "\n",
    "1. Find the triangle icon to the right of your compute cluster name and click it.\n",
    "\n",
    "1. Wait a few minutes for the cluster to start.\n",
    "\n",
    "1. Once the cluster is running, complete the steps above to select your cluster."
   ]
  },
  {
   "cell_type": "markdown",
   "metadata": {
    "application/vnd.databricks.v1+cell": {
     "cellMetadata": {
      "byteLimit": 2048000,
      "rowLimit": 10000
     },
     "inputWidgets": {},
     "nuid": "425dcc65-672e-4756-ac88-b922d74f26f7",
     "showTitle": false,
     "tableResultSettingsMap": {},
     "title": ""
    }
   },
   "source": [
    "## A. Classroom Setup\n",
    "\n",
    "Run the following cell to configure your working environment for this course. It will also set your default catalog to your unique catalog name and the schema to your specific schema name shown below using the `USE` statements.\n",
    "<br></br>\n",
    "\n",
    "\n",
    "```\n",
    "USE CATALOG your-catalog;\n",
    "USE SCHEMA your-catalog.pii_data;\n",
    "```\n",
    "\n",
    "**NOTE:** The `DA` object is only used in Databricks Academy courses and is not available outside of these courses. It will dynamically reference the information needed to run the course."
   ]
  },
  {
   "cell_type": "code",
   "execution_count": 0,
   "metadata": {
    "application/vnd.databricks.v1+cell": {
     "cellMetadata": {
      "byteLimit": 2048000,
      "rowLimit": 10000
     },
     "inputWidgets": {},
     "nuid": "f2733356-de63-4527-a5bb-ac82e2a5d7bb",
     "showTitle": false,
     "tableResultSettingsMap": {},
     "title": ""
    }
   },
   "outputs": [
    {
     "output_type": "stream",
     "name": "stdout",
     "output_type": "stream",
     "text": [
      "\u001B[43mNote: you may need to restart the kernel using %restart_python or dbutils.library.restartPython() to use updated packages.\u001B[0m\n"
     ]
    },
    {
     "output_type": "stream",
     "name": "stdout",
     "output_type": "stream",
     "text": [
      "Creating the users_bin table within your Catalog's cdf_lab schema.\nCreating the user_lookup table within your Catalog's cdf_lab schema.\nCreating the users table within your Catalog's cdf_lab schema.\n"
     ]
    },
    {
     "output_type": "display_data",
     "data": {
      "text/html": [
       "<table style=\"width:100%\">\n",
       "            <tr>\n",
       "                <td style=\"white-space:nowrap; width:1em\">Your Course Catalog Name:</td>\n",
       "                <td><input type=\"text\" value=\"labuser10747597_1750981120\" style=\"width: 100%\"></td></tr>\n",
       "            <tr>\n",
       "                <td style=\"white-space:nowrap; width:1em\">Your Schema:</td>\n",
       "                <td><input type=\"text\" value=\"cdf_lab\" style=\"width: 100%\"></td></tr></table>"
      ]
     },
     "metadata": {},
     "output_type": "display_data"
    }
   ],
   "source": [
    "%run ./Includes/Classroom-Setup-1.4L"
   ]
  },
  {
   "cell_type": "markdown",
   "metadata": {
    "application/vnd.databricks.v1+cell": {
     "cellMetadata": {
      "byteLimit": 2048000,
      "rowLimit": 10000
     },
     "inputWidgets": {},
     "nuid": "cd803315-13fe-4062-932e-ae08548129f5",
     "showTitle": false,
     "tableResultSettingsMap": {},
     "title": ""
    }
   },
   "source": [
    "Check your default catalog and schema. Notice the lab uses a new schema named **cdf_lab**."
   ]
  },
  {
   "cell_type": "code",
   "execution_count": 0,
   "metadata": {
    "application/vnd.databricks.v1+cell": {
     "cellMetadata": {
      "byteLimit": 2048000,
      "rowLimit": 10000
     },
     "inputWidgets": {},
     "nuid": "00749789-f15a-4b0c-9e62-a0167c4fff87",
     "showTitle": false,
     "tableResultSettingsMap": {},
     "title": ""
    }
   },
   "outputs": [
    {
     "output_type": "display_data",
     "data": {
      "text/html": [
       "<style scoped>\n",
       "  .table-result-container {\n",
       "    max-height: 300px;\n",
       "    overflow: auto;\n",
       "  }\n",
       "  table, th, td {\n",
       "    border: 1px solid black;\n",
       "    border-collapse: collapse;\n",
       "  }\n",
       "  th, td {\n",
       "    padding: 5px;\n",
       "  }\n",
       "  th {\n",
       "    text-align: left;\n",
       "  }\n",
       "</style><div class='table-result-container'><table class='table-result'><thead style='background-color: white'><tr><th>current_catalog()</th><th>current_schema()</th></tr></thead><tbody><tr><td>labuser10747597_1750981120</td><td>cdf_lab</td></tr></tbody></table></div>"
      ]
     },
     "metadata": {
      "application/vnd.databricks.v1+output": {
       "addedWidgets": {},
       "aggData": [],
       "aggError": "",
       "aggOverflow": false,
       "aggSchema": [],
       "aggSeriesLimitReached": false,
       "aggType": "",
       "arguments": {},
       "columnCustomDisplayInfos": {},
       "data": [
        [
         "labuser10747597_1750981120",
         "cdf_lab"
        ]
       ],
       "datasetInfos": [],
       "dbfsResultPath": null,
       "isJsonSchema": true,
       "metadata": {
        "isDbfsCommandResult": false
       },
       "overflow": false,
       "plotOptions": {
        "customPlotOptions": {},
        "displayType": "table",
        "pivotAggregation": null,
        "pivotColumns": null,
        "xColumns": null,
        "yColumns": null
       },
       "removedWidgets": [],
       "schema": [
        {
         "metadata": "{\"__autoGeneratedAlias\":\"true\"}",
         "name": "current_catalog()",
         "type": "\"string\""
        },
        {
         "metadata": "{\"__autoGeneratedAlias\":\"true\"}",
         "name": "current_schema()",
         "type": "\"string\""
        }
       ],
       "type": "table"
      }
     },
     "output_type": "display_data"
    }
   ],
   "source": [
    "SELECT current_catalog(), current_schema()"
   ]
  },
  {
   "cell_type": "markdown",
   "metadata": {
    "application/vnd.databricks.v1+cell": {
     "cellMetadata": {
      "byteLimit": 2048000,
      "rowLimit": 10000
     },
     "inputWidgets": {},
     "nuid": "480273d7-f0fd-41dc-92fc-7b4cd06f7421",
     "showTitle": false,
     "tableResultSettingsMap": {},
     "title": ""
    }
   },
   "source": [
    "\n",
    "## B. Show available tables\n",
    "\n",
    "We'll focus on the **user_lookup** table with the intent to delete a user, check the CDF changes and then propagate such changes into the tables **users** and **users_bin**.\n",
    "\n",
    "Run the `SHOW TABLES` command and confirm the following tables are available:\n",
    "\n",
    "- **user_lookup**: Table containing user lookup information.\n",
    "- **users**: Table containing detailed user information.\n",
    "- **users_bin**: Table containing user bin assignments."
   ]
  },
  {
   "cell_type": "code",
   "execution_count": 0,
   "metadata": {
    "application/vnd.databricks.v1+cell": {
     "cellMetadata": {
      "byteLimit": 2048000,
      "rowLimit": 10000
     },
     "inputWidgets": {},
     "nuid": "be006a11-6c7c-4b57-a657-b8265fab74fb",
     "showTitle": false,
     "tableResultSettingsMap": {},
     "title": ""
    }
   },
   "outputs": [
    {
     "output_type": "display_data",
     "data": {
      "text/html": [
       "<style scoped>\n",
       "  .table-result-container {\n",
       "    max-height: 300px;\n",
       "    overflow: auto;\n",
       "  }\n",
       "  table, th, td {\n",
       "    border: 1px solid black;\n",
       "    border-collapse: collapse;\n",
       "  }\n",
       "  th, td {\n",
       "    padding: 5px;\n",
       "  }\n",
       "  th {\n",
       "    text-align: left;\n",
       "  }\n",
       "</style><div class='table-result-container'><table class='table-result'><thead style='background-color: white'><tr><th>database</th><th>tableName</th><th>isTemporary</th></tr></thead><tbody><tr><td>cdf_lab</td><td>user_lookup</td><td>false</td></tr><tr><td>cdf_lab</td><td>users</td><td>false</td></tr><tr><td>cdf_lab</td><td>users_bin</td><td>false</td></tr></tbody></table></div>"
      ]
     },
     "metadata": {
      "application/vnd.databricks.v1+output": {
       "addedWidgets": {},
       "aggData": [],
       "aggError": "",
       "aggOverflow": false,
       "aggSchema": [],
       "aggSeriesLimitReached": false,
       "aggType": "",
       "arguments": {},
       "columnCustomDisplayInfos": {},
       "data": [
        [
         "cdf_lab",
         "user_lookup",
         false
        ],
        [
         "cdf_lab",
         "users",
         false
        ],
        [
         "cdf_lab",
         "users_bin",
         false
        ]
       ],
       "datasetInfos": [],
       "dbfsResultPath": null,
       "isJsonSchema": true,
       "metadata": {
        "isDbfsCommandResult": false
       },
       "overflow": false,
       "plotOptions": {
        "customPlotOptions": {},
        "displayType": "table",
        "pivotAggregation": null,
        "pivotColumns": null,
        "xColumns": null,
        "yColumns": null
       },
       "removedWidgets": [],
       "schema": [
        {
         "metadata": "{}",
         "name": "database",
         "type": "\"string\""
        },
        {
         "metadata": "{}",
         "name": "tableName",
         "type": "\"string\""
        },
        {
         "metadata": "{}",
         "name": "isTemporary",
         "type": "\"boolean\""
        }
       ],
       "type": "table"
      }
     },
     "output_type": "display_data"
    }
   ],
   "source": [
    "SHOW TABLES;"
   ]
  },
  {
   "cell_type": "markdown",
   "metadata": {
    "application/vnd.databricks.v1+cell": {
     "cellMetadata": {
      "byteLimit": 2048000,
      "rowLimit": 10000
     },
     "inputWidgets": {},
     "nuid": "095bcac9-19d3-4063-a3b4-d9ecb977d136",
     "showTitle": false,
     "tableResultSettingsMap": {},
     "title": ""
    }
   },
   "source": [
    "\n",
    "## C. Review the user_lookup table data\n",
    "\n",
    "Run the following query to view the **user_lookup** table. Notice that the table contains an **alt_id** column, as well as **device_id**, **mac_address**, and **user_id**.\n"
   ]
  },
  {
   "cell_type": "code",
   "execution_count": 0,
   "metadata": {
    "application/vnd.databricks.v1+cell": {
     "cellMetadata": {
      "byteLimit": 2048000,
      "rowLimit": 10000
     },
     "inputWidgets": {},
     "nuid": "b828ce38-5631-4edc-bbf2-d6f1cab53107",
     "showTitle": false,
     "tableResultSettingsMap": {},
     "title": ""
    }
   },
   "outputs": [
    {
     "output_type": "display_data",
     "data": {
      "text/html": [
       "<style scoped>\n",
       "  .table-result-container {\n",
       "    max-height: 300px;\n",
       "    overflow: auto;\n",
       "  }\n",
       "  table, th, td {\n",
       "    border: 1px solid black;\n",
       "    border-collapse: collapse;\n",
       "  }\n",
       "  th, td {\n",
       "    padding: 5px;\n",
       "  }\n",
       "  th {\n",
       "    text-align: left;\n",
       "  }\n",
       "</style><div class='table-result-container'><table class='table-result'><thead style='background-color: white'><tr><th>alt_id</th><th>device_id</th><th>mac_address</th><th>user_id</th></tr></thead><tbody><tr><td>745c35775cfdf69e9a190c26a173285712c1929c5faa5087ce2855e9043b33f4</td><td>190960</td><td>14:cd:d6:db:70:f6</td><td>11745</td></tr><tr><td>a610459add89c3c6a1de87bf8beaa4aee317564837e8d0247852004197e7d8cc</td><td>141687</td><td>ae:ec:f6:48:ca:f7</td><td>12140</td></tr><tr><td>c3274e338a1da85e0748f6c9c92247e176044770f4e39637a4c4d4b348191fcf</td><td>114131</td><td>57:24:ac:8c:75:ea</td><td>12227</td></tr><tr><td>e6a6387ffbb75e14eb39b138be1e7e9b8a6687e66c36865bf6e234d6688dd517</td><td>118440</td><td>4c:c5:9f:cb:13:bd</td><td>12474</td></tr><tr><td>898fa1b7f7057b1b17bca1342b4341b7d84e228d6d9bb83a7a770c4d487ebc4b</td><td>109290</td><td>36:1f:d9:d3:e8:0d</td><td>13559</td></tr><tr><td>e83442f287db35be0374a66e2253ab5c119417b0e559554291ac2af8f7f5809f</td><td>143442</td><td>dd:96:be:e9:1e:f4</td><td>13937</td></tr><tr><td>71324d786c7f10bd56edf127946a934016c65ff515c47f4d6ea5d233d5cae66a</td><td>172965</td><td>dd:45:d2:37:a8:0e</td><td>14232</td></tr><tr><td>a6f9678bccb4d7e7bc0ba5afbe9ba83c154889506173f51c1d55bc19c115bec6</td><td>102558</td><td>df:f9:dc:5e:e2:a8</td><td>14508</td></tr><tr><td>8bdbabab0376e9bc29748fd75ba8b669e9947dbcb0ee492a32a4d5c1b604321f</td><td>175406</td><td>1d:69:69:75:d0:aa</td><td>14633</td></tr><tr><td>54c9a8be55ad6b77cc376ef3638fc4af1ae1961685edd4cd986a5376c46bc67f</td><td>177966</td><td>de:c0:cd:a7:71:f4</td><td>15149</td></tr></tbody></table></div>"
      ]
     },
     "metadata": {
      "application/vnd.databricks.v1+output": {
       "addedWidgets": {},
       "aggData": [],
       "aggError": "",
       "aggOverflow": false,
       "aggSchema": [],
       "aggSeriesLimitReached": false,
       "aggType": "",
       "arguments": {},
       "columnCustomDisplayInfos": {},
       "data": [
        [
         "745c35775cfdf69e9a190c26a173285712c1929c5faa5087ce2855e9043b33f4",
         190960,
         "14:cd:d6:db:70:f6",
         11745
        ],
        [
         "a610459add89c3c6a1de87bf8beaa4aee317564837e8d0247852004197e7d8cc",
         141687,
         "ae:ec:f6:48:ca:f7",
         12140
        ],
        [
         "c3274e338a1da85e0748f6c9c92247e176044770f4e39637a4c4d4b348191fcf",
         114131,
         "57:24:ac:8c:75:ea",
         12227
        ],
        [
         "e6a6387ffbb75e14eb39b138be1e7e9b8a6687e66c36865bf6e234d6688dd517",
         118440,
         "4c:c5:9f:cb:13:bd",
         12474
        ],
        [
         "898fa1b7f7057b1b17bca1342b4341b7d84e228d6d9bb83a7a770c4d487ebc4b",
         109290,
         "36:1f:d9:d3:e8:0d",
         13559
        ],
        [
         "e83442f287db35be0374a66e2253ab5c119417b0e559554291ac2af8f7f5809f",
         143442,
         "dd:96:be:e9:1e:f4",
         13937
        ],
        [
         "71324d786c7f10bd56edf127946a934016c65ff515c47f4d6ea5d233d5cae66a",
         172965,
         "dd:45:d2:37:a8:0e",
         14232
        ],
        [
         "a6f9678bccb4d7e7bc0ba5afbe9ba83c154889506173f51c1d55bc19c115bec6",
         102558,
         "df:f9:dc:5e:e2:a8",
         14508
        ],
        [
         "8bdbabab0376e9bc29748fd75ba8b669e9947dbcb0ee492a32a4d5c1b604321f",
         175406,
         "1d:69:69:75:d0:aa",
         14633
        ],
        [
         "54c9a8be55ad6b77cc376ef3638fc4af1ae1961685edd4cd986a5376c46bc67f",
         177966,
         "de:c0:cd:a7:71:f4",
         15149
        ]
       ],
       "datasetInfos": [],
       "dbfsResultPath": null,
       "isJsonSchema": true,
       "metadata": {
        "isDbfsCommandResult": false
       },
       "overflow": false,
       "plotOptions": {
        "customPlotOptions": {},
        "displayType": "table",
        "pivotAggregation": null,
        "pivotColumns": null,
        "xColumns": null,
        "yColumns": null
       },
       "removedWidgets": [],
       "schema": [
        {
         "metadata": "{}",
         "name": "alt_id",
         "type": "\"string\""
        },
        {
         "metadata": "{}",
         "name": "device_id",
         "type": "\"long\""
        },
        {
         "metadata": "{}",
         "name": "mac_address",
         "type": "\"string\""
        },
        {
         "metadata": "{}",
         "name": "user_id",
         "type": "\"long\""
        }
       ],
       "type": "table"
      }
     },
     "output_type": "display_data"
    }
   ],
   "source": [
    "SELECT *\n",
    "FROM user_lookup\n",
    "LIMIT 10;"
   ]
  },
  {
   "cell_type": "markdown",
   "metadata": {
    "application/vnd.databricks.v1+cell": {
     "cellMetadata": {
      "byteLimit": 2048000,
      "rowLimit": 10000
     },
     "inputWidgets": {},
     "nuid": "126f9e12-d894-414e-9dde-b31eb71bb43b",
     "showTitle": false,
     "tableResultSettingsMap": {},
     "title": ""
    }
   },
   "source": [
    "\n",
    "## D. Enable CDF for the user_lookup table\n",
    "\n",
    "Enable change data feed on the **user_lookup** table.\n",
    "\n",
    "**HINT:** Use the `ALTER TABLE` and `SET TBLPROPERTIES` to activate CDF. View the [Enable change data feed](https://docs.databricks.com/en/delta/delta-change-data-feed.html#enable-change-data-feed) documentation for more information.\n"
   ]
  },
  {
   "cell_type": "code",
   "execution_count": 0,
   "metadata": {
    "application/vnd.databricks.v1+cell": {
     "cellMetadata": {
      "byteLimit": 2048000,
      "rowLimit": 10000
     },
     "inputWidgets": {},
     "nuid": "abe9fc03-d1f3-468f-83f9-df34ac116727",
     "showTitle": false,
     "tableResultSettingsMap": {},
     "title": ""
    }
   },
   "outputs": [
    {
     "output_type": "display_data",
     "data": {
      "text/html": [
       "<style scoped>\n",
       "  .table-result-container {\n",
       "    max-height: 300px;\n",
       "    overflow: auto;\n",
       "  }\n",
       "  table, th, td {\n",
       "    border: 1px solid black;\n",
       "    border-collapse: collapse;\n",
       "  }\n",
       "  th, td {\n",
       "    padding: 5px;\n",
       "  }\n",
       "  th {\n",
       "    text-align: left;\n",
       "  }\n",
       "</style><div class='table-result-container'><table class='table-result'><thead style='background-color: white'><tr></tr></thead><tbody></tbody></table></div>"
      ]
     },
     "metadata": {
      "application/vnd.databricks.v1+output": {
       "addedWidgets": {},
       "aggData": [],
       "aggError": "",
       "aggOverflow": false,
       "aggSchema": [],
       "aggSeriesLimitReached": false,
       "aggType": "",
       "arguments": {},
       "columnCustomDisplayInfos": {},
       "data": [],
       "datasetInfos": [],
       "dbfsResultPath": null,
       "isJsonSchema": true,
       "metadata": {
        "isDbfsCommandResult": false
       },
       "overflow": false,
       "plotOptions": {
        "customPlotOptions": {},
        "displayType": "table",
        "pivotAggregation": null,
        "pivotColumns": null,
        "xColumns": null,
        "yColumns": null
       },
       "removedWidgets": [],
       "schema": [],
       "type": "table"
      }
     },
     "output_type": "display_data"
    }
   ],
   "source": [
    "ALTER TABLE user_lookup                              -- Table Name\n",
    "SET TBLPROPERTIES (delta.enableChangeDataFeed=True)  -- property = True"
   ]
  },
  {
   "cell_type": "markdown",
   "metadata": {
    "application/vnd.databricks.v1+cell": {
     "cellMetadata": {
      "byteLimit": 2048000,
      "rowLimit": 10000
     },
     "inputWidgets": {},
     "nuid": "7ffd4676-1081-4b31-87e9-298df8743204",
     "showTitle": false,
     "tableResultSettingsMap": {},
     "title": ""
    }
   },
   "source": [
    "\n",
    "## E. Confirm CDF is enabled on user_lookup table\n",
    "\n",
    "**HINT**: Use the `DESCRIBE TABLE EXTENDED` statement to view information about the **user_lookup** table. Scroll to the bottom of the results and view the *Table Properties* row. Confirm that this table has `delta.enableChangeDataFeed` activated.\n",
    "\n"
   ]
  },
  {
   "cell_type": "code",
   "execution_count": 0,
   "metadata": {
    "application/vnd.databricks.v1+cell": {
     "cellMetadata": {
      "byteLimit": 2048000,
      "rowLimit": 10000
     },
     "inputWidgets": {},
     "nuid": "633a69ee-266d-4888-8e15-49c69b0a8b05",
     "showTitle": false,
     "tableResultSettingsMap": {},
     "title": ""
    }
   },
   "outputs": [
    {
     "output_type": "display_data",
     "data": {
      "text/html": [
       "<style scoped>\n",
       "  .table-result-container {\n",
       "    max-height: 300px;\n",
       "    overflow: auto;\n",
       "  }\n",
       "  table, th, td {\n",
       "    border: 1px solid black;\n",
       "    border-collapse: collapse;\n",
       "  }\n",
       "  th, td {\n",
       "    padding: 5px;\n",
       "  }\n",
       "  th {\n",
       "    text-align: left;\n",
       "  }\n",
       "</style><div class='table-result-container'><table class='table-result'><thead style='background-color: white'><tr><th>col_name</th><th>data_type</th><th>comment</th></tr></thead><tbody><tr><td>alt_id</td><td>string</td><td>null</td></tr><tr><td>device_id</td><td>bigint</td><td>null</td></tr><tr><td>mac_address</td><td>string</td><td>null</td></tr><tr><td>user_id</td><td>bigint</td><td>null</td></tr><tr><td></td><td></td><td></td></tr><tr><td># Delta Statistics Columns</td><td></td><td></td></tr><tr><td>Column Names</td><td>alt_id, device_id, mac_address, user_id</td><td></td></tr><tr><td>Column Selection Method</td><td>first-32</td><td></td></tr><tr><td></td><td></td><td></td></tr><tr><td># Detailed Table Information</td><td></td><td></td></tr><tr><td>Catalog</td><td>labuser10747597_1750981120</td><td></td></tr><tr><td>Database</td><td>cdf_lab</td><td></td></tr><tr><td>Table</td><td>user_lookup</td><td></td></tr><tr><td>Created Time</td><td>Fri Jun 27 00:19:34 UTC 2025</td><td></td></tr><tr><td>Last Access</td><td>UNKNOWN</td><td></td></tr><tr><td>Created By</td><td>Spark </td><td></td></tr><tr><td>Type</td><td>MANAGED</td><td></td></tr><tr><td>Location</td><td>s3://unity-catalogs-us-west-2/metastore/3744366-root/37ad1af5-c6ea-4229-9663-94e8e169718e/tables/96a2c62a-6414-43e7-859d-9494d4e17f11</td><td></td></tr><tr><td>Provider</td><td>delta</td><td></td></tr><tr><td>Owner</td><td>labuser10747597_1750981120@vocareum.com</td><td></td></tr><tr><td>Is_managed_location</td><td>true</td><td></td></tr><tr><td>Predictive Optimization</td><td>ENABLE (inherited from METASTORE 3744366-us-west-2)</td><td></td></tr><tr><td>Table Properties</td><td>[delta.enableChangeDataFeed=true,delta.enableDeletionVectors=true,delta.feature.changeDataFeed=supported,delta.feature.deletionVectors=supported,delta.minReaderVersion=3,delta.minWriterVersion=7]</td><td></td></tr></tbody></table></div>"
      ]
     },
     "metadata": {
      "application/vnd.databricks.v1+output": {
       "addedWidgets": {},
       "aggData": [],
       "aggError": "",
       "aggOverflow": false,
       "aggSchema": [],
       "aggSeriesLimitReached": false,
       "aggType": "",
       "arguments": {},
       "columnCustomDisplayInfos": {},
       "data": [
        [
         "alt_id",
         "string",
         null
        ],
        [
         "device_id",
         "bigint",
         null
        ],
        [
         "mac_address",
         "string",
         null
        ],
        [
         "user_id",
         "bigint",
         null
        ],
        [
         "",
         "",
         ""
        ],
        [
         "# Delta Statistics Columns",
         "",
         ""
        ],
        [
         "Column Names",
         "alt_id, device_id, mac_address, user_id",
         ""
        ],
        [
         "Column Selection Method",
         "first-32",
         ""
        ],
        [
         "",
         "",
         ""
        ],
        [
         "# Detailed Table Information",
         "",
         ""
        ],
        [
         "Catalog",
         "labuser10747597_1750981120",
         ""
        ],
        [
         "Database",
         "cdf_lab",
         ""
        ],
        [
         "Table",
         "user_lookup",
         ""
        ],
        [
         "Created Time",
         "Fri Jun 27 00:19:34 UTC 2025",
         ""
        ],
        [
         "Last Access",
         "UNKNOWN",
         ""
        ],
        [
         "Created By",
         "Spark ",
         ""
        ],
        [
         "Type",
         "MANAGED",
         ""
        ],
        [
         "Location",
         "s3://unity-catalogs-us-west-2/metastore/3744366-root/37ad1af5-c6ea-4229-9663-94e8e169718e/tables/96a2c62a-6414-43e7-859d-9494d4e17f11",
         ""
        ],
        [
         "Provider",
         "delta",
         ""
        ],
        [
         "Owner",
         "labuser10747597_1750981120@vocareum.com",
         ""
        ],
        [
         "Is_managed_location",
         "true",
         ""
        ],
        [
         "Predictive Optimization",
         "ENABLE (inherited from METASTORE 3744366-us-west-2)",
         ""
        ],
        [
         "Table Properties",
         "[delta.enableChangeDataFeed=true,delta.enableDeletionVectors=true,delta.feature.changeDataFeed=supported,delta.feature.deletionVectors=supported,delta.minReaderVersion=3,delta.minWriterVersion=7]",
         ""
        ]
       ],
       "datasetInfos": [],
       "dbfsResultPath": null,
       "isJsonSchema": true,
       "metadata": {
        "isDbfsCommandResult": false
       },
       "overflow": false,
       "plotOptions": {
        "customPlotOptions": {},
        "displayType": "table",
        "pivotAggregation": null,
        "pivotColumns": null,
        "xColumns": null,
        "yColumns": null
       },
       "removedWidgets": [],
       "schema": [
        {
         "metadata": "{\"comment\":\"name of the column\"}",
         "name": "col_name",
         "type": "\"string\""
        },
        {
         "metadata": "{\"comment\":\"data type of the column\"}",
         "name": "data_type",
         "type": "\"string\""
        },
        {
         "metadata": "{\"comment\":\"comment of the column\"}",
         "name": "comment",
         "type": "\"string\""
        }
       ],
       "type": "table"
      }
     },
     "output_type": "display_data"
    }
   ],
   "source": [
    "DESCRIBE TABLE EXTENDED user_lookup;"
   ]
  },
  {
   "cell_type": "markdown",
   "metadata": {
    "application/vnd.databricks.v1+cell": {
     "cellMetadata": {
      "byteLimit": 2048000,
      "rowLimit": 10000
     },
     "inputWidgets": {},
     "nuid": "7307fbb2-9e1a-41b6-96f9-e6601f0f581d",
     "showTitle": false,
     "tableResultSettingsMap": {},
     "title": ""
    }
   },
   "source": [
    "\n",
    "## F. View user_lookup table History\n",
    "\n",
    "Enabling CDF generates a new entry in the table's history.\n",
    "\n",
    "\n",
    "View the history of the **user_lookup** table. Confirm the entry is in the history of the **user_lookup** table as version `1` and that the **operation** column has updated the *SET TBLPROPERTIES*. \n"
   ]
  },
  {
   "cell_type": "code",
   "execution_count": 0,
   "metadata": {
    "application/vnd.databricks.v1+cell": {
     "cellMetadata": {
      "byteLimit": 2048000,
      "rowLimit": 10000
     },
     "inputWidgets": {},
     "nuid": "636f6bda-a5d6-4875-a048-f93893afadda",
     "showTitle": false,
     "tableResultSettingsMap": {},
     "title": ""
    }
   },
   "outputs": [
    {
     "output_type": "display_data",
     "data": {
      "text/html": [
       "<style scoped>\n",
       "  .table-result-container {\n",
       "    max-height: 300px;\n",
       "    overflow: auto;\n",
       "  }\n",
       "  table, th, td {\n",
       "    border: 1px solid black;\n",
       "    border-collapse: collapse;\n",
       "  }\n",
       "  th, td {\n",
       "    padding: 5px;\n",
       "  }\n",
       "  th {\n",
       "    text-align: left;\n",
       "  }\n",
       "</style><div class='table-result-container'><table class='table-result'><thead style='background-color: white'><tr><th>version</th><th>timestamp</th><th>userId</th><th>userName</th><th>operation</th><th>operationParameters</th><th>job</th><th>notebook</th><th>clusterId</th><th>readVersion</th><th>isolationLevel</th><th>isBlindAppend</th><th>operationMetrics</th><th>userMetadata</th><th>engineInfo</th></tr></thead><tbody><tr><td>1</td><td>2025-06-27T00:19:41Z</td><td>3304343146826341</td><td>labuser10747597_1750981120@vocareum.com</td><td>SET TBLPROPERTIES</td><td>Map(properties -> {\"delta.enableChangeDataFeed\":\"true\"})</td><td>null</td><td>List(3913647707152642)</td><td>0626-233939-2sqbphck</td><td>0</td><td>WriteSerializable</td><td>true</td><td>Map()</td><td>null</td><td>Databricks-Runtime/15.4.x-scala2.12</td></tr><tr><td>0</td><td>2025-06-27T00:19:34Z</td><td>3304343146826341</td><td>labuser10747597_1750981120@vocareum.com</td><td>CREATE OR REPLACE TABLE AS SELECT</td><td>Map(partitionBy -> [], clusterBy -> [], description -> null, isManaged -> true, properties -> {\"delta.enableDeletionVectors\":\"true\"}, statsOnLoad -> false)</td><td>null</td><td>List(3913647707152642)</td><td>0626-233939-2sqbphck</td><td>null</td><td>WriteSerializable</td><td>false</td><td>Map(numFiles -> 4, numOutputRows -> 100, numOutputBytes -> 16520)</td><td>null</td><td>Databricks-Runtime/15.4.x-scala2.12</td></tr></tbody></table></div>"
      ]
     },
     "metadata": {
      "application/vnd.databricks.v1+output": {
       "addedWidgets": {},
       "aggData": [],
       "aggError": "",
       "aggOverflow": false,
       "aggSchema": [],
       "aggSeriesLimitReached": false,
       "aggType": "",
       "arguments": {},
       "columnCustomDisplayInfos": {},
       "data": [
        [
         1,
         "2025-06-27T00:19:41Z",
         "3304343146826341",
         "labuser10747597_1750981120@vocareum.com",
         "SET TBLPROPERTIES",
         {
          "properties": "{\"delta.enableChangeDataFeed\":\"true\"}"
         },
         null,
         [
          "3913647707152642"
         ],
         "0626-233939-2sqbphck",
         0,
         "WriteSerializable",
         true,
         {},
         null,
         "Databricks-Runtime/15.4.x-scala2.12"
        ],
        [
         0,
         "2025-06-27T00:19:34Z",
         "3304343146826341",
         "labuser10747597_1750981120@vocareum.com",
         "CREATE OR REPLACE TABLE AS SELECT",
         {
          "clusterBy": "[]",
          "description": null,
          "isManaged": "true",
          "partitionBy": "[]",
          "properties": "{\"delta.enableDeletionVectors\":\"true\"}",
          "statsOnLoad": "false"
         },
         null,
         [
          "3913647707152642"
         ],
         "0626-233939-2sqbphck",
         null,
         "WriteSerializable",
         false,
         {
          "numFiles": "4",
          "numOutputBytes": "16520",
          "numOutputRows": "100"
         },
         null,
         "Databricks-Runtime/15.4.x-scala2.12"
        ]
       ],
       "datasetInfos": [],
       "dbfsResultPath": null,
       "isJsonSchema": true,
       "metadata": {
        "isDbfsCommandResult": false
       },
       "overflow": false,
       "plotOptions": {
        "customPlotOptions": {},
        "displayType": "table",
        "pivotAggregation": null,
        "pivotColumns": null,
        "xColumns": null,
        "yColumns": null
       },
       "removedWidgets": [],
       "schema": [
        {
         "metadata": "{}",
         "name": "version",
         "type": "\"long\""
        },
        {
         "metadata": "{}",
         "name": "timestamp",
         "type": "\"timestamp\""
        },
        {
         "metadata": "{}",
         "name": "userId",
         "type": "\"string\""
        },
        {
         "metadata": "{}",
         "name": "userName",
         "type": "\"string\""
        },
        {
         "metadata": "{}",
         "name": "operation",
         "type": "\"string\""
        },
        {
         "metadata": "{}",
         "name": "operationParameters",
         "type": "{\"type\":\"map\",\"keyType\":\"string\",\"valueType\":\"string\",\"valueContainsNull\":true}"
        },
        {
         "metadata": "{}",
         "name": "job",
         "type": "{\"type\":\"struct\",\"fields\":[{\"name\":\"jobId\",\"type\":\"string\",\"nullable\":true,\"metadata\":{}},{\"name\":\"jobName\",\"type\":\"string\",\"nullable\":true,\"metadata\":{}},{\"name\":\"jobRunId\",\"type\":\"string\",\"nullable\":true,\"metadata\":{}},{\"name\":\"runId\",\"type\":\"string\",\"nullable\":true,\"metadata\":{}},{\"name\":\"jobOwnerId\",\"type\":\"string\",\"nullable\":true,\"metadata\":{}},{\"name\":\"triggerType\",\"type\":\"string\",\"nullable\":true,\"metadata\":{}}]}"
        },
        {
         "metadata": "{}",
         "name": "notebook",
         "type": "{\"type\":\"struct\",\"fields\":[{\"name\":\"notebookId\",\"type\":\"string\",\"nullable\":true,\"metadata\":{}}]}"
        },
        {
         "metadata": "{}",
         "name": "clusterId",
         "type": "\"string\""
        },
        {
         "metadata": "{}",
         "name": "readVersion",
         "type": "\"long\""
        },
        {
         "metadata": "{}",
         "name": "isolationLevel",
         "type": "\"string\""
        },
        {
         "metadata": "{}",
         "name": "isBlindAppend",
         "type": "\"boolean\""
        },
        {
         "metadata": "{}",
         "name": "operationMetrics",
         "type": "{\"type\":\"map\",\"keyType\":\"string\",\"valueType\":\"string\",\"valueContainsNull\":true}"
        },
        {
         "metadata": "{}",
         "name": "userMetadata",
         "type": "\"string\""
        },
        {
         "metadata": "{}",
         "name": "engineInfo",
         "type": "\"string\""
        }
       ],
       "type": "table"
      }
     },
     "output_type": "display_data"
    }
   ],
   "source": [
    "DESCRIBE HISTORY user_lookup;"
   ]
  },
  {
   "cell_type": "markdown",
   "metadata": {
    "application/vnd.databricks.v1+cell": {
     "cellMetadata": {
      "byteLimit": 2048000,
      "rowLimit": 10000
     },
     "inputWidgets": {},
     "nuid": "2f2bf7b3-1f5e-4b88-a3e8-84a410921b2a",
     "showTitle": false,
     "tableResultSettingsMap": {},
     "title": ""
    }
   },
   "source": [
    "\n",
    "## G. Delete a record from user_lookup table\n",
    "\n"
   ]
  },
  {
   "cell_type": "markdown",
   "metadata": {
    "application/vnd.databricks.v1+cell": {
     "cellMetadata": {
      "byteLimit": 2048000,
      "rowLimit": 10000
     },
     "inputWidgets": {},
     "nuid": "beebb1ea-cedc-453a-aa61-ff04785af3b5",
     "showTitle": false,
     "tableResultSettingsMap": {},
     "title": ""
    }
   },
   "source": [
    "### G1. Query and pick a record from the User Lookup table\n",
    "\n",
    "Run the query below and pick a **user_id** value to use in the next section. Notice that there are 100 records in the **user_lookup** table."
   ]
  },
  {
   "cell_type": "code",
   "execution_count": 0,
   "metadata": {
    "application/vnd.databricks.v1+cell": {
     "cellMetadata": {
      "byteLimit": 2048000,
      "rowLimit": 10000
     },
     "inputWidgets": {},
     "nuid": "d26e9e29-0b3b-46ed-ab42-8f89cc06ec1c",
     "showTitle": false,
     "tableResultSettingsMap": {},
     "title": ""
    }
   },
   "outputs": [
    {
     "output_type": "display_data",
     "data": {
      "text/html": [
       "<style scoped>\n",
       "  .table-result-container {\n",
       "    max-height: 300px;\n",
       "    overflow: auto;\n",
       "  }\n",
       "  table, th, td {\n",
       "    border: 1px solid black;\n",
       "    border-collapse: collapse;\n",
       "  }\n",
       "  th, td {\n",
       "    padding: 5px;\n",
       "  }\n",
       "  th {\n",
       "    text-align: left;\n",
       "  }\n",
       "</style><div class='table-result-container'><table class='table-result'><thead style='background-color: white'><tr><th>alt_id</th><th>device_id</th><th>mac_address</th><th>user_id</th></tr></thead><tbody><tr><td>745c35775cfdf69e9a190c26a173285712c1929c5faa5087ce2855e9043b33f4</td><td>190960</td><td>14:cd:d6:db:70:f6</td><td>11745</td></tr><tr><td>a610459add89c3c6a1de87bf8beaa4aee317564837e8d0247852004197e7d8cc</td><td>141687</td><td>ae:ec:f6:48:ca:f7</td><td>12140</td></tr><tr><td>c3274e338a1da85e0748f6c9c92247e176044770f4e39637a4c4d4b348191fcf</td><td>114131</td><td>57:24:ac:8c:75:ea</td><td>12227</td></tr><tr><td>e6a6387ffbb75e14eb39b138be1e7e9b8a6687e66c36865bf6e234d6688dd517</td><td>118440</td><td>4c:c5:9f:cb:13:bd</td><td>12474</td></tr><tr><td>898fa1b7f7057b1b17bca1342b4341b7d84e228d6d9bb83a7a770c4d487ebc4b</td><td>109290</td><td>36:1f:d9:d3:e8:0d</td><td>13559</td></tr><tr><td>e83442f287db35be0374a66e2253ab5c119417b0e559554291ac2af8f7f5809f</td><td>143442</td><td>dd:96:be:e9:1e:f4</td><td>13937</td></tr><tr><td>71324d786c7f10bd56edf127946a934016c65ff515c47f4d6ea5d233d5cae66a</td><td>172965</td><td>dd:45:d2:37:a8:0e</td><td>14232</td></tr><tr><td>a6f9678bccb4d7e7bc0ba5afbe9ba83c154889506173f51c1d55bc19c115bec6</td><td>102558</td><td>df:f9:dc:5e:e2:a8</td><td>14508</td></tr><tr><td>8bdbabab0376e9bc29748fd75ba8b669e9947dbcb0ee492a32a4d5c1b604321f</td><td>175406</td><td>1d:69:69:75:d0:aa</td><td>14633</td></tr><tr><td>54c9a8be55ad6b77cc376ef3638fc4af1ae1961685edd4cd986a5376c46bc67f</td><td>177966</td><td>de:c0:cd:a7:71:f4</td><td>15149</td></tr><tr><td>48413178107e7ce80cd8ad7ddb7b50a2ef9b8d9109e0391f79ce914e9d1d14d6</td><td>198867</td><td>4c:53:51:88:59:ab</td><td>16093</td></tr><tr><td>6b46105aab33210a8430dfc605c034c9f14b7a5bdc53023f2196c214762b3921</td><td>144334</td><td>cd:53:ec:b5:60:49</td><td>16819</td></tr><tr><td>0d26f72ab63e5564c97a3c9d8eb77b22ffb1e1bde0ecd5781af4cf79d537be33</td><td>117058</td><td>08:87:1c:9c:c7:a9</td><td>17217</td></tr><tr><td>c375e4b6624769bc9810362d8d615174eaa532b8818c093934af8e088b93352a</td><td>112008</td><td>c8:45:8f:77:34:24</td><td>17807</td></tr><tr><td>d69601f8b2daa4176fa1d262de48bd4d54a7d5ca0e5ca121a779cd0a3f2cff8b</td><td>178310</td><td>28:82:3d:8c:d6:f8</td><td>18587</td></tr><tr><td>d5671b518173cf5bf1dbdf634bb500984acf040bd5250c944bb46b848c601b85</td><td>163871</td><td>88:6c:c1:66:9b:cc</td><td>19005</td></tr><tr><td>0cac08c9ce7ea9534718f6f1047ed792015f9dc5aecc2e121e4c80c68ae7bb64</td><td>137867</td><td>c2:64:cf:45:ea:01</td><td>19103</td></tr><tr><td>ba4f45d7a2d2df344cfdeecf9d2417eb6cf4a97ffc7f03d0acfdec510ebf4c37</td><td>122561</td><td>94:00:e8:3a:9f:a4</td><td>19150</td></tr><tr><td>5ce6620b7c357cd69446a87f463a4c40b100364e706a661dcec12390b9852d53</td><td>181512</td><td>de:34:11:f4:90:2d</td><td>19198</td></tr><tr><td>a2ce1436d4cd2e4376dfa1afe92140148835e6e19a6b523c611f2af6e6d48b28</td><td>179752</td><td>be:f6:e8:c8:07:e7</td><td>19548</td></tr><tr><td>8eb9a08411fac3e94fc6ca6daadc6063355653c99d9556d4956fb6b6960d3125</td><td>113809</td><td>1d:f9:5b:33:df:2d</td><td>19622</td></tr><tr><td>73001aebb56c459e295c092d9f5c31355eb462fbd100c670fa48c67510a302ab</td><td>141144</td><td>f8:cf:20:eb:a4:47</td><td>19787</td></tr><tr><td>b6f66a657af52e7490a825eed37cbb9894064e04f29d419f7f1f786b98046391</td><td>119715</td><td>d0:30:3f:ef:7d:89</td><td>19859</td></tr><tr><td>2af970fb2c6d514d11c4738f07306469b05681eb57817b1ad1566ce85a7676e1</td><td>154059</td><td>5e:0c:01:09:00:cf</td><td>19888</td></tr><tr><td>947c62862fee6f044848b06b376e3e0555f6fdac746456a28dd011a964d6ae57</td><td>126186</td><td>83:17:18:59:17:76</td><td>20217</td></tr><tr><td>bf89f14b9b61eb3369399515152f55c944de897791ff42e5d1ef9305ad2da394</td><td>183816</td><td>e5:a8:d5:73:cf:33</td><td>29213</td></tr><tr><td>ac18a7a9aea94ea019452727c55204c949a6055f3f0ebba3852260f9bab729bd</td><td>178189</td><td>e5:43:81:e0:5e:cb</td><td>29745</td></tr><tr><td>886f1bdac99a41378ec91389e91c1f4d8033e5cd61084223d9ca95807d812a55</td><td>113024</td><td>72:2f:58:79:1b:6a</td><td>30088</td></tr><tr><td>5bca0b934b0807a31f51e1b93c2ba2932e34c4ae29eb972b2c0b94c9047d992b</td><td>154423</td><td>e3:ee:d9:6f:65:30</td><td>30514</td></tr><tr><td>9ac4a92a8ad072a8c613708fa3dada52f430ead19466922536403464f16c5f48</td><td>113570</td><td>46:30:9c:da:50:a7</td><td>30612</td></tr><tr><td>57098cb66f100853a15a02d5c48aed34954298c0f6b8a974937edd861a8b1373</td><td>112473</td><td>51:57:36:c2:45:ab</td><td>31057</td></tr><tr><td>8a5876de067c1386bdb74084a16d2c7f2f18fbdee589ffe73c0ceb4f38eb5922</td><td>172633</td><td>d5:ed:0b:e5:b7:00</td><td>31362</td></tr><tr><td>c65fc3b744666216a6d3f3d23686cbcd95c823368c132f05314d9ecac587b170</td><td>182045</td><td>f7:a1:8d:26:c4:4b</td><td>32018</td></tr><tr><td>4a63161d94e3318c38193842d17054d239dc9b9261ea1cbac66de86f30285214</td><td>155604</td><td>c9:a1:30:cb:86:c6</td><td>33733</td></tr><tr><td>8e53b301a9819419b49d4315fe9c95fd752e2d72a94820f89f1acd4d14eb560f</td><td>126126</td><td>e4:2c:d4:ea:e4:b4</td><td>33987</td></tr><tr><td>ac2bdd6fb77613c084683bebdb9bf5f131418174a7b705b9d90e360d34eb79bf</td><td>124880</td><td>54:bf:e4:40:52:b9</td><td>34740</td></tr><tr><td>1a19d87491f89887dd0dd3d79d7424247bfb3c5fc5ef5a632ca16c26f82c394c</td><td>107952</td><td>00:6c:6c:53:51:ef</td><td>35226</td></tr><tr><td>096d49b07b21d1443ad4a835a87c834fa284468d72ffb87e730dcf734db5abd4</td><td>197694</td><td>76:0a:93:d6:2a:85</td><td>35428</td></tr><tr><td>6ba11fc3885526ddba3b6bda07d5826307b7083e5451ea6f091ebd8ebb5df9f8</td><td>180111</td><td>c3:3e:16:08:f9:47</td><td>35728</td></tr><tr><td>e5355dd0856aaf1b71cef63a62613d72f58467e0e102d871e4b700323a59b8f7</td><td>101589</td><td>3b:9d:88:8e:ec:3d</td><td>36066</td></tr><tr><td>c8af87ecdf5b41e60f46d85ee24c8189bd643a4540d26c59d3ee5c36098fa4de</td><td>110367</td><td>8b:5b:b5:8b:be:d5</td><td>36117</td></tr><tr><td>f77a5f0c87d8c4114be62db6adef9d88d1979c5ad5cd43205667540939928d3f</td><td>178516</td><td>f5:69:09:4e:dd:2d</td><td>36164</td></tr><tr><td>e8a0581852fadf7d7527dd345fbc34b828f30019915f042648999e54175339cc</td><td>130133</td><td>d2:6e:c7:bd:91:2a</td><td>36469</td></tr><tr><td>b8056cd4844bd4b278606f71e40545c1b93d5e8379207ee705ef560bc07158a3</td><td>130278</td><td>03:82:36:76:f2:46</td><td>36590</td></tr><tr><td>ca426039ab08642d25ef448bad89172dc6271366c4137c3003fe32d1cb300c44</td><td>197930</td><td>ed:19:90:40:76:6c</td><td>36644</td></tr><tr><td>7fde9776f2be9726369921eb480568b3e726110af056b36fe7a3ffdf4f9f6b79</td><td>161910</td><td>88:66:73:de:e8:61</td><td>37012</td></tr><tr><td>0a9c64223050770c9d2c720a803837ec28b001a437cd1d53f5fa6aafd0a5e002</td><td>134009</td><td>37:03:48:2d:d6:fc</td><td>38766</td></tr><tr><td>5d78cff0ca0f659e86ef1118bbf5b322731890ac20e0079fa799c44c80f1feff</td><td>169221</td><td>3a:95:59:f8:db:29</td><td>39676</td></tr><tr><td>cac9d03ade3b1054e30819a6a761118dfc7fb52d2b55a9b8b5877f628a6a1401</td><td>171753</td><td>f7:da:fa:03:f0:46</td><td>40177</td></tr><tr><td>43a9a48524fca3e47fd42d2669013c49c567cedeeb506d1fd7a751f75f1c8687</td><td>107089</td><td>53:38:e8:f9:2d:09</td><td>40559</td></tr><tr><td>7f704b7b0053aef6720144e0c32bf9481894b39c16607c23c998906ed28581d7</td><td>107008</td><td>a6:1e:b6:2c:68:27</td><td>20496</td></tr><tr><td>cd887f4d983dde497360264c66a28960b6f8d35fccc87aef39f661fb61f6b158</td><td>113029</td><td>5d:1e:8f:b3:f5:ad</td><td>21896</td></tr><tr><td>8ce057164dbf8cd11eb931128eb30707cecde30791620893f4f80f9a31bd611b</td><td>141792</td><td>6d:a7:cd:4a:ae:90</td><td>22480</td></tr><tr><td>ee806d2054496010b55c1be3a1669358e528faa98eb4c96325683335eb053e77</td><td>193528</td><td>3e:f5:66:62:af:5b</td><td>22501</td></tr><tr><td>b546a0d05fa1c47aa93fe2f3b7091d5100803bd318d3c8b077e3f3cc475cdf5b</td><td>105671</td><td>bd:97:dc:1f:ce:97</td><td>23250</td></tr><tr><td>d61f83cf21c535545b2b679f5c5f483e395d146c3a1f22e5c6705a1ceb5cc9c3</td><td>145614</td><td>93:d9:76:49:53:23</td><td>23767</td></tr><tr><td>14b6180e0982573e5faf0c426cd9862075f28f02274ef5db780d9a3683ac6974</td><td>122744</td><td>15:b4:60:dc:9d:65</td><td>23916</td></tr><tr><td>b3ce898d04bce048857c8dccc8bd3b437115c01a7dbdcdb97f738829a1785744</td><td>116708</td><td>db:c5:50:4d:55:90</td><td>24018</td></tr><tr><td>5cb9d8c61cdf59147530b03a67cce1b72a103657a35be61b5ca293473e76fa0d</td><td>158496</td><td>27:1e:f5:5d:2e:83</td><td>24863</td></tr><tr><td>c495b47a54d95311645cef71d286c41106fb6c364c00fb085e4f70fe9dd02779</td><td>190340</td><td>45:c0:4b:b5:8f:95</td><td>24968</td></tr><tr><td>7e0504eb0e145b999b39081c43ac2cc7f26ec9ba8e4b06d5337be256c28a72ba</td><td>156698</td><td>8b:a0:16:1e:31:89</td><td>25143</td></tr><tr><td>6ae2eb91031e5980c271eff64aeea2bf6c0127f380c0f93dd5077228c562bd61</td><td>122235</td><td>88:9c:3d:63:f0:a3</td><td>25477</td></tr><tr><td>0003f1837ee331d971fb1739220672ac5ba57ac7d974b18a747b54d114647da6</td><td>187047</td><td>0c:ee:7e:24:35:4f</td><td>26285</td></tr><tr><td>8c7a958028240ea16e7368fbca88f3b9846e8a6e059586fda5d5b0c7863b94aa</td><td>146645</td><td>3c:97:06:9e:63:9c</td><td>26847</td></tr><tr><td>c1d481a318d47d83198de1e96308341f9ef6f5a47292dccfdc000d4eefa9f3f6</td><td>196248</td><td>c0:96:82:ac:03:d9</td><td>27306</td></tr><tr><td>2f6d904bc5175d372a81c8a2f2931550cc1df2330b62216739f9e9fddfa4ec79</td><td>190471</td><td>84:0d:4e:44:eb:ae</td><td>27671</td></tr><tr><td>c7d80aeb1a9e7653dc13dadec6075e3e2a32f0226bfeac1968248b4c7164d8ab</td><td>145943</td><td>c7:12:d1:03:f1:76</td><td>27703</td></tr><tr><td>96907ad85a4bc7fc3245f1ca29b4fe7cf0d4c61ece6ec385382e9ff164fb5b51</td><td>114344</td><td>bc:54:fe:d7:1c:7d</td><td>27836</td></tr><tr><td>22cd18aa025b6e0b792b992b8ce7573c1a29a651cc72ed158c80daabbe660101</td><td>198332</td><td>f2:e1:1c:84:56:52</td><td>28359</td></tr><tr><td>cba874842f4dd76d361c730e6c6080f130d86f149c1f6faeaf3d0dc605c85d17</td><td>148312</td><td>34:12:9e:9c:72:28</td><td>28521</td></tr><tr><td>fad7615e297311025a0abe1b742aed061427ef01f8942c6e029cb2fc4ad887e6</td><td>169924</td><td>5e:1a:7a:82:f2:24</td><td>28588</td></tr><tr><td>8bb09f205d023251e392804a20a7294f5a424c9c295054c8f8f293c76dd205a5</td><td>161343</td><td>e6:de:fe:e2:2f:4d</td><td>28776</td></tr><tr><td>b7f89b0222f9d2f41413ab2570fb32aa8b2029f3c2a6280adc85efca33ddc266</td><td>147565</td><td>72:42:40:32:b7:3e</td><td>28814</td></tr><tr><td>0fabdd33422fa07ecacd79b4c8d0799897a404b8eb52b23996c2b40cf3b600bc</td><td>193806</td><td>53:b5:20:22:c4:4b</td><td>28938</td></tr><tr><td>56b4e728296213329ae705e16b91f5aaaa07cf3c6bc116cced4e3c6bc0f5fd1e</td><td>150485</td><td>3f:91:f8:2a:16:e4</td><td>29130</td></tr><tr><td>43e92394e04e05a79a6db09806d0cd800a08f03cefc429c31c800b2aeb33caa3</td><td>115643</td><td>1d:4d:65:b6:bd:59</td><td>40872</td></tr><tr><td>2e8ec9f76a8bf5e4d860e7c994983bfa7a2facf23a511440837cb716b5fb2b20</td><td>108769</td><td>e8:b3:af:4f:2d:4a</td><td>41192</td></tr><tr><td>0c2ae74ec7c5d1c07d300726ed6c55f1a5f01f505b215198b83721c7ca46fd11</td><td>151460</td><td>14:89:99:7f:53:9c</td><td>41367</td></tr><tr><td>caae89a762fd88b148a287292b5684963207dc5a737c3fa0756e346434f90aea</td><td>141317</td><td>0b:9c:0b:ba:e4:1f</td><td>41488</td></tr><tr><td>ac361189be33b056bf0d742ebc33410179d985168574c629f0ffdf0c2a54c4b7</td><td>115980</td><td>32:60:3b:80:ed:8e</td><td>41732</td></tr><tr><td>ad1777c323866c48b547546d84d0d49d54c160467db7b25baebee9f6aa30438e</td><td>175427</td><td>0a:df:bd:a4:ea:86</td><td>41796</td></tr><tr><td>8846b301bd5228b145e8ed3ec3bf809e2f1d27ccd77ca838fe49c305665733e4</td><td>142838</td><td>35:d1:c5:f0:79:75</td><td>41954</td></tr><tr><td>9b6a45bc85eec4a82dcdcef021834b0d221a54c977541e871f5e208b6234261e</td><td>133022</td><td>ec:81:80:6d:77:25</td><td>42387</td></tr><tr><td>39e5d7cc7a7354cab35d1ae9b4395e2303337d4a37b26f56071462c3a39b9b95</td><td>155761</td><td>d2:1f:ef:4e:c1:9b</td><td>42643</td></tr><tr><td>2fd72bf6293f1d9a34e2cad33a78d01691d511c787151d1c6964b7f4321aa908</td><td>190767</td><td>2b:f8:d5:c9:ac:5a</td><td>42794</td></tr><tr><td>b0b1ca4d901b4a8acbb7bca88398a25c93a78f2d134abf10d78fed4a8d109d89</td><td>191498</td><td>1b:55:35:cb:d8:22</td><td>43052</td></tr><tr><td>6ff4ee52ca804210187ce49a76e3ea347e02593ab47134ac0deec8598bdde6a8</td><td>124989</td><td>09:d1:bf:ec:2e:ec</td><td>43104</td></tr><tr><td>debb243bbdd4fc9a7d740ba5f5d9084b8cba6f77735f5113401c9b747ca1ab17</td><td>123171</td><td>7c:c8:80:2c:5b:ef</td><td>43810</td></tr><tr><td>1e403e6c7e8392701e6db4c225d8eb527c205fdd88e840e85b037ebc2c7a8cd0</td><td>180027</td><td>a4:eb:49:d9:9b:1d</td><td>45875</td></tr><tr><td>b945ade887897dab37e750fe7e77af5045b2ac88d8053ebc89566939f0ca4611</td><td>118383</td><td>66:50:01:29:39:81</td><td>47250</td></tr><tr><td>a413776c0b52be648193169808a9da068a8c502f9de1c6cbbe4d0624e916aa24</td><td>133254</td><td>b7:10:7f:73:4c:49</td><td>47261</td></tr><tr><td>c19bc3c6b4d8028f92fefac5feb50e9ed0ad96dfe1e5eec20669a892c9bc5689</td><td>168702</td><td>3f:7f:18:77:5c:34</td><td>47356</td></tr><tr><td>f067aca130864b28c4413ae218f6e8101c8ea68062e7c5a8d0d2639d0a3a8564</td><td>116527</td><td>6b:ba:6d:5e:9d:98</td><td>47403</td></tr><tr><td>e4ec8f3c228562d1720082e76bce797f1861386d6ea07e4cf616d3e3343412dc</td><td>191520</td><td>05:53:18:54:f0:d8</td><td>48721</td></tr><tr><td>3de9b9bd48d773210bb42f9b566665356e73e1b35ae5584eec5824d57042fc89</td><td>152851</td><td>15:ae:9c:e1:0b:2e</td><td>48913</td></tr><tr><td>1cf68d590ac4280b5876867d64061463b0656c85c81afe90938f87f5ecf1e0a6</td><td>109003</td><td>08:24:96:7a:28:d6</td><td>49075</td></tr><tr><td>445d111a53d2f69b1ea747c8478680a76544bfaa571ca6a144d999bd664f7b30</td><td>143960</td><td>84:08:34:44:39:65</td><td>49271</td></tr><tr><td>858cf05d9f2a9db98eb92ebe1575a62fc2565a1ff0e7b7f458f239e9d738a790</td><td>135279</td><td>98:72:3d:4e:62:c8</td><td>49296</td></tr><tr><td>52596bda400a4f5a871731a141b0a073c05789cd3f18abf4d418c9d8415a64e0</td><td>153087</td><td>ec:bb:13:1b:65:0e</td><td>49661</td></tr><tr><td>5f0434799f564be731a879a912567b22a02de0a6a8d6a78d251a3f1999588fad</td><td>194717</td><td>9a:4b:c1:56:58:b0</td><td>49835</td></tr></tbody></table></div>"
      ]
     },
     "metadata": {
      "application/vnd.databricks.v1+output": {
       "addedWidgets": {},
       "aggData": [],
       "aggError": "",
       "aggOverflow": false,
       "aggSchema": [],
       "aggSeriesLimitReached": false,
       "aggType": "",
       "arguments": {},
       "columnCustomDisplayInfos": {},
       "data": [
        [
         "745c35775cfdf69e9a190c26a173285712c1929c5faa5087ce2855e9043b33f4",
         190960,
         "14:cd:d6:db:70:f6",
         11745
        ],
        [
         "a610459add89c3c6a1de87bf8beaa4aee317564837e8d0247852004197e7d8cc",
         141687,
         "ae:ec:f6:48:ca:f7",
         12140
        ],
        [
         "c3274e338a1da85e0748f6c9c92247e176044770f4e39637a4c4d4b348191fcf",
         114131,
         "57:24:ac:8c:75:ea",
         12227
        ],
        [
         "e6a6387ffbb75e14eb39b138be1e7e9b8a6687e66c36865bf6e234d6688dd517",
         118440,
         "4c:c5:9f:cb:13:bd",
         12474
        ],
        [
         "898fa1b7f7057b1b17bca1342b4341b7d84e228d6d9bb83a7a770c4d487ebc4b",
         109290,
         "36:1f:d9:d3:e8:0d",
         13559
        ],
        [
         "e83442f287db35be0374a66e2253ab5c119417b0e559554291ac2af8f7f5809f",
         143442,
         "dd:96:be:e9:1e:f4",
         13937
        ],
        [
         "71324d786c7f10bd56edf127946a934016c65ff515c47f4d6ea5d233d5cae66a",
         172965,
         "dd:45:d2:37:a8:0e",
         14232
        ],
        [
         "a6f9678bccb4d7e7bc0ba5afbe9ba83c154889506173f51c1d55bc19c115bec6",
         102558,
         "df:f9:dc:5e:e2:a8",
         14508
        ],
        [
         "8bdbabab0376e9bc29748fd75ba8b669e9947dbcb0ee492a32a4d5c1b604321f",
         175406,
         "1d:69:69:75:d0:aa",
         14633
        ],
        [
         "54c9a8be55ad6b77cc376ef3638fc4af1ae1961685edd4cd986a5376c46bc67f",
         177966,
         "de:c0:cd:a7:71:f4",
         15149
        ],
        [
         "48413178107e7ce80cd8ad7ddb7b50a2ef9b8d9109e0391f79ce914e9d1d14d6",
         198867,
         "4c:53:51:88:59:ab",
         16093
        ],
        [
         "6b46105aab33210a8430dfc605c034c9f14b7a5bdc53023f2196c214762b3921",
         144334,
         "cd:53:ec:b5:60:49",
         16819
        ],
        [
         "0d26f72ab63e5564c97a3c9d8eb77b22ffb1e1bde0ecd5781af4cf79d537be33",
         117058,
         "08:87:1c:9c:c7:a9",
         17217
        ],
        [
         "c375e4b6624769bc9810362d8d615174eaa532b8818c093934af8e088b93352a",
         112008,
         "c8:45:8f:77:34:24",
         17807
        ],
        [
         "d69601f8b2daa4176fa1d262de48bd4d54a7d5ca0e5ca121a779cd0a3f2cff8b",
         178310,
         "28:82:3d:8c:d6:f8",
         18587
        ],
        [
         "d5671b518173cf5bf1dbdf634bb500984acf040bd5250c944bb46b848c601b85",
         163871,
         "88:6c:c1:66:9b:cc",
         19005
        ],
        [
         "0cac08c9ce7ea9534718f6f1047ed792015f9dc5aecc2e121e4c80c68ae7bb64",
         137867,
         "c2:64:cf:45:ea:01",
         19103
        ],
        [
         "ba4f45d7a2d2df344cfdeecf9d2417eb6cf4a97ffc7f03d0acfdec510ebf4c37",
         122561,
         "94:00:e8:3a:9f:a4",
         19150
        ],
        [
         "5ce6620b7c357cd69446a87f463a4c40b100364e706a661dcec12390b9852d53",
         181512,
         "de:34:11:f4:90:2d",
         19198
        ],
        [
         "a2ce1436d4cd2e4376dfa1afe92140148835e6e19a6b523c611f2af6e6d48b28",
         179752,
         "be:f6:e8:c8:07:e7",
         19548
        ],
        [
         "8eb9a08411fac3e94fc6ca6daadc6063355653c99d9556d4956fb6b6960d3125",
         113809,
         "1d:f9:5b:33:df:2d",
         19622
        ],
        [
         "73001aebb56c459e295c092d9f5c31355eb462fbd100c670fa48c67510a302ab",
         141144,
         "f8:cf:20:eb:a4:47",
         19787
        ],
        [
         "b6f66a657af52e7490a825eed37cbb9894064e04f29d419f7f1f786b98046391",
         119715,
         "d0:30:3f:ef:7d:89",
         19859
        ],
        [
         "2af970fb2c6d514d11c4738f07306469b05681eb57817b1ad1566ce85a7676e1",
         154059,
         "5e:0c:01:09:00:cf",
         19888
        ],
        [
         "947c62862fee6f044848b06b376e3e0555f6fdac746456a28dd011a964d6ae57",
         126186,
         "83:17:18:59:17:76",
         20217
        ],
        [
         "bf89f14b9b61eb3369399515152f55c944de897791ff42e5d1ef9305ad2da394",
         183816,
         "e5:a8:d5:73:cf:33",
         29213
        ],
        [
         "ac18a7a9aea94ea019452727c55204c949a6055f3f0ebba3852260f9bab729bd",
         178189,
         "e5:43:81:e0:5e:cb",
         29745
        ],
        [
         "886f1bdac99a41378ec91389e91c1f4d8033e5cd61084223d9ca95807d812a55",
         113024,
         "72:2f:58:79:1b:6a",
         30088
        ],
        [
         "5bca0b934b0807a31f51e1b93c2ba2932e34c4ae29eb972b2c0b94c9047d992b",
         154423,
         "e3:ee:d9:6f:65:30",
         30514
        ],
        [
         "9ac4a92a8ad072a8c613708fa3dada52f430ead19466922536403464f16c5f48",
         113570,
         "46:30:9c:da:50:a7",
         30612
        ],
        [
         "57098cb66f100853a15a02d5c48aed34954298c0f6b8a974937edd861a8b1373",
         112473,
         "51:57:36:c2:45:ab",
         31057
        ],
        [
         "8a5876de067c1386bdb74084a16d2c7f2f18fbdee589ffe73c0ceb4f38eb5922",
         172633,
         "d5:ed:0b:e5:b7:00",
         31362
        ],
        [
         "c65fc3b744666216a6d3f3d23686cbcd95c823368c132f05314d9ecac587b170",
         182045,
         "f7:a1:8d:26:c4:4b",
         32018
        ],
        [
         "4a63161d94e3318c38193842d17054d239dc9b9261ea1cbac66de86f30285214",
         155604,
         "c9:a1:30:cb:86:c6",
         33733
        ],
        [
         "8e53b301a9819419b49d4315fe9c95fd752e2d72a94820f89f1acd4d14eb560f",
         126126,
         "e4:2c:d4:ea:e4:b4",
         33987
        ],
        [
         "ac2bdd6fb77613c084683bebdb9bf5f131418174a7b705b9d90e360d34eb79bf",
         124880,
         "54:bf:e4:40:52:b9",
         34740
        ],
        [
         "1a19d87491f89887dd0dd3d79d7424247bfb3c5fc5ef5a632ca16c26f82c394c",
         107952,
         "00:6c:6c:53:51:ef",
         35226
        ],
        [
         "096d49b07b21d1443ad4a835a87c834fa284468d72ffb87e730dcf734db5abd4",
         197694,
         "76:0a:93:d6:2a:85",
         35428
        ],
        [
         "6ba11fc3885526ddba3b6bda07d5826307b7083e5451ea6f091ebd8ebb5df9f8",
         180111,
         "c3:3e:16:08:f9:47",
         35728
        ],
        [
         "e5355dd0856aaf1b71cef63a62613d72f58467e0e102d871e4b700323a59b8f7",
         101589,
         "3b:9d:88:8e:ec:3d",
         36066
        ],
        [
         "c8af87ecdf5b41e60f46d85ee24c8189bd643a4540d26c59d3ee5c36098fa4de",
         110367,
         "8b:5b:b5:8b:be:d5",
         36117
        ],
        [
         "f77a5f0c87d8c4114be62db6adef9d88d1979c5ad5cd43205667540939928d3f",
         178516,
         "f5:69:09:4e:dd:2d",
         36164
        ],
        [
         "e8a0581852fadf7d7527dd345fbc34b828f30019915f042648999e54175339cc",
         130133,
         "d2:6e:c7:bd:91:2a",
         36469
        ],
        [
         "b8056cd4844bd4b278606f71e40545c1b93d5e8379207ee705ef560bc07158a3",
         130278,
         "03:82:36:76:f2:46",
         36590
        ],
        [
         "ca426039ab08642d25ef448bad89172dc6271366c4137c3003fe32d1cb300c44",
         197930,
         "ed:19:90:40:76:6c",
         36644
        ],
        [
         "7fde9776f2be9726369921eb480568b3e726110af056b36fe7a3ffdf4f9f6b79",
         161910,
         "88:66:73:de:e8:61",
         37012
        ],
        [
         "0a9c64223050770c9d2c720a803837ec28b001a437cd1d53f5fa6aafd0a5e002",
         134009,
         "37:03:48:2d:d6:fc",
         38766
        ],
        [
         "5d78cff0ca0f659e86ef1118bbf5b322731890ac20e0079fa799c44c80f1feff",
         169221,
         "3a:95:59:f8:db:29",
         39676
        ],
        [
         "cac9d03ade3b1054e30819a6a761118dfc7fb52d2b55a9b8b5877f628a6a1401",
         171753,
         "f7:da:fa:03:f0:46",
         40177
        ],
        [
         "43a9a48524fca3e47fd42d2669013c49c567cedeeb506d1fd7a751f75f1c8687",
         107089,
         "53:38:e8:f9:2d:09",
         40559
        ],
        [
         "7f704b7b0053aef6720144e0c32bf9481894b39c16607c23c998906ed28581d7",
         107008,
         "a6:1e:b6:2c:68:27",
         20496
        ],
        [
         "cd887f4d983dde497360264c66a28960b6f8d35fccc87aef39f661fb61f6b158",
         113029,
         "5d:1e:8f:b3:f5:ad",
         21896
        ],
        [
         "8ce057164dbf8cd11eb931128eb30707cecde30791620893f4f80f9a31bd611b",
         141792,
         "6d:a7:cd:4a:ae:90",
         22480
        ],
        [
         "ee806d2054496010b55c1be3a1669358e528faa98eb4c96325683335eb053e77",
         193528,
         "3e:f5:66:62:af:5b",
         22501
        ],
        [
         "b546a0d05fa1c47aa93fe2f3b7091d5100803bd318d3c8b077e3f3cc475cdf5b",
         105671,
         "bd:97:dc:1f:ce:97",
         23250
        ],
        [
         "d61f83cf21c535545b2b679f5c5f483e395d146c3a1f22e5c6705a1ceb5cc9c3",
         145614,
         "93:d9:76:49:53:23",
         23767
        ],
        [
         "14b6180e0982573e5faf0c426cd9862075f28f02274ef5db780d9a3683ac6974",
         122744,
         "15:b4:60:dc:9d:65",
         23916
        ],
        [
         "b3ce898d04bce048857c8dccc8bd3b437115c01a7dbdcdb97f738829a1785744",
         116708,
         "db:c5:50:4d:55:90",
         24018
        ],
        [
         "5cb9d8c61cdf59147530b03a67cce1b72a103657a35be61b5ca293473e76fa0d",
         158496,
         "27:1e:f5:5d:2e:83",
         24863
        ],
        [
         "c495b47a54d95311645cef71d286c41106fb6c364c00fb085e4f70fe9dd02779",
         190340,
         "45:c0:4b:b5:8f:95",
         24968
        ],
        [
         "7e0504eb0e145b999b39081c43ac2cc7f26ec9ba8e4b06d5337be256c28a72ba",
         156698,
         "8b:a0:16:1e:31:89",
         25143
        ],
        [
         "6ae2eb91031e5980c271eff64aeea2bf6c0127f380c0f93dd5077228c562bd61",
         122235,
         "88:9c:3d:63:f0:a3",
         25477
        ],
        [
         "0003f1837ee331d971fb1739220672ac5ba57ac7d974b18a747b54d114647da6",
         187047,
         "0c:ee:7e:24:35:4f",
         26285
        ],
        [
         "8c7a958028240ea16e7368fbca88f3b9846e8a6e059586fda5d5b0c7863b94aa",
         146645,
         "3c:97:06:9e:63:9c",
         26847
        ],
        [
         "c1d481a318d47d83198de1e96308341f9ef6f5a47292dccfdc000d4eefa9f3f6",
         196248,
         "c0:96:82:ac:03:d9",
         27306
        ],
        [
         "2f6d904bc5175d372a81c8a2f2931550cc1df2330b62216739f9e9fddfa4ec79",
         190471,
         "84:0d:4e:44:eb:ae",
         27671
        ],
        [
         "c7d80aeb1a9e7653dc13dadec6075e3e2a32f0226bfeac1968248b4c7164d8ab",
         145943,
         "c7:12:d1:03:f1:76",
         27703
        ],
        [
         "96907ad85a4bc7fc3245f1ca29b4fe7cf0d4c61ece6ec385382e9ff164fb5b51",
         114344,
         "bc:54:fe:d7:1c:7d",
         27836
        ],
        [
         "22cd18aa025b6e0b792b992b8ce7573c1a29a651cc72ed158c80daabbe660101",
         198332,
         "f2:e1:1c:84:56:52",
         28359
        ],
        [
         "cba874842f4dd76d361c730e6c6080f130d86f149c1f6faeaf3d0dc605c85d17",
         148312,
         "34:12:9e:9c:72:28",
         28521
        ],
        [
         "fad7615e297311025a0abe1b742aed061427ef01f8942c6e029cb2fc4ad887e6",
         169924,
         "5e:1a:7a:82:f2:24",
         28588
        ],
        [
         "8bb09f205d023251e392804a20a7294f5a424c9c295054c8f8f293c76dd205a5",
         161343,
         "e6:de:fe:e2:2f:4d",
         28776
        ],
        [
         "b7f89b0222f9d2f41413ab2570fb32aa8b2029f3c2a6280adc85efca33ddc266",
         147565,
         "72:42:40:32:b7:3e",
         28814
        ],
        [
         "0fabdd33422fa07ecacd79b4c8d0799897a404b8eb52b23996c2b40cf3b600bc",
         193806,
         "53:b5:20:22:c4:4b",
         28938
        ],
        [
         "56b4e728296213329ae705e16b91f5aaaa07cf3c6bc116cced4e3c6bc0f5fd1e",
         150485,
         "3f:91:f8:2a:16:e4",
         29130
        ],
        [
         "43e92394e04e05a79a6db09806d0cd800a08f03cefc429c31c800b2aeb33caa3",
         115643,
         "1d:4d:65:b6:bd:59",
         40872
        ],
        [
         "2e8ec9f76a8bf5e4d860e7c994983bfa7a2facf23a511440837cb716b5fb2b20",
         108769,
         "e8:b3:af:4f:2d:4a",
         41192
        ],
        [
         "0c2ae74ec7c5d1c07d300726ed6c55f1a5f01f505b215198b83721c7ca46fd11",
         151460,
         "14:89:99:7f:53:9c",
         41367
        ],
        [
         "caae89a762fd88b148a287292b5684963207dc5a737c3fa0756e346434f90aea",
         141317,
         "0b:9c:0b:ba:e4:1f",
         41488
        ],
        [
         "ac361189be33b056bf0d742ebc33410179d985168574c629f0ffdf0c2a54c4b7",
         115980,
         "32:60:3b:80:ed:8e",
         41732
        ],
        [
         "ad1777c323866c48b547546d84d0d49d54c160467db7b25baebee9f6aa30438e",
         175427,
         "0a:df:bd:a4:ea:86",
         41796
        ],
        [
         "8846b301bd5228b145e8ed3ec3bf809e2f1d27ccd77ca838fe49c305665733e4",
         142838,
         "35:d1:c5:f0:79:75",
         41954
        ],
        [
         "9b6a45bc85eec4a82dcdcef021834b0d221a54c977541e871f5e208b6234261e",
         133022,
         "ec:81:80:6d:77:25",
         42387
        ],
        [
         "39e5d7cc7a7354cab35d1ae9b4395e2303337d4a37b26f56071462c3a39b9b95",
         155761,
         "d2:1f:ef:4e:c1:9b",
         42643
        ],
        [
         "2fd72bf6293f1d9a34e2cad33a78d01691d511c787151d1c6964b7f4321aa908",
         190767,
         "2b:f8:d5:c9:ac:5a",
         42794
        ],
        [
         "b0b1ca4d901b4a8acbb7bca88398a25c93a78f2d134abf10d78fed4a8d109d89",
         191498,
         "1b:55:35:cb:d8:22",
         43052
        ],
        [
         "6ff4ee52ca804210187ce49a76e3ea347e02593ab47134ac0deec8598bdde6a8",
         124989,
         "09:d1:bf:ec:2e:ec",
         43104
        ],
        [
         "debb243bbdd4fc9a7d740ba5f5d9084b8cba6f77735f5113401c9b747ca1ab17",
         123171,
         "7c:c8:80:2c:5b:ef",
         43810
        ],
        [
         "1e403e6c7e8392701e6db4c225d8eb527c205fdd88e840e85b037ebc2c7a8cd0",
         180027,
         "a4:eb:49:d9:9b:1d",
         45875
        ],
        [
         "b945ade887897dab37e750fe7e77af5045b2ac88d8053ebc89566939f0ca4611",
         118383,
         "66:50:01:29:39:81",
         47250
        ],
        [
         "a413776c0b52be648193169808a9da068a8c502f9de1c6cbbe4d0624e916aa24",
         133254,
         "b7:10:7f:73:4c:49",
         47261
        ],
        [
         "c19bc3c6b4d8028f92fefac5feb50e9ed0ad96dfe1e5eec20669a892c9bc5689",
         168702,
         "3f:7f:18:77:5c:34",
         47356
        ],
        [
         "f067aca130864b28c4413ae218f6e8101c8ea68062e7c5a8d0d2639d0a3a8564",
         116527,
         "6b:ba:6d:5e:9d:98",
         47403
        ],
        [
         "e4ec8f3c228562d1720082e76bce797f1861386d6ea07e4cf616d3e3343412dc",
         191520,
         "05:53:18:54:f0:d8",
         48721
        ],
        [
         "3de9b9bd48d773210bb42f9b566665356e73e1b35ae5584eec5824d57042fc89",
         152851,
         "15:ae:9c:e1:0b:2e",
         48913
        ],
        [
         "1cf68d590ac4280b5876867d64061463b0656c85c81afe90938f87f5ecf1e0a6",
         109003,
         "08:24:96:7a:28:d6",
         49075
        ],
        [
         "445d111a53d2f69b1ea747c8478680a76544bfaa571ca6a144d999bd664f7b30",
         143960,
         "84:08:34:44:39:65",
         49271
        ],
        [
         "858cf05d9f2a9db98eb92ebe1575a62fc2565a1ff0e7b7f458f239e9d738a790",
         135279,
         "98:72:3d:4e:62:c8",
         49296
        ],
        [
         "52596bda400a4f5a871731a141b0a073c05789cd3f18abf4d418c9d8415a64e0",
         153087,
         "ec:bb:13:1b:65:0e",
         49661
        ],
        [
         "5f0434799f564be731a879a912567b22a02de0a6a8d6a78d251a3f1999588fad",
         194717,
         "9a:4b:c1:56:58:b0",
         49835
        ]
       ],
       "datasetInfos": [],
       "dbfsResultPath": null,
       "isJsonSchema": true,
       "metadata": {},
       "overflow": false,
       "plotOptions": {
        "customPlotOptions": {},
        "displayType": "table",
        "pivotAggregation": null,
        "pivotColumns": null,
        "xColumns": null,
        "yColumns": null
       },
       "removedWidgets": [],
       "schema": [
        {
         "metadata": "{}",
         "name": "alt_id",
         "type": "\"string\""
        },
        {
         "metadata": "{}",
         "name": "device_id",
         "type": "\"long\""
        },
        {
         "metadata": "{}",
         "name": "mac_address",
         "type": "\"string\""
        },
        {
         "metadata": "{}",
         "name": "user_id",
         "type": "\"long\""
        }
       ],
       "type": "table"
      }
     },
     "output_type": "display_data"
    }
   ],
   "source": [
    "SELECT * \n",
    "FROM user_lookup"
   ]
  },
  {
   "cell_type": "markdown",
   "metadata": {
    "application/vnd.databricks.v1+cell": {
     "cellMetadata": {
      "byteLimit": 2048000,
      "rowLimit": 10000
     },
     "inputWidgets": {},
     "nuid": "9fda5b04-1c6f-4d38-bbef-9df9d893e2a0",
     "showTitle": false,
     "tableResultSettingsMap": {},
     "title": ""
    }
   },
   "source": [
    "### G2. Delete a record from User Lookup table\n",
    "\n",
    "To delete record from the table pick a value from the **user_id** column from above to delete. Then complete the following:\n",
    "\n",
    "- Place the picked **user_id** value after the `DEFAULT` keyword in the `DECLARE OR REPLACE VARIABLE` statement below. This will save the value into a variable named **user_id** that will be used across this lab.\n",
    "- Use `DELETE` statement with column_name of table\n",
    "- Run the cell below to proceed with the record's deletion from the table. \n",
    "- Confirm a row was deleted."
   ]
  },
  {
   "cell_type": "code",
   "execution_count": 0,
   "metadata": {
    "application/vnd.databricks.v1+cell": {
     "cellMetadata": {
      "byteLimit": 2048000,
      "rowLimit": 10000
     },
     "inputWidgets": {},
     "nuid": "3f9fabbd-4f37-40e3-aeaf-7bab249f1aae",
     "showTitle": false,
     "tableResultSettingsMap": {},
     "title": ""
    }
   },
   "outputs": [
    {
     "output_type": "display_data",
     "data": {
      "text/html": [
       "<style scoped>\n",
       "  .table-result-container {\n",
       "    max-height: 300px;\n",
       "    overflow: auto;\n",
       "  }\n",
       "  table, th, td {\n",
       "    border: 1px solid black;\n",
       "    border-collapse: collapse;\n",
       "  }\n",
       "  th, td {\n",
       "    padding: 5px;\n",
       "  }\n",
       "  th {\n",
       "    text-align: left;\n",
       "  }\n",
       "</style><div class='table-result-container'><table class='table-result'><thead style='background-color: white'><tr><th>num_affected_rows</th></tr></thead><tbody><tr><td>1</td></tr></tbody></table></div>"
      ]
     },
     "metadata": {
      "application/vnd.databricks.v1+output": {
       "addedWidgets": {},
       "aggData": [],
       "aggError": "",
       "aggOverflow": false,
       "aggSchema": [],
       "aggSeriesLimitReached": false,
       "aggType": "",
       "arguments": {},
       "columnCustomDisplayInfos": {},
       "data": [
        [
         1
        ]
       ],
       "datasetInfos": [],
       "dbfsResultPath": null,
       "isJsonSchema": true,
       "metadata": {
        "isDbfsCommandResult": false
       },
       "overflow": false,
       "plotOptions": {
        "customPlotOptions": {},
        "displayType": "table",
        "pivotAggregation": null,
        "pivotColumns": null,
        "xColumns": null,
        "yColumns": null
       },
       "removedWidgets": [],
       "schema": [
        {
         "metadata": "{}",
         "name": "num_affected_rows",
         "type": "\"long\""
        }
       ],
       "type": "table"
      }
     },
     "output_type": "display_data"
    }
   ],
   "source": [
    "\n",
    "-- -- Define a variable for user_id to delete\n",
    "DECLARE OR REPLACE VARIABLE user_id INT DEFAULT 11745; -- Place your user_id here\n",
    "\n",
    "-- -- Delete user with user_id equals to variable\n",
    "DELETE FROM user_lookup \n",
    "WHERE user_id = session.user_id;"
   ]
  },
  {
   "cell_type": "markdown",
   "metadata": {
    "application/vnd.databricks.v1+cell": {
     "cellMetadata": {
      "byteLimit": 2048000,
      "rowLimit": 10000
     },
     "inputWidgets": {},
     "nuid": "976c6693-6f5c-4648-aea6-b1a9776e2866",
     "showTitle": false,
     "tableResultSettingsMap": {},
     "title": ""
    }
   },
   "source": [
    "### G3. Confirm the record is deleted from the User Lookup table\n",
    "\n",
    "Run the query below to confirm the selected **user_id** was deleted from the **user_lookup** table. Confirm no rows are returned."
   ]
  },
  {
   "cell_type": "code",
   "execution_count": 0,
   "metadata": {
    "application/vnd.databricks.v1+cell": {
     "cellMetadata": {
      "byteLimit": 2048000,
      "rowLimit": 10000
     },
     "inputWidgets": {},
     "nuid": "12cf2468-d80d-4553-b9be-8a72b41270cf",
     "showTitle": false,
     "tableResultSettingsMap": {},
     "title": ""
    }
   },
   "outputs": [
    {
     "output_type": "display_data",
     "data": {
      "text/html": [
       "<style scoped>\n",
       "  .table-result-container {\n",
       "    max-height: 300px;\n",
       "    overflow: auto;\n",
       "  }\n",
       "  table, th, td {\n",
       "    border: 1px solid black;\n",
       "    border-collapse: collapse;\n",
       "  }\n",
       "  th, td {\n",
       "    padding: 5px;\n",
       "  }\n",
       "  th {\n",
       "    text-align: left;\n",
       "  }\n",
       "</style><div class='table-result-container'><table class='table-result'><thead style='background-color: white'><tr><th>alt_id</th><th>device_id</th><th>mac_address</th><th>user_id</th></tr></thead><tbody></tbody></table></div>"
      ]
     },
     "metadata": {
      "application/vnd.databricks.v1+output": {
       "addedWidgets": {},
       "aggData": [],
       "aggError": "",
       "aggOverflow": false,
       "aggSchema": [],
       "aggSeriesLimitReached": false,
       "aggType": "",
       "arguments": {},
       "columnCustomDisplayInfos": {},
       "data": [],
       "datasetInfos": [],
       "dbfsResultPath": null,
       "isJsonSchema": true,
       "metadata": {
        "isDbfsCommandResult": false
       },
       "overflow": false,
       "plotOptions": {
        "customPlotOptions": {},
        "displayType": "table",
        "pivotAggregation": null,
        "pivotColumns": null,
        "xColumns": null,
        "yColumns": null
       },
       "removedWidgets": [],
       "schema": [
        {
         "metadata": "{}",
         "name": "alt_id",
         "type": "\"string\""
        },
        {
         "metadata": "{}",
         "name": "device_id",
         "type": "\"long\""
        },
        {
         "metadata": "{}",
         "name": "mac_address",
         "type": "\"string\""
        },
        {
         "metadata": "{}",
         "name": "user_id",
         "type": "\"long\""
        }
       ],
       "type": "table"
      }
     },
     "output_type": "display_data"
    }
   ],
   "source": [
    "SELECT * \n",
    "FROM user_lookup\n",
    "WHERE user_id=session.user_id;"
   ]
  },
  {
   "cell_type": "markdown",
   "metadata": {
    "application/vnd.databricks.v1+cell": {
     "cellMetadata": {
      "byteLimit": 2048000,
      "rowLimit": 10000
     },
     "inputWidgets": {},
     "nuid": "b1421ea3-6d57-44f5-88bf-2388f1e7be0d",
     "showTitle": false,
     "tableResultSettingsMap": {},
     "title": ""
    }
   },
   "source": [
    "Run the query below and notice that the table now holds *99* records."
   ]
  },
  {
   "cell_type": "code",
   "execution_count": 0,
   "metadata": {
    "application/vnd.databricks.v1+cell": {
     "cellMetadata": {
      "byteLimit": 2048000,
      "rowLimit": 10000
     },
     "inputWidgets": {},
     "nuid": "ff8854b4-ac81-4a6d-9801-b71afc457560",
     "showTitle": false,
     "tableResultSettingsMap": {},
     "title": ""
    }
   },
   "outputs": [
    {
     "output_type": "display_data",
     "data": {
      "text/html": [
       "<style scoped>\n",
       "  .table-result-container {\n",
       "    max-height: 300px;\n",
       "    overflow: auto;\n",
       "  }\n",
       "  table, th, td {\n",
       "    border: 1px solid black;\n",
       "    border-collapse: collapse;\n",
       "  }\n",
       "  th, td {\n",
       "    padding: 5px;\n",
       "  }\n",
       "  th {\n",
       "    text-align: left;\n",
       "  }\n",
       "</style><div class='table-result-container'><table class='table-result'><thead style='background-color: white'><tr><th>count(1)</th></tr></thead><tbody><tr><td>99</td></tr></tbody></table></div>"
      ]
     },
     "metadata": {
      "application/vnd.databricks.v1+output": {
       "addedWidgets": {},
       "aggData": [],
       "aggError": "",
       "aggOverflow": false,
       "aggSchema": [],
       "aggSeriesLimitReached": false,
       "aggType": "",
       "arguments": {},
       "columnCustomDisplayInfos": {},
       "data": [
        [
         99
        ]
       ],
       "datasetInfos": [],
       "dbfsResultPath": null,
       "isJsonSchema": true,
       "metadata": {
        "isDbfsCommandResult": false
       },
       "overflow": false,
       "plotOptions": {
        "customPlotOptions": {},
        "displayType": "table",
        "pivotAggregation": null,
        "pivotColumns": null,
        "xColumns": null,
        "yColumns": null
       },
       "removedWidgets": [],
       "schema": [
        {
         "metadata": "{\"__autoGeneratedAlias\":\"true\"}",
         "name": "count(1)",
         "type": "\"long\""
        }
       ],
       "type": "table"
      }
     },
     "output_type": "display_data"
    }
   ],
   "source": [
    "SELECT count(*)\n",
    "FROM user_lookup;"
   ]
  },
  {
   "cell_type": "markdown",
   "metadata": {
    "application/vnd.databricks.v1+cell": {
     "cellMetadata": {
      "byteLimit": 2048000,
      "rowLimit": 10000
     },
     "inputWidgets": {},
     "nuid": "04c26de6-e3b7-419d-bc09-e4698d72043e",
     "showTitle": false,
     "tableResultSettingsMap": {},
     "title": ""
    }
   },
   "source": [
    "## H. Review user_lookup table History\n",
    "\n",
    "Now that our record is deleted, a new entry in the **user_lookup** table history is added corresponding to this event. Let's get a view to this table's history. \n",
    "\n",
    "  Run the query and confirm version **2** and that the **operation** column is *DELETE*."
   ]
  },
  {
   "cell_type": "code",
   "execution_count": 0,
   "metadata": {
    "application/vnd.databricks.v1+cell": {
     "cellMetadata": {
      "byteLimit": 2048000,
      "rowLimit": 10000
     },
     "inputWidgets": {},
     "nuid": "9e83b218-743d-4547-b80a-e0f6247647a6",
     "showTitle": false,
     "tableResultSettingsMap": {},
     "title": ""
    }
   },
   "outputs": [
    {
     "output_type": "display_data",
     "data": {
      "text/html": [
       "<style scoped>\n",
       "  .table-result-container {\n",
       "    max-height: 300px;\n",
       "    overflow: auto;\n",
       "  }\n",
       "  table, th, td {\n",
       "    border: 1px solid black;\n",
       "    border-collapse: collapse;\n",
       "  }\n",
       "  th, td {\n",
       "    padding: 5px;\n",
       "  }\n",
       "  th {\n",
       "    text-align: left;\n",
       "  }\n",
       "</style><div class='table-result-container'><table class='table-result'><thead style='background-color: white'><tr><th>version</th><th>timestamp</th><th>userId</th><th>userName</th><th>operation</th><th>operationParameters</th><th>job</th><th>notebook</th><th>clusterId</th><th>readVersion</th><th>isolationLevel</th><th>isBlindAppend</th><th>operationMetrics</th><th>userMetadata</th><th>engineInfo</th></tr></thead><tbody><tr><td>2</td><td>2025-06-27T00:19:47Z</td><td>3304343146826341</td><td>labuser10747597_1750981120@vocareum.com</td><td>DELETE</td><td>Map(predicate -> [\"(user_id#34048L = 11745)\"])</td><td>null</td><td>List(3913647707152642)</td><td>0626-233939-2sqbphck</td><td>1</td><td>WriteSerializable</td><td>false</td><td>Map(numRemovedFiles -> 0, numRemovedBytes -> 0, numCopiedRows -> 0, numDeletionVectorsAdded -> 1, numDeletionVectorsRemoved -> 0, numAddedChangeFiles -> 0, executionTimeMs -> 1432, numDeletionVectorsUpdated -> 0, numDeletedRows -> 1, scanTimeMs -> 665, numAddedFiles -> 0, numAddedBytes -> 0, rewriteTimeMs -> 767)</td><td>null</td><td>Databricks-Runtime/15.4.x-scala2.12</td></tr><tr><td>1</td><td>2025-06-27T00:19:41Z</td><td>3304343146826341</td><td>labuser10747597_1750981120@vocareum.com</td><td>SET TBLPROPERTIES</td><td>Map(properties -> {\"delta.enableChangeDataFeed\":\"true\"})</td><td>null</td><td>List(3913647707152642)</td><td>0626-233939-2sqbphck</td><td>0</td><td>WriteSerializable</td><td>true</td><td>Map()</td><td>null</td><td>Databricks-Runtime/15.4.x-scala2.12</td></tr><tr><td>0</td><td>2025-06-27T00:19:34Z</td><td>3304343146826341</td><td>labuser10747597_1750981120@vocareum.com</td><td>CREATE OR REPLACE TABLE AS SELECT</td><td>Map(partitionBy -> [], clusterBy -> [], description -> null, isManaged -> true, properties -> {\"delta.enableDeletionVectors\":\"true\"}, statsOnLoad -> false)</td><td>null</td><td>List(3913647707152642)</td><td>0626-233939-2sqbphck</td><td>null</td><td>WriteSerializable</td><td>false</td><td>Map(numFiles -> 4, numOutputRows -> 100, numOutputBytes -> 16520)</td><td>null</td><td>Databricks-Runtime/15.4.x-scala2.12</td></tr></tbody></table></div>"
      ]
     },
     "metadata": {
      "application/vnd.databricks.v1+output": {
       "addedWidgets": {},
       "aggData": [],
       "aggError": "",
       "aggOverflow": false,
       "aggSchema": [],
       "aggSeriesLimitReached": false,
       "aggType": "",
       "arguments": {},
       "columnCustomDisplayInfos": {},
       "data": [
        [
         2,
         "2025-06-27T00:19:47Z",
         "3304343146826341",
         "labuser10747597_1750981120@vocareum.com",
         "DELETE",
         {
          "predicate": "[\"(user_id#34048L = 11745)\"]"
         },
         null,
         [
          "3913647707152642"
         ],
         "0626-233939-2sqbphck",
         1,
         "WriteSerializable",
         false,
         {
          "executionTimeMs": "1432",
          "numAddedBytes": "0",
          "numAddedChangeFiles": "0",
          "numAddedFiles": "0",
          "numCopiedRows": "0",
          "numDeletedRows": "1",
          "numDeletionVectorsAdded": "1",
          "numDeletionVectorsRemoved": "0",
          "numDeletionVectorsUpdated": "0",
          "numRemovedBytes": "0",
          "numRemovedFiles": "0",
          "rewriteTimeMs": "767",
          "scanTimeMs": "665"
         },
         null,
         "Databricks-Runtime/15.4.x-scala2.12"
        ],
        [
         1,
         "2025-06-27T00:19:41Z",
         "3304343146826341",
         "labuser10747597_1750981120@vocareum.com",
         "SET TBLPROPERTIES",
         {
          "properties": "{\"delta.enableChangeDataFeed\":\"true\"}"
         },
         null,
         [
          "3913647707152642"
         ],
         "0626-233939-2sqbphck",
         0,
         "WriteSerializable",
         true,
         {},
         null,
         "Databricks-Runtime/15.4.x-scala2.12"
        ],
        [
         0,
         "2025-06-27T00:19:34Z",
         "3304343146826341",
         "labuser10747597_1750981120@vocareum.com",
         "CREATE OR REPLACE TABLE AS SELECT",
         {
          "clusterBy": "[]",
          "description": null,
          "isManaged": "true",
          "partitionBy": "[]",
          "properties": "{\"delta.enableDeletionVectors\":\"true\"}",
          "statsOnLoad": "false"
         },
         null,
         [
          "3913647707152642"
         ],
         "0626-233939-2sqbphck",
         null,
         "WriteSerializable",
         false,
         {
          "numFiles": "4",
          "numOutputBytes": "16520",
          "numOutputRows": "100"
         },
         null,
         "Databricks-Runtime/15.4.x-scala2.12"
        ]
       ],
       "datasetInfos": [],
       "dbfsResultPath": null,
       "isJsonSchema": true,
       "metadata": {
        "isDbfsCommandResult": false
       },
       "overflow": false,
       "plotOptions": {
        "customPlotOptions": {},
        "displayType": "table",
        "pivotAggregation": null,
        "pivotColumns": null,
        "xColumns": null,
        "yColumns": null
       },
       "removedWidgets": [],
       "schema": [
        {
         "metadata": "{}",
         "name": "version",
         "type": "\"long\""
        },
        {
         "metadata": "{}",
         "name": "timestamp",
         "type": "\"timestamp\""
        },
        {
         "metadata": "{}",
         "name": "userId",
         "type": "\"string\""
        },
        {
         "metadata": "{}",
         "name": "userName",
         "type": "\"string\""
        },
        {
         "metadata": "{}",
         "name": "operation",
         "type": "\"string\""
        },
        {
         "metadata": "{}",
         "name": "operationParameters",
         "type": "{\"type\":\"map\",\"keyType\":\"string\",\"valueType\":\"string\",\"valueContainsNull\":true}"
        },
        {
         "metadata": "{}",
         "name": "job",
         "type": "{\"type\":\"struct\",\"fields\":[{\"name\":\"jobId\",\"type\":\"string\",\"nullable\":true,\"metadata\":{}},{\"name\":\"jobName\",\"type\":\"string\",\"nullable\":true,\"metadata\":{}},{\"name\":\"jobRunId\",\"type\":\"string\",\"nullable\":true,\"metadata\":{}},{\"name\":\"runId\",\"type\":\"string\",\"nullable\":true,\"metadata\":{}},{\"name\":\"jobOwnerId\",\"type\":\"string\",\"nullable\":true,\"metadata\":{}},{\"name\":\"triggerType\",\"type\":\"string\",\"nullable\":true,\"metadata\":{}}]}"
        },
        {
         "metadata": "{}",
         "name": "notebook",
         "type": "{\"type\":\"struct\",\"fields\":[{\"name\":\"notebookId\",\"type\":\"string\",\"nullable\":true,\"metadata\":{}}]}"
        },
        {
         "metadata": "{}",
         "name": "clusterId",
         "type": "\"string\""
        },
        {
         "metadata": "{}",
         "name": "readVersion",
         "type": "\"long\""
        },
        {
         "metadata": "{}",
         "name": "isolationLevel",
         "type": "\"string\""
        },
        {
         "metadata": "{}",
         "name": "isBlindAppend",
         "type": "\"boolean\""
        },
        {
         "metadata": "{}",
         "name": "operationMetrics",
         "type": "{\"type\":\"map\",\"keyType\":\"string\",\"valueType\":\"string\",\"valueContainsNull\":true}"
        },
        {
         "metadata": "{}",
         "name": "userMetadata",
         "type": "\"string\""
        },
        {
         "metadata": "{}",
         "name": "engineInfo",
         "type": "\"string\""
        }
       ],
       "type": "table"
      }
     },
     "output_type": "display_data"
    }
   ],
   "source": [
    "DESCRIBE HISTORY user_lookup;"
   ]
  },
  {
   "cell_type": "markdown",
   "metadata": {
    "application/vnd.databricks.v1+cell": {
     "cellMetadata": {
      "byteLimit": 2048000,
      "rowLimit": 10000
     },
     "inputWidgets": {},
     "nuid": "3ba352f0-86fa-49b5-86d7-e29dec9bdbf4",
     "showTitle": false,
     "tableResultSettingsMap": {},
     "title": ""
    }
   },
   "source": [
    "\n",
    "## I. Read the user_lookup CDF output (starting from version 1)\n",
    "\n",
    "This section we'll proceed to read CDF data from a the **user_lookup** table, well apply two approaches:\n",
    "- Using SQL via `table_changes` function\n",
    "- Using Python"
   ]
  },
  {
   "cell_type": "markdown",
   "metadata": {
    "application/vnd.databricks.v1+cell": {
     "cellMetadata": {
      "byteLimit": 2048000,
      "rowLimit": 10000
     },
     "inputWidgets": {},
     "nuid": "c575bec5-0178-4b65-a0a1-0591a018d7c2",
     "showTitle": false,
     "tableResultSettingsMap": {},
     "title": ""
    }
   },
   "source": [
    "### I1. Using SQL to View Row Level Changes\n",
    "\n",
    "To read the CDF data:\n",
    "\n",
    "- Using [table_changes](https://docs.databricks.com/en/sql/language-manual/functions/table_changes.html) function\n",
    "- Select all changes from version **1** of the **user_lookup** table\n",
    "\n",
    "Confirm that one row is returned in the output. The row should be the row you deleted in the earlier step.\n",
    "\n",
    "**HINT:** [Use Delta Lake change data feed on Databricks](https://docs.databricks.com/en/delta/delta-change-data-feed.html#use-delta-lake-change-data-feed-on-databricks) documentation."
   ]
  },
  {
   "cell_type": "code",
   "execution_count": 0,
   "metadata": {
    "application/vnd.databricks.v1+cell": {
     "cellMetadata": {
      "byteLimit": 2048000,
      "rowLimit": 10000
     },
     "inputWidgets": {},
     "nuid": "a9d4cf60-75e4-4279-93ce-ac01c20df8c4",
     "showTitle": false,
     "tableResultSettingsMap": {},
     "title": ""
    }
   },
   "outputs": [
    {
     "output_type": "display_data",
     "data": {
      "text/html": [
       "<style scoped>\n",
       "  .table-result-container {\n",
       "    max-height: 300px;\n",
       "    overflow: auto;\n",
       "  }\n",
       "  table, th, td {\n",
       "    border: 1px solid black;\n",
       "    border-collapse: collapse;\n",
       "  }\n",
       "  th, td {\n",
       "    padding: 5px;\n",
       "  }\n",
       "  th {\n",
       "    text-align: left;\n",
       "  }\n",
       "</style><div class='table-result-container'><table class='table-result'><thead style='background-color: white'><tr><th>alt_id</th><th>device_id</th><th>mac_address</th><th>user_id</th><th>_change_type</th><th>_commit_version</th><th>_commit_timestamp</th></tr></thead><tbody><tr><td>745c35775cfdf69e9a190c26a173285712c1929c5faa5087ce2855e9043b33f4</td><td>190960</td><td>14:cd:d6:db:70:f6</td><td>11745</td><td>delete</td><td>2</td><td>2025-06-27T00:19:47Z</td></tr></tbody></table></div>"
      ]
     },
     "metadata": {
      "application/vnd.databricks.v1+output": {
       "addedWidgets": {},
       "aggData": [],
       "aggError": "",
       "aggOverflow": false,
       "aggSchema": [],
       "aggSeriesLimitReached": false,
       "aggType": "",
       "arguments": {},
       "columnCustomDisplayInfos": {},
       "data": [
        [
         "745c35775cfdf69e9a190c26a173285712c1929c5faa5087ce2855e9043b33f4",
         190960,
         "14:cd:d6:db:70:f6",
         11745,
         "delete",
         2,
         "2025-06-27T00:19:47Z"
        ]
       ],
       "datasetInfos": [],
       "dbfsResultPath": null,
       "isJsonSchema": true,
       "metadata": {
        "isDbfsCommandResult": false
       },
       "overflow": false,
       "plotOptions": {
        "customPlotOptions": {},
        "displayType": "table",
        "pivotAggregation": null,
        "pivotColumns": null,
        "xColumns": null,
        "yColumns": null
       },
       "removedWidgets": [],
       "schema": [
        {
         "metadata": "{}",
         "name": "alt_id",
         "type": "\"string\""
        },
        {
         "metadata": "{}",
         "name": "device_id",
         "type": "\"long\""
        },
        {
         "metadata": "{}",
         "name": "mac_address",
         "type": "\"string\""
        },
        {
         "metadata": "{}",
         "name": "user_id",
         "type": "\"long\""
        },
        {
         "metadata": "{}",
         "name": "_change_type",
         "type": "\"string\""
        },
        {
         "metadata": "{}",
         "name": "_commit_version",
         "type": "\"long\""
        },
        {
         "metadata": "{}",
         "name": "_commit_timestamp",
         "type": "\"timestamp\""
        }
       ],
       "type": "table"
      }
     },
     "output_type": "display_data"
    }
   ],
   "source": [
    "-- -- USING SQL\n",
    "SELECT * \n",
    "FROM table_changes(\"user_lookup\", 1);"
   ]
  },
  {
   "cell_type": "markdown",
   "metadata": {
    "application/vnd.databricks.v1+cell": {
     "cellMetadata": {
      "byteLimit": 2048000,
      "rowLimit": 10000
     },
     "inputWidgets": {},
     "nuid": "21a111d2-d27f-4454-b7e3-2bb6ed417c29",
     "showTitle": false,
     "tableResultSettingsMap": {},
     "title": ""
    }
   },
   "source": [
    "### I2. (OPTIONAL) Using Python to View Row Level Changes \n",
    "\n",
    "To read the CDF data:\n",
    "- Read the **user_lookup** table\n",
    "- Configure the stream to enable reading change data with the `readChangeData` option\n",
    "- Configure the stream to start reading from version **1** with `startingVersion` option\n",
    "\n",
    "Confirm that one row is returned in the output. The row should be the row you deleted in the earlier step.\n",
    "\n",
    "**HINT:** [Use Delta Lake change data feed on Databricks](https://docs.databricks.com/en/delta/delta-change-data-feed.html#use-delta-lake-change-data-feed-on-databricks) documentation."
   ]
  },
  {
   "cell_type": "code",
   "execution_count": 0,
   "metadata": {
    "application/vnd.databricks.v1+cell": {
     "cellMetadata": {
      "byteLimit": 2048000,
      "rowLimit": 10000
     },
     "inputWidgets": {},
     "nuid": "98337a1d-3c40-483f-8c71-15d2260b0813",
     "showTitle": false,
     "tableResultSettingsMap": {},
     "title": ""
    }
   },
   "outputs": [
    {
     "output_type": "display_data",
     "data": {
      "text/html": [
       "<style scoped>\n",
       "  .table-result-container {\n",
       "    max-height: 300px;\n",
       "    overflow: auto;\n",
       "  }\n",
       "  table, th, td {\n",
       "    border: 1px solid black;\n",
       "    border-collapse: collapse;\n",
       "  }\n",
       "  th, td {\n",
       "    padding: 5px;\n",
       "  }\n",
       "  th {\n",
       "    text-align: left;\n",
       "  }\n",
       "</style><div class='table-result-container'><table class='table-result'><thead style='background-color: white'><tr><th>alt_id</th><th>device_id</th><th>mac_address</th><th>user_id</th><th>_change_type</th><th>_commit_version</th><th>_commit_timestamp</th></tr></thead><tbody><tr><td>745c35775cfdf69e9a190c26a173285712c1929c5faa5087ce2855e9043b33f4</td><td>190960</td><td>14:cd:d6:db:70:f6</td><td>11745</td><td>delete</td><td>2</td><td>2025-06-27T00:19:47Z</td></tr></tbody></table></div>"
      ]
     },
     "metadata": {
      "application/vnd.databricks.v1+output": {
       "addedWidgets": {},
       "aggData": [],
       "aggError": "",
       "aggOverflow": false,
       "aggSchema": [],
       "aggSeriesLimitReached": false,
       "aggType": "",
       "arguments": {},
       "columnCustomDisplayInfos": {},
       "data": [
        [
         "745c35775cfdf69e9a190c26a173285712c1929c5faa5087ce2855e9043b33f4",
         190960,
         "14:cd:d6:db:70:f6",
         11745,
         "delete",
         2,
         "2025-06-27T00:19:47Z"
        ]
       ],
       "datasetInfos": [],
       "dbfsResultPath": null,
       "isJsonSchema": true,
       "metadata": {},
       "overflow": false,
       "plotOptions": {
        "customPlotOptions": {},
        "displayType": "table",
        "pivotAggregation": null,
        "pivotColumns": null,
        "xColumns": null,
        "yColumns": null
       },
       "removedWidgets": [],
       "schema": [
        {
         "metadata": "{}",
         "name": "alt_id",
         "type": "\"string\""
        },
        {
         "metadata": "{}",
         "name": "device_id",
         "type": "\"long\""
        },
        {
         "metadata": "{}",
         "name": "mac_address",
         "type": "\"string\""
        },
        {
         "metadata": "{}",
         "name": "user_id",
         "type": "\"long\""
        },
        {
         "metadata": "{}",
         "name": "_change_type",
         "type": "\"string\""
        },
        {
         "metadata": "{}",
         "name": "_commit_version",
         "type": "\"long\""
        },
        {
         "metadata": "{}",
         "name": "_commit_timestamp",
         "type": "\"timestamp\""
        }
       ],
       "type": "table"
      }
     },
     "output_type": "display_data"
    }
   ],
   "source": [
    "%python\n",
    "user_lookup_df = (spark\n",
    "                  .read\n",
    "                  .format(\"delta\")\n",
    "                  .option(\"readChangeData\", True) # Reading Change Data\n",
    "                  .option(\"startingVersion\", 1)  # Start Reading Version\n",
    "                  .table(\"user_lookup\")\n",
    ")\n",
    "\n",
    "display(user_lookup_df)"
   ]
  },
  {
   "cell_type": "markdown",
   "metadata": {
    "application/vnd.databricks.v1+cell": {
     "cellMetadata": {
      "byteLimit": 2048000,
      "rowLimit": 10000
     },
     "inputWidgets": {},
     "nuid": "ecd3096d-b42d-4e6c-a9ab-186fab8d34f3",
     "showTitle": false,
     "tableResultSettingsMap": {},
     "title": ""
    }
   },
   "source": [
    "## J. Propagate Deletes To Multiple Tables"
   ]
  },
  {
   "cell_type": "markdown",
   "metadata": {
    "application/vnd.databricks.v1+cell": {
     "cellMetadata": {
      "byteLimit": 2048000,
      "rowLimit": 10000
     },
     "inputWidgets": {},
     "nuid": "8e9cae12-969e-4796-96af-5fad3e7f0041",
     "showTitle": false,
     "tableResultSettingsMap": {},
     "title": ""
    }
   },
   "source": [
    "### J1. Create a Temporary View of the user_lookup Table CDF Changes\n",
    "\n",
    "Let's create a temporary view to hold the CDF changes of **user_lookup** table.\n",
    "\n",
    "**HINTS**:\n",
    "- Use `CREATE OR REPLACE TEMPORARY VIEW` name it **user_lookup_deletes_vw**\n",
    "- Use `table_changes` and starting version of **2**\n",
    "- Select all records in view where **_change_type** is *delete*\n",
    "- Then display the results of the view. \n",
    "- Confirm one row is returned."
   ]
  },
  {
   "cell_type": "code",
   "execution_count": 0,
   "metadata": {
    "application/vnd.databricks.v1+cell": {
     "cellMetadata": {
      "byteLimit": 2048000,
      "rowLimit": 10000
     },
     "inputWidgets": {},
     "nuid": "d95dda8d-63d2-4094-a5ab-0248dc0d9859",
     "showTitle": false,
     "tableResultSettingsMap": {},
     "title": ""
    }
   },
   "outputs": [
    {
     "output_type": "display_data",
     "data": {
      "text/html": [
       "<style scoped>\n",
       "  .table-result-container {\n",
       "    max-height: 300px;\n",
       "    overflow: auto;\n",
       "  }\n",
       "  table, th, td {\n",
       "    border: 1px solid black;\n",
       "    border-collapse: collapse;\n",
       "  }\n",
       "  th, td {\n",
       "    padding: 5px;\n",
       "  }\n",
       "  th {\n",
       "    text-align: left;\n",
       "  }\n",
       "</style><div class='table-result-container'><table class='table-result'><thead style='background-color: white'><tr><th>alt_id</th><th>device_id</th><th>mac_address</th><th>user_id</th><th>_change_type</th><th>_commit_version</th><th>_commit_timestamp</th></tr></thead><tbody><tr><td>745c35775cfdf69e9a190c26a173285712c1929c5faa5087ce2855e9043b33f4</td><td>190960</td><td>14:cd:d6:db:70:f6</td><td>11745</td><td>delete</td><td>2</td><td>2025-06-27T00:19:47Z</td></tr></tbody></table></div>"
      ]
     },
     "metadata": {
      "application/vnd.databricks.v1+output": {
       "addedWidgets": {},
       "aggData": [],
       "aggError": "",
       "aggOverflow": false,
       "aggSchema": [],
       "aggSeriesLimitReached": false,
       "aggType": "",
       "arguments": {},
       "columnCustomDisplayInfos": {},
       "data": [
        [
         "745c35775cfdf69e9a190c26a173285712c1929c5faa5087ce2855e9043b33f4",
         190960,
         "14:cd:d6:db:70:f6",
         11745,
         "delete",
         2,
         "2025-06-27T00:19:47Z"
        ]
       ],
       "datasetInfos": [],
       "dbfsResultPath": null,
       "isJsonSchema": true,
       "metadata": {
        "isDbfsCommandResult": false
       },
       "overflow": false,
       "plotOptions": {
        "customPlotOptions": {},
        "displayType": "table",
        "pivotAggregation": null,
        "pivotColumns": null,
        "xColumns": null,
        "yColumns": null
       },
       "removedWidgets": [],
       "schema": [
        {
         "metadata": "{}",
         "name": "alt_id",
         "type": "\"string\""
        },
        {
         "metadata": "{}",
         "name": "device_id",
         "type": "\"long\""
        },
        {
         "metadata": "{}",
         "name": "mac_address",
         "type": "\"string\""
        },
        {
         "metadata": "{}",
         "name": "user_id",
         "type": "\"long\""
        },
        {
         "metadata": "{}",
         "name": "_change_type",
         "type": "\"string\""
        },
        {
         "metadata": "{}",
         "name": "_commit_version",
         "type": "\"long\""
        },
        {
         "metadata": "{}",
         "name": "_commit_timestamp",
         "type": "\"timestamp\""
        }
       ],
       "type": "table"
      }
     },
     "output_type": "display_data"
    }
   ],
   "source": [
    "CREATE OR REPLACE TEMPORARY VIEW user_lookup_deletes_vw AS\n",
    "SELECT * \n",
    "FROM table_changes('user_lookup',2)\n",
    "WHERE _change_type ='delete';\n",
    "\n",
    "\n",
    "-- -- Display the view\n",
    "SELECT *\n",
    "FROM user_lookup_deletes_vw;"
   ]
  },
  {
   "cell_type": "markdown",
   "metadata": {
    "application/vnd.databricks.v1+cell": {
     "cellMetadata": {
      "byteLimit": 2048000,
      "rowLimit": 10000
     },
     "inputWidgets": {},
     "nuid": "1d067cdc-3607-4165-a009-eddc73f3eb7e",
     "showTitle": false,
     "tableResultSettingsMap": {},
     "title": ""
    }
   },
   "source": [
    "### J2. Merge the Temporary View into **Users** Table\n",
    "\n",
    "Merge using **user_lookup_deletes_vw** as source into **users** table and **DELETE** when **alt_id** gets matched.\n",
    "\n",
    "The `MERGE` operation should return a value of *1* for **num_affected_rows** and **num_deleted_rows**.\n",
    "\n",
    "**HINTS**:\n",
    "- Use the [MERGE INTO](https://docs.databricks.com/en/sql/language-manual/delta-merge-into.html) Syntax:\n",
    "```\n",
    "MERGE [ WITH SCHEMA EVOLUTION ] INTO target_table_name [target_alias]\n",
    "   USING source_table_reference [source_alias]\n",
    "   ON merge_condition\n",
    "   { WHEN MATCHED [ AND matched_condition ] THEN matched_action |\n",
    "     WHEN NOT MATCHED [BY TARGET] [ AND not_matched_condition ] THEN not_matched_action |\n",
    "     WHEN NOT MATCHED BY SOURCE [ AND not_matched_by_source_condition ] THEN not_matched_by_source_action } [...]\n",
    "\n",
    "matched_action\n",
    " { DELETE |\n",
    "   UPDATE SET * |\n",
    "   UPDATE SET { column = { expr | DEFAULT } } [, ...] }\n",
    "\n",
    "not_matched_action\n",
    " { INSERT * |\n",
    "   INSERT (column1 [, ...] ) VALUES ( expr | DEFAULT ] [, ...] )\n",
    "\n",
    "not_matched_by_source_action\n",
    " { DELETE |\n",
    "   UPDATE SET { column = { expr | DEFAULT } } [, ...] }\n",
    "\n",
    "```"
   ]
  },
  {
   "cell_type": "code",
   "execution_count": 0,
   "metadata": {
    "application/vnd.databricks.v1+cell": {
     "cellMetadata": {
      "byteLimit": 2048000,
      "rowLimit": 10000
     },
     "inputWidgets": {},
     "nuid": "9fdbfc84-6829-4e2d-8e6d-4247d37d0b42",
     "showTitle": false,
     "tableResultSettingsMap": {},
     "title": ""
    }
   },
   "outputs": [
    {
     "output_type": "display_data",
     "data": {
      "text/html": [
       "<style scoped>\n",
       "  .table-result-container {\n",
       "    max-height: 300px;\n",
       "    overflow: auto;\n",
       "  }\n",
       "  table, th, td {\n",
       "    border: 1px solid black;\n",
       "    border-collapse: collapse;\n",
       "  }\n",
       "  th, td {\n",
       "    padding: 5px;\n",
       "  }\n",
       "  th {\n",
       "    text-align: left;\n",
       "  }\n",
       "</style><div class='table-result-container'><table class='table-result'><thead style='background-color: white'><tr><th>num_affected_rows</th><th>num_updated_rows</th><th>num_deleted_rows</th><th>num_inserted_rows</th></tr></thead><tbody><tr><td>1</td><td>0</td><td>1</td><td>0</td></tr></tbody></table></div>"
      ]
     },
     "metadata": {
      "application/vnd.databricks.v1+output": {
       "addedWidgets": {},
       "aggData": [],
       "aggError": "",
       "aggOverflow": false,
       "aggSchema": [],
       "aggSeriesLimitReached": false,
       "aggType": "",
       "arguments": {},
       "columnCustomDisplayInfos": {},
       "data": [
        [
         1,
         0,
         1,
         0
        ]
       ],
       "datasetInfos": [],
       "dbfsResultPath": null,
       "isJsonSchema": true,
       "metadata": {
        "isDbfsCommandResult": false
       },
       "overflow": false,
       "plotOptions": {
        "customPlotOptions": {},
        "displayType": "table",
        "pivotAggregation": null,
        "pivotColumns": null,
        "xColumns": null,
        "yColumns": null
       },
       "removedWidgets": [],
       "schema": [
        {
         "metadata": "{}",
         "name": "num_affected_rows",
         "type": "\"long\""
        },
        {
         "metadata": "{}",
         "name": "num_updated_rows",
         "type": "\"long\""
        },
        {
         "metadata": "{}",
         "name": "num_deleted_rows",
         "type": "\"long\""
        },
        {
         "metadata": "{}",
         "name": "num_inserted_rows",
         "type": "\"long\""
        }
       ],
       "type": "table"
      }
     },
     "output_type": "display_data"
    }
   ],
   "source": [
    "MERGE INTO users u\n",
    "USING user_lookup_deletes_vw ul\n",
    "ON u.alt_id = ul.alt_id\n",
    "WHEN MATCHED\n",
    "  THEN DELETE;"
   ]
  },
  {
   "cell_type": "markdown",
   "metadata": {
    "application/vnd.databricks.v1+cell": {
     "cellMetadata": {
      "byteLimit": 2048000,
      "rowLimit": 10000
     },
     "inputWidgets": {},
     "nuid": "246b500d-f762-497f-ab80-bbe699997334",
     "showTitle": false,
     "tableResultSettingsMap": {},
     "title": ""
    }
   },
   "source": [
    "Run the query below to check the record count in the **users** table, notice this reflects record deleted propagated via the `MERGE_INTO` executed in the cell above."
   ]
  },
  {
   "cell_type": "code",
   "execution_count": 0,
   "metadata": {
    "application/vnd.databricks.v1+cell": {
     "cellMetadata": {
      "byteLimit": 2048000,
      "rowLimit": 10000
     },
     "inputWidgets": {},
     "nuid": "065d8a97-7ebc-4534-af5c-f7fe2e38ece3",
     "showTitle": false,
     "tableResultSettingsMap": {},
     "title": ""
    }
   },
   "outputs": [
    {
     "output_type": "display_data",
     "data": {
      "text/html": [
       "<style scoped>\n",
       "  .table-result-container {\n",
       "    max-height: 300px;\n",
       "    overflow: auto;\n",
       "  }\n",
       "  table, th, td {\n",
       "    border: 1px solid black;\n",
       "    border-collapse: collapse;\n",
       "  }\n",
       "  th, td {\n",
       "    padding: 5px;\n",
       "  }\n",
       "  th {\n",
       "    text-align: left;\n",
       "  }\n",
       "</style><div class='table-result-container'><table class='table-result'><thead style='background-color: white'><tr><th>count(1)</th></tr></thead><tbody><tr><td>99</td></tr></tbody></table></div>"
      ]
     },
     "metadata": {
      "application/vnd.databricks.v1+output": {
       "addedWidgets": {},
       "aggData": [],
       "aggError": "",
       "aggOverflow": false,
       "aggSchema": [],
       "aggSeriesLimitReached": false,
       "aggType": "",
       "arguments": {},
       "columnCustomDisplayInfos": {},
       "data": [
        [
         99
        ]
       ],
       "datasetInfos": [],
       "dbfsResultPath": null,
       "isJsonSchema": true,
       "metadata": {
        "isDbfsCommandResult": false
       },
       "overflow": false,
       "plotOptions": {
        "customPlotOptions": {},
        "displayType": "table",
        "pivotAggregation": null,
        "pivotColumns": null,
        "xColumns": null,
        "yColumns": null
       },
       "removedWidgets": [],
       "schema": [
        {
         "metadata": "{\"__autoGeneratedAlias\":\"true\"}",
         "name": "count(1)",
         "type": "\"long\""
        }
       ],
       "type": "table"
      }
     },
     "output_type": "display_data"
    }
   ],
   "source": [
    "SELECT count(*)\n",
    "FROM users"
   ]
  },
  {
   "cell_type": "markdown",
   "metadata": {
    "application/vnd.databricks.v1+cell": {
     "cellMetadata": {
      "byteLimit": 2048000,
      "rowLimit": 10000
     },
     "inputWidgets": {},
     "nuid": "f07c4bca-4bfe-42c2-a1f7-67302e1662ee",
     "showTitle": false,
     "tableResultSettingsMap": {},
     "title": ""
    }
   },
   "source": [
    "### J3. Merge the Temporary View into the users_bin Table\n",
    "\n",
    "Similarly, merge using **user_lookup_deletes_vw** as source into **user_bins** table and `DELETE` when **user_id** gets matched.\n",
    "\n",
    "The `MERGE` operation should return a value of *1* for **num_affected_rows** and **num_deleted_rows**."
   ]
  },
  {
   "cell_type": "code",
   "execution_count": 0,
   "metadata": {
    "application/vnd.databricks.v1+cell": {
     "cellMetadata": {
      "byteLimit": 2048000,
      "rowLimit": 10000
     },
     "inputWidgets": {},
     "nuid": "41ca3c47-04d6-48da-83f4-8f8f8145706f",
     "showTitle": false,
     "tableResultSettingsMap": {},
     "title": ""
    }
   },
   "outputs": [
    {
     "output_type": "display_data",
     "data": {
      "text/html": [
       "<style scoped>\n",
       "  .table-result-container {\n",
       "    max-height: 300px;\n",
       "    overflow: auto;\n",
       "  }\n",
       "  table, th, td {\n",
       "    border: 1px solid black;\n",
       "    border-collapse: collapse;\n",
       "  }\n",
       "  th, td {\n",
       "    padding: 5px;\n",
       "  }\n",
       "  th {\n",
       "    text-align: left;\n",
       "  }\n",
       "</style><div class='table-result-container'><table class='table-result'><thead style='background-color: white'><tr><th>num_affected_rows</th><th>num_updated_rows</th><th>num_deleted_rows</th><th>num_inserted_rows</th></tr></thead><tbody><tr><td>1</td><td>0</td><td>1</td><td>0</td></tr></tbody></table></div>"
      ]
     },
     "metadata": {
      "application/vnd.databricks.v1+output": {
       "addedWidgets": {},
       "aggData": [],
       "aggError": "",
       "aggOverflow": false,
       "aggSchema": [],
       "aggSeriesLimitReached": false,
       "aggType": "",
       "arguments": {},
       "columnCustomDisplayInfos": {},
       "data": [
        [
         1,
         0,
         1,
         0
        ]
       ],
       "datasetInfos": [],
       "dbfsResultPath": null,
       "isJsonSchema": true,
       "metadata": {
        "isDbfsCommandResult": false
       },
       "overflow": false,
       "plotOptions": {
        "customPlotOptions": {},
        "displayType": "table",
        "pivotAggregation": null,
        "pivotColumns": null,
        "xColumns": null,
        "yColumns": null
       },
       "removedWidgets": [],
       "schema": [
        {
         "metadata": "{}",
         "name": "num_affected_rows",
         "type": "\"long\""
        },
        {
         "metadata": "{}",
         "name": "num_updated_rows",
         "type": "\"long\""
        },
        {
         "metadata": "{}",
         "name": "num_deleted_rows",
         "type": "\"long\""
        },
        {
         "metadata": "{}",
         "name": "num_inserted_rows",
         "type": "\"long\""
        }
       ],
       "type": "table"
      }
     },
     "output_type": "display_data"
    }
   ],
   "source": [
    "MERGE INTO users_bin ub\n",
    "USING user_lookup_deletes_vw ul\n",
    "ON ub.user_id = ul.user_id\n",
    "WHEN MATCHED\n",
    "  THEN DELETE;"
   ]
  },
  {
   "cell_type": "markdown",
   "metadata": {
    "application/vnd.databricks.v1+cell": {
     "cellMetadata": {
      "byteLimit": 2048000,
      "rowLimit": 10000
     },
     "inputWidgets": {},
     "nuid": "cc55f371-dd55-4294-8a75-cec9a7a0d901",
     "showTitle": false,
     "tableResultSettingsMap": {},
     "title": ""
    }
   },
   "source": [
    "Run the query below to check for the deleted record in the **users_bin** table by filtering and using the selected **user_id** saved in a variable. \n",
    "\n",
    "Notice there are no results confirming the delete as correctly propagated via the `MERGE INTO`."
   ]
  },
  {
   "cell_type": "code",
   "execution_count": 0,
   "metadata": {
    "application/vnd.databricks.v1+cell": {
     "cellMetadata": {
      "byteLimit": 2048000,
      "rowLimit": 10000
     },
     "inputWidgets": {},
     "nuid": "6979d502-ed81-4a73-b099-ea8d354b3b70",
     "showTitle": false,
     "tableResultSettingsMap": {},
     "title": ""
    }
   },
   "outputs": [
    {
     "output_type": "display_data",
     "data": {
      "text/html": [
       "<style scoped>\n",
       "  .table-result-container {\n",
       "    max-height: 300px;\n",
       "    overflow: auto;\n",
       "  }\n",
       "  table, th, td {\n",
       "    border: 1px solid black;\n",
       "    border-collapse: collapse;\n",
       "  }\n",
       "  th, td {\n",
       "    padding: 5px;\n",
       "  }\n",
       "  th {\n",
       "    text-align: left;\n",
       "  }\n",
       "</style><div class='table-result-container'><table class='table-result'><thead style='background-color: white'><tr><th>user_id</th><th>age</th><th>gender</th><th>city</th><th>state</th></tr></thead><tbody></tbody></table></div>"
      ]
     },
     "metadata": {
      "application/vnd.databricks.v1+output": {
       "addedWidgets": {},
       "aggData": [],
       "aggError": "",
       "aggOverflow": false,
       "aggSchema": [],
       "aggSeriesLimitReached": false,
       "aggType": "",
       "arguments": {},
       "columnCustomDisplayInfos": {},
       "data": [],
       "datasetInfos": [],
       "dbfsResultPath": null,
       "isJsonSchema": true,
       "metadata": {
        "isDbfsCommandResult": false
       },
       "overflow": false,
       "plotOptions": {
        "customPlotOptions": {},
        "displayType": "table",
        "pivotAggregation": null,
        "pivotColumns": null,
        "xColumns": null,
        "yColumns": null
       },
       "removedWidgets": [],
       "schema": [
        {
         "metadata": "{}",
         "name": "user_id",
         "type": "\"long\""
        },
        {
         "metadata": "{}",
         "name": "age",
         "type": "\"string\""
        },
        {
         "metadata": "{}",
         "name": "gender",
         "type": "\"string\""
        },
        {
         "metadata": "{}",
         "name": "city",
         "type": "\"string\""
        },
        {
         "metadata": "{}",
         "name": "state",
         "type": "\"string\""
        }
       ],
       "type": "table"
      }
     },
     "output_type": "display_data"
    }
   ],
   "source": [
    "SELECT *\n",
    "FROM users_bin\n",
    "WHERE user_id = session.user_id"
   ]
  },
  {
   "cell_type": "markdown",
   "metadata": {
    "application/vnd.databricks.v1+cell": {
     "cellMetadata": {
      "byteLimit": 2048000,
      "rowLimit": 10000
     },
     "inputWidgets": {},
     "nuid": "e7ab7ad5-fca7-47e7-8e4e-d9654d4c07f6",
     "showTitle": false,
     "tableResultSettingsMap": {},
     "title": ""
    }
   },
   "source": [
    "\n",
    "&copy; 2025 Databricks, Inc. All rights reserved. Apache, Apache Spark, Spark, the Spark Logo, Apache Iceberg, Iceberg, and the Apache Iceberg logo are trademarks of the <a href=\"https://www.apache.org/\" target=\"blank\">Apache Software Foundation</a>.<br/>\n",
    "<br/><a href=\"https://databricks.com/privacy-policy\" target=\"blank\">Privacy Policy</a> | \n",
    "<a href=\"https://databricks.com/terms-of-use\" target=\"blank\">Terms of Use</a> | \n",
    "<a href=\"https://help.databricks.com/\" target=\"blank\">Support</a>\n"
   ]
  }
 ],
 "metadata": {
  "application/vnd.databricks.v1+notebook": {
   "computePreferences": null,
   "dashboards": [],
   "environmentMetadata": null,
   "inputWidgetPreferences": null,
   "language": "sql",
   "notebookMetadata": {
    "pythonIndentUnit": 4
   },
   "notebookName": "DP 1.4L Solution - Propagating Changes with CDF Lab",
   "widgets": {}
  },
  "language_info": {
   "name": "sql"
  }
 },
 "nbformat": 4,
 "nbformat_minor": 0
}