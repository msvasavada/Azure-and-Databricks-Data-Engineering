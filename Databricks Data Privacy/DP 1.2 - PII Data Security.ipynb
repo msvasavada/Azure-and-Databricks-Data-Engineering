{
 "cells": [
  {
   "cell_type": "markdown",
   "metadata": {
    "application/vnd.databricks.v1+cell": {
     "cellMetadata": {},
     "inputWidgets": {},
     "nuid": "d50cc882-7e02-42f0-881b-e562cddd668f",
     "showTitle": false,
     "tableResultSettingsMap": {},
     "title": ""
    }
   },
   "source": [
    "\n",
    "<div style=\"text-align: center; line-height: 0; padding-top: 9px;\">\n",
    "  <img src=\"https://databricks.com/wp-content/uploads/2018/03/db-academy-rgb-1200px.png\" alt=\"Databricks Learning\">\n",
    "</div>\n"
   ]
  },
  {
   "cell_type": "markdown",
   "metadata": {
    "application/vnd.databricks.v1+cell": {
     "cellMetadata": {},
     "inputWidgets": {},
     "nuid": "4fa9fc33-d963-4f7f-8078-7e16c4791fc8",
     "showTitle": false,
     "tableResultSettingsMap": {},
     "title": ""
    }
   },
   "source": [
    "# PII Data Security\n",
    "\n",
    "In this demo you will learn how to:\n",
    "\n",
    "* How to handle PII Data Security with **Pseudonymization and Anonymization**\n",
    "\n",
    "Further, you will also learn:\n",
    "* Generate and trigger a DLT pipeline that manages both processes\n",
    "* Explore the resultant DAG\n",
    "* Land a new batch of data"
   ]
  },
  {
   "cell_type": "markdown",
   "metadata": {
    "application/vnd.databricks.v1+cell": {
     "cellMetadata": {},
     "inputWidgets": {},
     "nuid": "e93d59a5-2df4-421b-bf90-2d4fc90459c6",
     "showTitle": false,
     "tableResultSettingsMap": {},
     "title": ""
    }
   },
   "source": [
    "## REQUIRED - SELECT CLASSIC COMPUTE\n",
    "\n",
    "Before executing cells in this notebook, please select your classic compute cluster in the lab. Be aware that **Serverless** is enabled by default.\n",
    "\n",
    "Follow these steps to select the classic compute cluster:\n",
    "\n",
    "1. Navigate to the top-right of this notebook and click the drop-down menu to select your cluster. By default, the notebook will use **Serverless**.\n",
    "\n",
    "1. If your cluster is available, select it and continue to the next cell. If the cluster is not shown:\n",
    "\n",
    "    - In the drop-down, select **More**.\n",
    "\n",
    "    - In the **Attach to an existing compute resource** pop-up, select the first drop-down. You will see a unique cluster name in that drop-down. Please select that cluster.\n",
    "\n",
    "**NOTE:** If your cluster has terminated, you might need to restart it in order to select it. To do this:\n",
    "\n",
    "1. Right-click on **Compute** in the left navigation pane and select *Open in new tab*.\n",
    "\n",
    "1. Find the triangle icon to the right of your compute cluster name and click it.\n",
    "\n",
    "1. Wait a few minutes for the cluster to start.\n",
    "\n",
    "1. Once the cluster is running, complete the steps above to select your cluster."
   ]
  },
  {
   "cell_type": "markdown",
   "metadata": {
    "application/vnd.databricks.v1+cell": {
     "cellMetadata": {},
     "inputWidgets": {},
     "nuid": "c04cf46c-b771-4ba5-a61c-2c40e3675c2e",
     "showTitle": false,
     "tableResultSettingsMap": {},
     "title": ""
    }
   },
   "source": [
    "## A. Classroom Setup\n",
    "\n",
    "Run the following cell to configure your working environment for this course. It will also set your default catalog to your unique catalog name and the schema to your specific schema name shown below using the `USE` statements.\n",
    "<br></br>\n",
    "\n",
    "\n",
    "```\n",
    "USE CATALOG your-catalog;\n",
    "USE SCHEMA your-catalog.pii_data;\n",
    "```\n",
    "\n",
    "**NOTE:** The `DA` object is only used in Databricks Academy courses and is not available outside of these courses. It will dynamically reference the information needed to run the course."
   ]
  },
  {
   "cell_type": "code",
   "execution_count": 0,
   "metadata": {
    "application/vnd.databricks.v1+cell": {
     "cellMetadata": {
      "byteLimit": 2048000,
      "rowLimit": 10000
     },
     "inputWidgets": {},
     "nuid": "76a382e4-e5e2-4533-81dd-786faf4837b8",
     "showTitle": false,
     "tableResultSettingsMap": {},
     "title": ""
    }
   },
   "outputs": [
    {
     "output_type": "stream",
     "name": "stdout",
     "output_type": "stream",
     "text": [
      "\u001B[43mNote: you may need to restart the kernel using %restart_python or dbutils.library.restartPython() to use updated packages.\u001B[0m\n"
     ]
    },
    {
     "output_type": "stream",
     "name": "stdout",
     "output_type": "stream",
     "text": [
      "\n------- Resetting Files for the Demo -------\n\n\nSearching for files in /Volumes/labuser10747597_1750981120/pii_data/pii/stream_source/user_reg to delete...\nNo files found in /Volumes/labuser10747597_1750981120/pii_data/pii/stream_source/user_reg.\n\n\nSearching for files in /Volumes/labuser10747597_1750981120/pii_data/pii/stream_source/daily to delete...\nNo files found in /Volumes/labuser10747597_1750981120/pii_data/pii/stream_source/daily.\n\n\nSearching for files in /Volumes/dbacademy/ops/labuser10747597_1750981120@vocareum_com/pii/stream_source/daily to delete...\nNo files found in /Volumes/dbacademy/ops/labuser10747597_1750981120@vocareum_com/pii/stream_source/daily.\n\n\n----Loading files to user's volume-----\nFile number 1 - Copying file /Volumes/dbacademy_gym_data/v01/user-reg/11745.json --> /Volumes/labuser10747597_1750981120/pii_data/pii/stream_source/user_reg/11745.json.\nFile number 2 - Copying file /Volumes/dbacademy_gym_data/v01/user-reg/12140.json --> /Volumes/labuser10747597_1750981120/pii_data/pii/stream_source/user_reg/12140.json.\nFile number 3 - Copying file /Volumes/dbacademy_gym_data/v01/user-reg/12227.json --> /Volumes/labuser10747597_1750981120/pii_data/pii/stream_source/user_reg/12227.json.\nFile number 4 - Copying file /Volumes/dbacademy_gym_data/v01/user-reg/12474.json --> /Volumes/labuser10747597_1750981120/pii_data/pii/stream_source/user_reg/12474.json.\nFile number 5 - Copying file /Volumes/dbacademy_gym_data/v01/user-reg/13559.json --> /Volumes/labuser10747597_1750981120/pii_data/pii/stream_source/user_reg/13559.json.\nStop loading files to user's volume.\n\n----Loading files to user's volume-----\nFile number 1 - Copying file /Volumes/dbacademy/ops/labuser10747597_1750981120@vocareum_com/pii/stream_source/daily/part-00000-tid-21464587674693947-64543f44-9e22-4df6-96dd-f12b589615ac-106-1-c000.json --> /Volumes/labuser10747597_1750981120/pii_data/pii/stream_source/daily/part-00000-tid-21464587674693947-64543f44-9e22-4df6-96dd-f12b589615ac-106-1-c000.json.\nFile number 2 - Copying file /Volumes/dbacademy/ops/labuser10747597_1750981120@vocareum_com/pii/stream_source/daily/part-00001-tid-21464587674693947-64543f44-9e22-4df6-96dd-f12b589615ac-107-1-c000.json --> /Volumes/labuser10747597_1750981120/pii_data/pii/stream_source/daily/part-00001-tid-21464587674693947-64543f44-9e22-4df6-96dd-f12b589615ac-107-1-c000.json.\nStop loading files to user's volume.\n"
     ]
    },
    {
     "output_type": "display_data",
     "data": {
      "text/html": [
       "<table style=\"width:100%\">\n",
       "            <tr>\n",
       "                <td style=\"white-space:nowrap; width:1em\">Your Course Catalog Name:</td>\n",
       "                <td><input type=\"text\" value=\"labuser10747597_1750981120\" style=\"width: 100%\"></td></tr>\n",
       "            <tr>\n",
       "                <td style=\"white-space:nowrap; width:1em\">Your Schema:</td>\n",
       "                <td><input type=\"text\" value=\"pii_data\" style=\"width: 100%\"></td></tr>\n",
       "            <tr>\n",
       "                <td style=\"white-space:nowrap; width:1em\">User Reg Files (DA.paths.stream_source.user_reg):</td>\n",
       "                <td><input type=\"text\" value=\"/Volumes/labuser10747597_1750981120/pii_data/pii/stream_source/user_reg\" style=\"width: 100%\"></td></tr>\n",
       "            <tr>\n",
       "                <td style=\"white-space:nowrap; width:1em\">Daily Files (DA.paths.stream_source.daily):</td>\n",
       "                <td><input type=\"text\" value=\"/Volumes/labuser10747597_1750981120/pii_data/pii/stream_source/daily\" style=\"width: 100%\"></td></tr></table>"
      ]
     },
     "metadata": {},
     "output_type": "display_data"
    }
   ],
   "source": [
    "%run ./Includes/Classroom-Setup-1.2"
   ]
  },
  {
   "cell_type": "markdown",
   "metadata": {
    "application/vnd.databricks.v1+cell": {
     "cellMetadata": {},
     "inputWidgets": {},
     "nuid": "e6be590f-689c-4a87-85e2-43764331cb05",
     "showTitle": false,
     "tableResultSettingsMap": {},
     "title": ""
    }
   },
   "source": [
    "Run the code below to view your current default catalog and schema. Confirm that they have the same name as the cell above."
   ]
  },
  {
   "cell_type": "code",
   "execution_count": 0,
   "metadata": {
    "application/vnd.databricks.v1+cell": {
     "cellMetadata": {
      "byteLimit": 2048000,
      "implicitDf": true,
      "rowLimit": 10000
     },
     "inputWidgets": {},
     "nuid": "67568aa7-0cb0-47eb-9bd6-262a59539cf6",
     "showTitle": false,
     "tableResultSettingsMap": {},
     "title": ""
    }
   },
   "outputs": [
    {
     "output_type": "display_data",
     "data": {
      "text/html": [
       "<style scoped>\n",
       "  .table-result-container {\n",
       "    max-height: 300px;\n",
       "    overflow: auto;\n",
       "  }\n",
       "  table, th, td {\n",
       "    border: 1px solid black;\n",
       "    border-collapse: collapse;\n",
       "  }\n",
       "  th, td {\n",
       "    padding: 5px;\n",
       "  }\n",
       "  th {\n",
       "    text-align: left;\n",
       "  }\n",
       "</style><div class='table-result-container'><table class='table-result'><thead style='background-color: white'><tr><th>current_catalog()</th><th>current_schema()</th></tr></thead><tbody><tr><td>labuser10747597_1750981120</td><td>pii_data</td></tr></tbody></table></div>"
      ]
     },
     "metadata": {
      "application/vnd.databricks.v1+output": {
       "addedWidgets": {},
       "aggData": [],
       "aggError": "",
       "aggOverflow": false,
       "aggSchema": [],
       "aggSeriesLimitReached": false,
       "aggType": "",
       "arguments": {},
       "columnCustomDisplayInfos": {},
       "data": [
        [
         "labuser10747597_1750981120",
         "pii_data"
        ]
       ],
       "datasetInfos": [],
       "dbfsResultPath": null,
       "isJsonSchema": true,
       "metadata": {
        "createTempViewForImplicitDf": true,
        "dataframeName": "_sqldf",
        "executionCount": 15
       },
       "overflow": false,
       "plotOptions": {
        "customPlotOptions": {},
        "displayType": "table",
        "pivotAggregation": null,
        "pivotColumns": null,
        "xColumns": null,
        "yColumns": null
       },
       "removedWidgets": [],
       "schema": [
        {
         "metadata": "{\"__autoGeneratedAlias\":\"true\"}",
         "name": "current_catalog()",
         "type": "\"string\""
        },
        {
         "metadata": "{\"__autoGeneratedAlias\":\"true\"}",
         "name": "current_schema()",
         "type": "\"string\""
        }
       ],
       "type": "table"
      }
     },
     "output_type": "display_data"
    }
   ],
   "source": [
    "%sql\n",
    "SELECT current_catalog(), current_schema()"
   ]
  },
  {
   "cell_type": "markdown",
   "metadata": {
    "application/vnd.databricks.v1+cell": {
     "cellMetadata": {},
     "inputWidgets": {},
     "nuid": "cb5621e9-f0e7-4b26-9a39-f166eb7920e8",
     "showTitle": false,
     "tableResultSettingsMap": {},
     "title": ""
    }
   },
   "source": [
    "\n",
    "## B. Generate and Trigger DLT Pipeline\n",
    "Run the cell below to auto-generate your DLT pipeline using the provided configuration values.\n",
    "\n",
    "After creation, the pipeline will run. The initial run will take a few minutes while a cluster is provisioned."
   ]
  },
  {
   "cell_type": "code",
   "execution_count": 0,
   "metadata": {
    "application/vnd.databricks.v1+cell": {
     "cellMetadata": {
      "byteLimit": 2048000,
      "rowLimit": 10000
     },
     "inputWidgets": {},
     "nuid": "ab67055d-85f0-4fb0-bd8d-277dfa68cb48",
     "showTitle": false,
     "tableResultSettingsMap": {},
     "title": ""
    }
   },
   "outputs": [
    {
     "output_type": "stream",
     "name": "stdout",
     "output_type": "stream",
     "text": [
      "Created the DLT pipeline labuser10747597_1750981120_1.2_PII_Data_Security using the settings from below:\n\n"
     ]
    },
    {
     "output_type": "display_data",
     "data": {
      "text/html": [
       "<table style=\"width:100%\">\n",
       "            <tr>\n",
       "                <td style=\"white-space:nowrap; width:1em\">DLT Pipeline Name:</td>\n",
       "                <td><input type=\"text\" value=\"labuser10747597_1750981120_1.2_PII_Data_Security\" style=\"width: 100%\"></td></tr>\n",
       "            <tr>\n",
       "                <td style=\"white-space:nowrap; width:1em\">Using Catalog:</td>\n",
       "                <td><input type=\"text\" value=\"labuser10747597_1750981120\" style=\"width: 100%\"></td></tr>\n",
       "            <tr>\n",
       "                <td style=\"white-space:nowrap; width:1em\">Using Schema:</td>\n",
       "                <td><input type=\"text\" value=\"pii_data\" style=\"width: 100%\"></td></tr>\n",
       "            <tr>\n",
       "                <td style=\"white-space:nowrap; width:1em\">Compute:</td>\n",
       "                <td><input type=\"text\" value=\"Serverless\" style=\"width: 100%\"></td></tr>\n",
       "            <tr>\n",
       "                <td style=\"white-space:nowrap; width:1em\">Notebook #1:</td>\n",
       "                <td><input type=\"text\" value=\"/Workspace/Users/labuser10747597_1750981120@vocareum.com/databricks-data-privacy-2.0.3/Databricks Data Privacy/Pipeline/DP 1.2.1 - Pseudonymized PII Lookup Table\" style=\"width: 100%\"></td></tr>\n",
       "            <tr>\n",
       "                <td style=\"white-space:nowrap; width:1em\">Notebook #2:</td>\n",
       "                <td><input type=\"text\" value=\"/Workspace/Users/labuser10747597_1750981120@vocareum.com/databricks-data-privacy-2.0.3/Databricks Data Privacy/Pipeline/DP 1.2.2 - Anonymized Users Age\" style=\"width: 100%\"></td></tr></table>"
      ]
     },
     "metadata": {},
     "output_type": "display_data"
    },
    {
     "output_type": "stream",
     "name": "stdout",
     "output_type": "stream",
     "text": [
      "Starting pipeline labuser10747597_1750981120_1.2_PII_Data_Security, ID a3399ca1-c330-4f26-a637-e3f545beea05\n"
     ]
    }
   ],
   "source": [
    "# Generate and Configure Pipeline\n",
    "DA.generate_pipeline(\n",
    "    pipeline_name=f\"1.2_PII_Data_Security\", \n",
    "    use_schema = 'pii_data',\n",
    "    notebooks_folder='Pipeline', \n",
    "    pipeline_notebooks=[\n",
    "        'DP 1.2.1 - Pseudonymized PII Lookup Table',\n",
    "        'DP 1.2.2 - Anonymized Users Age'\n",
    "        ],\n",
    "    use_configuration = {\n",
    "        'user_reg_source':DA.paths.stream_source.user_reg,\n",
    "        'daily_user_events_source':DA.paths.stream_source.daily,\n",
    "        'lookup_catalog': DA.catalog_name\n",
    "        }\n",
    "    )\n",
    "\n",
    "# Trigger the pipeline\n",
    "DA.start_pipeline()"
   ]
  },
  {
   "cell_type": "markdown",
   "metadata": {
    "application/vnd.databricks.v1+cell": {
     "cellMetadata": {},
     "inputWidgets": {},
     "nuid": "01ecf70c-c512-4579-8c80-c76de9989821",
     "showTitle": false,
     "tableResultSettingsMap": {},
     "title": ""
    }
   },
   "source": [
    "\n",
    "#### Pipeline Overview\n",
    "\n",
    "This DLT Pipeline is based in two notebooks located in the \"Pipeline\" folder:\n",
    "\n",
    "- [DP 1.2.1 - Pseudonymized PII Lookup Table]($./Pipeline/DP 1.2.1 - Pseudonymized PII Lookup Table): Provides an overview of how to ingest and stream **registered_user_data** to apply two **Pseudonymization** techniques such as:\n",
    "  - Hashing\n",
    "  - Tokenization\n",
    " \n",
    "- [DP 1.2.2 - Anonymized Users Age]($./Pipeline/DP 1.2.2 - Anonymized Users Age): Provides an overview of how to ingest and stream **user_events_raw** data into a **users_bronze** and apply **Binning Anonymization** on User's Ages into a materialized view **user_bins**."
   ]
  },
  {
   "cell_type": "markdown",
   "metadata": {
    "application/vnd.databricks.v1+cell": {
     "cellMetadata": {},
     "inputWidgets": {},
     "nuid": "53737b55-a3a3-4a48-b364-45c404d58a66",
     "showTitle": false,
     "tableResultSettingsMap": {},
     "title": ""
    }
   },
   "source": [
    "### B1. Open the DLT Pipeline\n",
    "\n",
    "In the left navigation bar, complete the following to open your DLT pipeline:\n",
    "\n",
    "1. Right-click on Pipelines and select *Open in New Tab*.\n",
    "\n",
    "2. Find and select your DLT pipeline named **your_catalog_name_1.2_PII_Data_Security**.\n",
    "\n",
    "3. Leave the DLT pipeline page open and continue to the next steps.\n",
    "\n",
    "4. Once the pipeline completes, here is the graphed execution flow:\n",
    "\n",
    "![PII Data Security DLT Pipeline DAG](./Includes/images/piidata_security_dag.png)"
   ]
  },
  {
   "cell_type": "markdown",
   "metadata": {
    "application/vnd.databricks.v1+cell": {
     "cellMetadata": {},
     "inputWidgets": {},
     "nuid": "49760066-8820-4fb1-a035-da789dbf563c",
     "showTitle": false,
     "tableResultSettingsMap": {},
     "title": ""
    }
   },
   "source": [
    "## C. Pseudonymization\n",
    "\n",
    "As a recap:\n",
    "\n",
    "- Switches original data point with pseudonym for later re-identification\n",
    "- Only authorized users will have access to keys/hash/table for re-identification\n",
    "- Protects datasets on record level for machine learning\n",
    "- A pseudonym is still considered to be personal data according to the GDPR\n",
    "Two main pseudonymization methods: hashing and tokenization\n",
    "\n",
    "\n",
    "[DP 1.2.1 - Pseudonymized PII Lookup Table]($./Pipeline/DP 1.2.1 - Pseudonymized PII Lookup Table): Provides an overview of how to ingest and stream **registered_users** to apply two **Pseudonymization** techniques such as:\n",
    "  1. Creates the **registered_users** table from the source JSON files with PII.\n",
    "\n",
    "  1. Hashing: Handled in table **user_lookup_hashed**\n",
    "\n",
    "  1. Tokenization: Handled in tables **registered_users_tokens** and **user_lookup_tokenized**\n",
    "\n",
    "\n",
    "#### Pseudonymization section in DAG\n",
    "\n",
    "![Pseudonymization DAG](./Includes/images/pii_data_security_pseudo_dag.png)"
   ]
  },
  {
   "cell_type": "markdown",
   "metadata": {
    "application/vnd.databricks.v1+cell": {
     "cellMetadata": {},
     "inputWidgets": {},
     "nuid": "82111355-3ffd-464e-a629-caf3ac46c4c6",
     "showTitle": false,
     "tableResultSettingsMap": {},
     "title": ""
    }
   },
   "source": [
    "### C1. Preview the registered_users Table\n",
    "\n",
    "The table **registered_users** will be our source for the ingested users, where we'll apply *Pseudonymization* and *Anonymization*. \n",
    "\n",
    "Run the cell and view the original source data. Notice that no data has been anonymized.\n"
   ]
  },
  {
   "cell_type": "code",
   "execution_count": 0,
   "metadata": {
    "application/vnd.databricks.v1+cell": {
     "cellMetadata": {
      "byteLimit": 2048000,
      "implicitDf": true,
      "rowLimit": 10000
     },
     "inputWidgets": {},
     "nuid": "3670235a-6073-4d75-832e-3ccbbb5dbd7a",
     "showTitle": false,
     "tableResultSettingsMap": {},
     "title": ""
    }
   },
   "outputs": [
    {
     "output_type": "display_data",
     "data": {
      "text/html": [
       "<style scoped>\n",
       "  .table-result-container {\n",
       "    max-height: 300px;\n",
       "    overflow: auto;\n",
       "  }\n",
       "  table, th, td {\n",
       "    border: 1px solid black;\n",
       "    border-collapse: collapse;\n",
       "  }\n",
       "  th, td {\n",
       "    padding: 5px;\n",
       "  }\n",
       "  th {\n",
       "    text-align: left;\n",
       "  }\n",
       "</style><div class='table-result-container'><table class='table-result'><thead style='background-color: white'><tr><th>user_id</th><th>device_id</th><th>mac_address</th></tr></thead><tbody><tr><td>12227</td><td>114131</td><td>57:24:ac:8c:75:ea</td></tr><tr><td>12474</td><td>118440</td><td>4c:c5:9f:cb:13:bd</td></tr><tr><td>12140</td><td>141687</td><td>ae:ec:f6:48:ca:f7</td></tr><tr><td>13559</td><td>109290</td><td>36:1f:d9:d3:e8:0d</td></tr><tr><td>11745</td><td>190960</td><td>14:cd:d6:db:70:f6</td></tr></tbody></table></div>"
      ]
     },
     "metadata": {
      "application/vnd.databricks.v1+output": {
       "addedWidgets": {},
       "aggData": [],
       "aggError": "",
       "aggOverflow": false,
       "aggSchema": [],
       "aggSeriesLimitReached": false,
       "aggType": "",
       "arguments": {},
       "columnCustomDisplayInfos": {},
       "data": [
        [
         12227,
         114131,
         "57:24:ac:8c:75:ea"
        ],
        [
         12474,
         118440,
         "4c:c5:9f:cb:13:bd"
        ],
        [
         12140,
         141687,
         "ae:ec:f6:48:ca:f7"
        ],
        [
         13559,
         109290,
         "36:1f:d9:d3:e8:0d"
        ],
        [
         11745,
         190960,
         "14:cd:d6:db:70:f6"
        ]
       ],
       "datasetInfos": [],
       "dbfsResultPath": null,
       "isJsonSchema": true,
       "metadata": {
        "createTempViewForImplicitDf": true,
        "dataframeName": "_sqldf",
        "executionCount": 17
       },
       "overflow": false,
       "plotOptions": {
        "customPlotOptions": {},
        "displayType": "table",
        "pivotAggregation": null,
        "pivotColumns": null,
        "xColumns": null,
        "yColumns": null
       },
       "removedWidgets": [],
       "schema": [
        {
         "metadata": "{}",
         "name": "user_id",
         "type": "\"long\""
        },
        {
         "metadata": "{}",
         "name": "device_id",
         "type": "\"long\""
        },
        {
         "metadata": "{}",
         "name": "mac_address",
         "type": "\"string\""
        }
       ],
       "type": "table"
      }
     },
     "output_type": "display_data"
    }
   ],
   "source": [
    "%sql\n",
    "SELECT\n",
    "    user_id,\n",
    "    device_id,\n",
    "    mac_address\n",
    "FROM registered_users \n",
    "LIMIT 5;"
   ]
  },
  {
   "cell_type": "markdown",
   "metadata": {
    "application/vnd.databricks.v1+cell": {
     "cellMetadata": {},
     "inputWidgets": {},
     "nuid": "939e6133-b684-49fd-8c81-f080ffa33de1",
     "showTitle": false,
     "tableResultSettingsMap": {},
     "title": ""
    }
   },
   "source": [
    "\n",
    "### C2. Option 1 - Hashing\n",
    "\n",
    "Objectives:\n",
    "\n",
    "- Apply SHA or other hashes to all PII.\n",
    "- Add a random string \"salt\" to values before hashing.\n",
    "- Databricks secrets can be leveraged for obfuscating the salt value.\n",
    "- This leads to a slight increase in data size.\n",
    "- Some operations may be less efficient.\n",
    "\n",
    "In our pipeline, we leverage the **registered_users** table and apply hashing to the **user_id** column using a salt value of *BEANS*, creating a column **alt_id** in the **user_lookup_hashed** table.\n",
    "\n",
    "See the cell below for the results and compare both the **user_id** and **alt_id** columns.\n",
    "\n",
    "**NOTE:** The **user_id** column should be removed after processing. It is kept for demo purposes."
   ]
  },
  {
   "cell_type": "code",
   "execution_count": 0,
   "metadata": {
    "application/vnd.databricks.v1+cell": {
     "cellMetadata": {
      "byteLimit": 2048000,
      "implicitDf": true,
      "rowLimit": 10000
     },
     "inputWidgets": {},
     "nuid": "33e9f9db-c713-45fb-9f93-51d357cad599",
     "showTitle": false,
     "tableResultSettingsMap": {},
     "title": ""
    }
   },
   "outputs": [
    {
     "output_type": "display_data",
     "data": {
      "text/html": [
       "<style scoped>\n",
       "  .table-result-container {\n",
       "    max-height: 300px;\n",
       "    overflow: auto;\n",
       "  }\n",
       "  table, th, td {\n",
       "    border: 1px solid black;\n",
       "    border-collapse: collapse;\n",
       "  }\n",
       "  th, td {\n",
       "    padding: 5px;\n",
       "  }\n",
       "  th {\n",
       "    text-align: left;\n",
       "  }\n",
       "</style><div class='table-result-container'><table class='table-result'><thead style='background-color: white'><tr><th>alt_id</th><th>user_id</th><th>device_id</th><th>mac_address</th></tr></thead><tbody><tr><td>745c35775cfdf69e9a190c26a173285712c1929c5faa5087ce2855e9043b33f4</td><td>11745</td><td>190960</td><td>14:cd:d6:db:70:f6</td></tr><tr><td>c3274e338a1da85e0748f6c9c92247e176044770f4e39637a4c4d4b348191fcf</td><td>12227</td><td>114131</td><td>57:24:ac:8c:75:ea</td></tr><tr><td>e6a6387ffbb75e14eb39b138be1e7e9b8a6687e66c36865bf6e234d6688dd517</td><td>12474</td><td>118440</td><td>4c:c5:9f:cb:13:bd</td></tr><tr><td>a610459add89c3c6a1de87bf8beaa4aee317564837e8d0247852004197e7d8cc</td><td>12140</td><td>141687</td><td>ae:ec:f6:48:ca:f7</td></tr><tr><td>898fa1b7f7057b1b17bca1342b4341b7d84e228d6d9bb83a7a770c4d487ebc4b</td><td>13559</td><td>109290</td><td>36:1f:d9:d3:e8:0d</td></tr></tbody></table></div>"
      ]
     },
     "metadata": {
      "application/vnd.databricks.v1+output": {
       "addedWidgets": {},
       "aggData": [],
       "aggError": "",
       "aggOverflow": false,
       "aggSchema": [],
       "aggSeriesLimitReached": false,
       "aggType": "",
       "arguments": {},
       "columnCustomDisplayInfos": {},
       "data": [
        [
         "745c35775cfdf69e9a190c26a173285712c1929c5faa5087ce2855e9043b33f4",
         11745,
         190960,
         "14:cd:d6:db:70:f6"
        ],
        [
         "c3274e338a1da85e0748f6c9c92247e176044770f4e39637a4c4d4b348191fcf",
         12227,
         114131,
         "57:24:ac:8c:75:ea"
        ],
        [
         "e6a6387ffbb75e14eb39b138be1e7e9b8a6687e66c36865bf6e234d6688dd517",
         12474,
         118440,
         "4c:c5:9f:cb:13:bd"
        ],
        [
         "a610459add89c3c6a1de87bf8beaa4aee317564837e8d0247852004197e7d8cc",
         12140,
         141687,
         "ae:ec:f6:48:ca:f7"
        ],
        [
         "898fa1b7f7057b1b17bca1342b4341b7d84e228d6d9bb83a7a770c4d487ebc4b",
         13559,
         109290,
         "36:1f:d9:d3:e8:0d"
        ]
       ],
       "datasetInfos": [],
       "dbfsResultPath": null,
       "isJsonSchema": true,
       "metadata": {
        "createTempViewForImplicitDf": true,
        "dataframeName": "_sqldf",
        "executionCount": 18
       },
       "overflow": false,
       "plotOptions": {
        "customPlotOptions": {},
        "displayType": "table",
        "pivotAggregation": null,
        "pivotColumns": null,
        "xColumns": null,
        "yColumns": null
       },
       "removedWidgets": [],
       "schema": [
        {
         "metadata": "{}",
         "name": "alt_id",
         "type": "\"string\""
        },
        {
         "metadata": "{}",
         "name": "user_id",
         "type": "\"long\""
        },
        {
         "metadata": "{}",
         "name": "device_id",
         "type": "\"long\""
        },
        {
         "metadata": "{}",
         "name": "mac_address",
         "type": "\"string\""
        }
       ],
       "type": "table"
      }
     },
     "output_type": "display_data"
    }
   ],
   "source": [
    "%sql\n",
    "SELECT \n",
    "  alt_id,\n",
    "  user_id,\n",
    "  device_id,\n",
    "  mac_address \n",
    "FROM user_lookup_hashed"
   ]
  },
  {
   "cell_type": "markdown",
   "metadata": {
    "application/vnd.databricks.v1+cell": {
     "cellMetadata": {},
     "inputWidgets": {},
     "nuid": "82a2bb46-c54d-47a9-8a2a-07c29cd85e57",
     "showTitle": false,
     "tableResultSettingsMap": {},
     "title": ""
    }
   },
   "source": [
    "### C3. Option 2 - Tokenization\n",
    "\n",
    "**Tokenization** objectives:\n",
    "\n",
    "- Converts all PII to keys.\n",
    "- Values are stored in a secure lookup table.\n",
    "- Slow to write, but fast to read.\n",
    "- De-identified data is stored in fewer bytes.\n",
    "\n",
    "Similar to the previous step, our pipeline leverages the **registered_users** table. This time, the pipeline creates a new table called **registered_users_tokens** to store the relationship between the generated token (using the [uuid function](https://docs.databricks.com/en/sql/language-manual/functions/uuid.html)) and the **user_id** column.\n",
    "\n",
    "See the token column generated for each **user_id** in the **registered_users_tokens** table below.\n",
    "\n"
   ]
  },
  {
   "cell_type": "code",
   "execution_count": 0,
   "metadata": {
    "application/vnd.databricks.v1+cell": {
     "cellMetadata": {
      "byteLimit": 2048000,
      "implicitDf": true,
      "rowLimit": 10000
     },
     "inputWidgets": {},
     "nuid": "bfe54ade-789e-48af-8466-aa165bec1f0d",
     "showTitle": false,
     "tableResultSettingsMap": {},
     "title": ""
    }
   },
   "outputs": [
    {
     "output_type": "display_data",
     "data": {
      "text/html": [
       "<style scoped>\n",
       "  .table-result-container {\n",
       "    max-height: 300px;\n",
       "    overflow: auto;\n",
       "  }\n",
       "  table, th, td {\n",
       "    border: 1px solid black;\n",
       "    border-collapse: collapse;\n",
       "  }\n",
       "  th, td {\n",
       "    padding: 5px;\n",
       "  }\n",
       "  th {\n",
       "    text-align: left;\n",
       "  }\n",
       "</style><div class='table-result-container'><table class='table-result'><thead style='background-color: white'><tr><th>user_id</th><th>token</th></tr></thead><tbody><tr><td>11745</td><td>a0907acd-a6dd-4fde-bb26-a4764cd72211</td></tr><tr><td>12474</td><td>ffb17070-fda1-4a81-b5a0-669e359c1711</td></tr><tr><td>12140</td><td>92c1c6b7-aaed-4009-b05d-1df3a04ae0c6</td></tr><tr><td>12227</td><td>b38ccc24-6684-44fc-866e-1f9116f0ad61</td></tr><tr><td>13559</td><td>e06a3042-f917-46e2-bd55-f46591f11dd2</td></tr></tbody></table></div>"
      ]
     },
     "metadata": {
      "application/vnd.databricks.v1+output": {
       "addedWidgets": {},
       "aggData": [],
       "aggError": "",
       "aggOverflow": false,
       "aggSchema": [],
       "aggSeriesLimitReached": false,
       "aggType": "",
       "arguments": {},
       "columnCustomDisplayInfos": {},
       "data": [
        [
         11745,
         "a0907acd-a6dd-4fde-bb26-a4764cd72211"
        ],
        [
         12474,
         "ffb17070-fda1-4a81-b5a0-669e359c1711"
        ],
        [
         12140,
         "92c1c6b7-aaed-4009-b05d-1df3a04ae0c6"
        ],
        [
         12227,
         "b38ccc24-6684-44fc-866e-1f9116f0ad61"
        ],
        [
         13559,
         "e06a3042-f917-46e2-bd55-f46591f11dd2"
        ]
       ],
       "datasetInfos": [],
       "dbfsResultPath": null,
       "isJsonSchema": true,
       "metadata": {
        "createTempViewForImplicitDf": true,
        "dataframeName": "_sqldf",
        "executionCount": 19
       },
       "overflow": false,
       "plotOptions": {
        "customPlotOptions": {},
        "displayType": "table",
        "pivotAggregation": null,
        "pivotColumns": null,
        "xColumns": null,
        "yColumns": null
       },
       "removedWidgets": [],
       "schema": [
        {
         "metadata": "{}",
         "name": "user_id",
         "type": "\"long\""
        },
        {
         "metadata": "{}",
         "name": "token",
         "type": "\"string\""
        }
       ],
       "type": "table"
      }
     },
     "output_type": "display_data"
    }
   ],
   "source": [
    "%sql\n",
    "SELECT * \n",
    "FROM registered_users_tokens"
   ]
  },
  {
   "cell_type": "markdown",
   "metadata": {
    "application/vnd.databricks.v1+cell": {
     "cellMetadata": {},
     "inputWidgets": {},
     "nuid": "ebd86ac1-a52d-45b7-8bdb-ee63275d48ee",
     "showTitle": false,
     "tableResultSettingsMap": {},
     "title": ""
    }
   },
   "source": [
    "Now we can use and leverage the table **registered_users_tokens** and create a new lookup table with tokenized **user_id** column, held in **user_lookup_tokenized** table."
   ]
  },
  {
   "cell_type": "code",
   "execution_count": 0,
   "metadata": {
    "application/vnd.databricks.v1+cell": {
     "cellMetadata": {
      "byteLimit": 2048000,
      "implicitDf": true,
      "rowLimit": 10000
     },
     "inputWidgets": {},
     "nuid": "83c60e36-959b-4068-aa73-e7587451a0c2",
     "showTitle": false,
     "tableResultSettingsMap": {},
     "title": ""
    }
   },
   "outputs": [
    {
     "output_type": "display_data",
     "data": {
      "text/html": [
       "<style scoped>\n",
       "  .table-result-container {\n",
       "    max-height: 300px;\n",
       "    overflow: auto;\n",
       "  }\n",
       "  table, th, td {\n",
       "    border: 1px solid black;\n",
       "    border-collapse: collapse;\n",
       "  }\n",
       "  th, td {\n",
       "    padding: 5px;\n",
       "  }\n",
       "  th {\n",
       "    text-align: left;\n",
       "  }\n",
       "</style><div class='table-result-container'><table class='table-result'><thead style='background-color: white'><tr><th>Tokenized</th><th>device_id</th><th>mac_address</th><th>registration_timestamp</th></tr></thead><tbody><tr><td>a0907acd-a6dd-4fde-bb26-a4764cd72211</td><td>190960</td><td>14:cd:d6:db:70:f6</td><td>1.575763595E9</td></tr><tr><td>b38ccc24-6684-44fc-866e-1f9116f0ad61</td><td>114131</td><td>57:24:ac:8c:75:ea</td><td>1.575816942E9</td></tr><tr><td>ffb17070-fda1-4a81-b5a0-669e359c1711</td><td>118440</td><td>4c:c5:9f:cb:13:bd</td><td>1.575178082E9</td></tr><tr><td>92c1c6b7-aaed-4009-b05d-1df3a04ae0c6</td><td>141687</td><td>ae:ec:f6:48:ca:f7</td><td>1.558694443E9</td></tr><tr><td>e06a3042-f917-46e2-bd55-f46591f11dd2</td><td>109290</td><td>36:1f:d9:d3:e8:0d</td><td>1.560189545E9</td></tr></tbody></table></div>"
      ]
     },
     "metadata": {
      "application/vnd.databricks.v1+output": {
       "addedWidgets": {},
       "aggData": [],
       "aggError": "",
       "aggOverflow": false,
       "aggSchema": [],
       "aggSeriesLimitReached": false,
       "aggType": "",
       "arguments": {},
       "columnCustomDisplayInfos": {},
       "data": [
        [
         "a0907acd-a6dd-4fde-bb26-a4764cd72211",
         190960,
         "14:cd:d6:db:70:f6",
         1.575763595E9
        ],
        [
         "b38ccc24-6684-44fc-866e-1f9116f0ad61",
         114131,
         "57:24:ac:8c:75:ea",
         1.575816942E9
        ],
        [
         "ffb17070-fda1-4a81-b5a0-669e359c1711",
         118440,
         "4c:c5:9f:cb:13:bd",
         1.575178082E9
        ],
        [
         "92c1c6b7-aaed-4009-b05d-1df3a04ae0c6",
         141687,
         "ae:ec:f6:48:ca:f7",
         1.558694443E9
        ],
        [
         "e06a3042-f917-46e2-bd55-f46591f11dd2",
         109290,
         "36:1f:d9:d3:e8:0d",
         1.560189545E9
        ]
       ],
       "datasetInfos": [],
       "dbfsResultPath": null,
       "isJsonSchema": true,
       "metadata": {
        "createTempViewForImplicitDf": true,
        "dataframeName": "_sqldf",
        "executionCount": 20
       },
       "overflow": false,
       "plotOptions": {
        "customPlotOptions": {},
        "displayType": "table",
        "pivotAggregation": null,
        "pivotColumns": null,
        "xColumns": null,
        "yColumns": null
       },
       "removedWidgets": [],
       "schema": [
        {
         "metadata": "{}",
         "name": "Tokenized",
         "type": "\"string\""
        },
        {
         "metadata": "{}",
         "name": "device_id",
         "type": "\"long\""
        },
        {
         "metadata": "{}",
         "name": "mac_address",
         "type": "\"string\""
        },
        {
         "metadata": "{}",
         "name": "registration_timestamp",
         "type": "\"double\""
        }
       ],
       "type": "table"
      }
     },
     "output_type": "display_data"
    }
   ],
   "source": [
    "%sql\n",
    "SELECT \n",
    "  alt_id as Tokenized,\n",
    "  device_id,\n",
    "  mac_address, \n",
    "  registration_timestamp \n",
    "FROM user_lookup_tokenized"
   ]
  },
  {
   "cell_type": "markdown",
   "metadata": {
    "application/vnd.databricks.v1+cell": {
     "cellMetadata": {},
     "inputWidgets": {},
     "nuid": "deca22bf-bda6-467f-98ac-92d7cdc30901",
     "showTitle": false,
     "tableResultSettingsMap": {},
     "title": ""
    }
   },
   "source": [
    "## D. Anonymization\n",
    "\n",
    "As a recap:\n",
    "\n",
    "- Protects entire dataset (tables, databases or entire data catalogues) mostly for Business Intelligence\n",
    "- Personal data is irreversibly altered in such a way that a data subject can no longer be identified directly or indirectly\n",
    "- Usually a combination of more than one technique used in real-world scenarios\n",
    "- Two main anonymization methods: data suppression and generalization\n",
    "\n",
    "\n",
    "[DP 1.2.2 - Anonymized Users Age]($./Pipeline/DP 1.2.2 - Anonymized Users Age): Provides an overview of how to ingest and stream **user_events_raw** data into a **users_bronze** and apply **Binning Anonymization** on User's Ages into a materialized view **user_age_bins**.\n",
    "\n",
    "#### Anonymization section in DAG\n",
    "\n",
    "![Anonymization DAG](./Includes/images/piidata_security_anon_dag.png)"
   ]
  },
  {
   "cell_type": "markdown",
   "metadata": {
    "application/vnd.databricks.v1+cell": {
     "cellMetadata": {},
     "inputWidgets": {},
     "nuid": "44ec4cd2-1206-45b9-bc2f-18735e85ef4c",
     "showTitle": false,
     "tableResultSettingsMap": {},
     "title": ""
    }
   },
   "source": [
    "### D1. Explore the Date Lookup and User Events Raw tables\n",
    "\n",
    "- The **date_lookup** table is used for the **date** and **week_part** association. It is joined with the **user_events_raw** data to identify which **week_part** the **Date of Birth (DOB)** belongs to. \n",
    "  - For example: (date) 2020-07-02 = (week_part) 2020-27."
   ]
  },
  {
   "cell_type": "code",
   "execution_count": 0,
   "metadata": {
    "application/vnd.databricks.v1+cell": {
     "cellMetadata": {
      "byteLimit": 2048000,
      "implicitDf": true,
      "rowLimit": 10000
     },
     "inputWidgets": {},
     "nuid": "8e370ec8-fae5-45aa-bc4e-788c5d945353",
     "showTitle": false,
     "tableResultSettingsMap": {},
     "title": ""
    }
   },
   "outputs": [
    {
     "output_type": "display_data",
     "data": {
      "text/html": [
       "<style scoped>\n",
       "  .table-result-container {\n",
       "    max-height: 300px;\n",
       "    overflow: auto;\n",
       "  }\n",
       "  table, th, td {\n",
       "    border: 1px solid black;\n",
       "    border-collapse: collapse;\n",
       "  }\n",
       "  th, td {\n",
       "    padding: 5px;\n",
       "  }\n",
       "  th {\n",
       "    text-align: left;\n",
       "  }\n",
       "</style><div class='table-result-container'><table class='table-result'><thead style='background-color: white'><tr><th>date</th><th>week_part</th></tr></thead><tbody><tr><td>2020-07-02</td><td>2020-27</td></tr><tr><td>2020-07-03</td><td>2020-27</td></tr><tr><td>2020-07-04</td><td>2020-27</td></tr><tr><td>2020-07-05</td><td>2020-27</td></tr><tr><td>2020-07-06</td><td>2020-28</td></tr></tbody></table></div>"
      ]
     },
     "metadata": {
      "application/vnd.databricks.v1+output": {
       "addedWidgets": {},
       "aggData": [],
       "aggError": "",
       "aggOverflow": false,
       "aggSchema": [],
       "aggSeriesLimitReached": false,
       "aggType": "",
       "arguments": {},
       "columnCustomDisplayInfos": {},
       "data": [
        [
         "2020-07-02",
         "2020-27"
        ],
        [
         "2020-07-03",
         "2020-27"
        ],
        [
         "2020-07-04",
         "2020-27"
        ],
        [
         "2020-07-05",
         "2020-27"
        ],
        [
         "2020-07-06",
         "2020-28"
        ]
       ],
       "datasetInfos": [],
       "dbfsResultPath": null,
       "isJsonSchema": true,
       "metadata": {
        "createTempViewForImplicitDf": true,
        "dataframeName": "_sqldf",
        "executionCount": 21
       },
       "overflow": false,
       "plotOptions": {
        "customPlotOptions": {},
        "displayType": "table",
        "pivotAggregation": null,
        "pivotColumns": null,
        "xColumns": null,
        "yColumns": null
       },
       "removedWidgets": [],
       "schema": [
        {
         "metadata": "{}",
         "name": "date",
         "type": "\"date\""
        },
        {
         "metadata": "{}",
         "name": "week_part",
         "type": "\"string\""
        }
       ],
       "type": "table"
      }
     },
     "output_type": "display_data"
    }
   ],
   "source": [
    "%sql\n",
    "SELECT * \n",
    "FROM date_lookup\n",
    "LIMIT 5;"
   ]
  },
  {
   "cell_type": "markdown",
   "metadata": {
    "application/vnd.databricks.v1+cell": {
     "cellMetadata": {},
     "inputWidgets": {},
     "nuid": "c6d3d595-6030-4fc4-a4ed-2df1854ea327",
     "showTitle": false,
     "tableResultSettingsMap": {},
     "title": ""
    }
   },
   "source": [
    "- The **user_events_raw** table represents the ingested user event data in JSON format, which is later unpacked and filtered to retrieve only user information."
   ]
  },
  {
   "cell_type": "code",
   "execution_count": 0,
   "metadata": {
    "application/vnd.databricks.v1+cell": {
     "cellMetadata": {
      "byteLimit": 2048000,
      "implicitDf": true,
      "rowLimit": 10000
     },
     "inputWidgets": {},
     "nuid": "4accd277-3d4f-4b6a-b05d-fd005c48cf5d",
     "showTitle": false,
     "tableResultSettingsMap": {},
     "title": ""
    }
   },
   "outputs": [
    {
     "output_type": "display_data",
     "data": {
      "text/html": [
       "<style scoped>\n",
       "  .table-result-container {\n",
       "    max-height: 300px;\n",
       "    overflow: auto;\n",
       "  }\n",
       "  table, th, td {\n",
       "    border: 1px solid black;\n",
       "    border-collapse: collapse;\n",
       "  }\n",
       "  th, td {\n",
       "    padding: 5px;\n",
       "  }\n",
       "  th {\n",
       "    text-align: left;\n",
       "  }\n",
       "</style><div class='table-result-container'><table class='table-result'><thead style='background-color: white'><tr><th>key</th><th>value</th></tr></thead><tbody><tr><td>19548</td><td>{\"user_id\": 19548, \"update_type\": \"new\", \"timestamp\": 1576438349.0, \"dob\": \"02/12/1972\", \"sex\": \"F\", \"gender\": \"F\", \"first_name\": \"Megan\", \"last_name\": \"Daugherty\", \"address\": {\"street_address\": \"5641 Kelly Tunnel Apt. 584\", \"city\": \"Los Angeles\", \"state\": \"CA\", \"zip\": 90026}}</td></tr><tr><td>14633</td><td>{\"user_id\": 14633, \"update_type\": \"new\", \"timestamp\": 1576097610.0, \"dob\": \"09/04/1997\", \"sex\": \"F\", \"gender\": \"F\", \"first_name\": \"Hannah\", \"last_name\": \"Fuller\", \"address\": {\"street_address\": \"81346 Obrien Streets\", \"city\": \"Gardena\", \"state\": \"CA\", \"zip\": 90249}}</td></tr><tr><td>28776</td><td>{\"user_id\": 28776, \"update_type\": \"delete\", \"timestamp\": 1576406799}</td></tr><tr><td>49296</td><td>{\"user_id\": 49296, \"update_type\": \"update\", \"timestamp\": 1575910760.0, \"dob\": \"04/23/1989\", \"sex\": \"M\", \"gender\": \"M\", \"first_name\": \"William\", \"last_name\": \"Hinton\", \"address\": {\"street_address\": \"000 Huber Extension Apt. 632\", \"city\": \"Pacoima\", \"state\": \"CA\", \"zip\": 91334}}</td></tr><tr><td>36590</td><td>{\"user_id\": 36590, \"update_type\": \"new\", \"timestamp\": 1576256911.0, \"dob\": \"09/10/1980\", \"sex\": \"F\", \"gender\": \"F\", \"first_name\": \"Angelica\", \"last_name\": \"Davis\", \"address\": {\"street_address\": \"2665 Richard Cliff\", \"city\": \"Glendale\", \"state\": \"CA\", \"zip\": 91205}}</td></tr></tbody></table></div>"
      ]
     },
     "metadata": {
      "application/vnd.databricks.v1+output": {
       "addedWidgets": {},
       "aggData": [],
       "aggError": "",
       "aggOverflow": false,
       "aggSchema": [],
       "aggSeriesLimitReached": false,
       "aggType": "",
       "arguments": {},
       "columnCustomDisplayInfos": {},
       "data": [
        [
         "19548",
         "{\"user_id\": 19548, \"update_type\": \"new\", \"timestamp\": 1576438349.0, \"dob\": \"02/12/1972\", \"sex\": \"F\", \"gender\": \"F\", \"first_name\": \"Megan\", \"last_name\": \"Daugherty\", \"address\": {\"street_address\": \"5641 Kelly Tunnel Apt. 584\", \"city\": \"Los Angeles\", \"state\": \"CA\", \"zip\": 90026}}"
        ],
        [
         "14633",
         "{\"user_id\": 14633, \"update_type\": \"new\", \"timestamp\": 1576097610.0, \"dob\": \"09/04/1997\", \"sex\": \"F\", \"gender\": \"F\", \"first_name\": \"Hannah\", \"last_name\": \"Fuller\", \"address\": {\"street_address\": \"81346 Obrien Streets\", \"city\": \"Gardena\", \"state\": \"CA\", \"zip\": 90249}}"
        ],
        [
         "28776",
         "{\"user_id\": 28776, \"update_type\": \"delete\", \"timestamp\": 1576406799}"
        ],
        [
         "49296",
         "{\"user_id\": 49296, \"update_type\": \"update\", \"timestamp\": 1575910760.0, \"dob\": \"04/23/1989\", \"sex\": \"M\", \"gender\": \"M\", \"first_name\": \"William\", \"last_name\": \"Hinton\", \"address\": {\"street_address\": \"000 Huber Extension Apt. 632\", \"city\": \"Pacoima\", \"state\": \"CA\", \"zip\": 91334}}"
        ],
        [
         "36590",
         "{\"user_id\": 36590, \"update_type\": \"new\", \"timestamp\": 1576256911.0, \"dob\": \"09/10/1980\", \"sex\": \"F\", \"gender\": \"F\", \"first_name\": \"Angelica\", \"last_name\": \"Davis\", \"address\": {\"street_address\": \"2665 Richard Cliff\", \"city\": \"Glendale\", \"state\": \"CA\", \"zip\": 91205}}"
        ]
       ],
       "datasetInfos": [],
       "dbfsResultPath": null,
       "isJsonSchema": true,
       "metadata": {
        "createTempViewForImplicitDf": true,
        "dataframeName": "_sqldf",
        "executionCount": 22
       },
       "overflow": false,
       "plotOptions": {
        "customPlotOptions": {},
        "displayType": "table",
        "pivotAggregation": null,
        "pivotColumns": null,
        "xColumns": null,
        "yColumns": null
       },
       "removedWidgets": [],
       "schema": [
        {
         "metadata": "{}",
         "name": "key",
         "type": "\"string\""
        },
        {
         "metadata": "{}",
         "name": "value",
         "type": "\"string\""
        }
       ],
       "type": "table"
      }
     },
     "output_type": "display_data"
    }
   ],
   "source": [
    "%sql\n",
    "SELECT \n",
    "  string(key), \n",
    "  string(value)\n",
    "FROM user_events_raw\n",
    "LIMIT 5;"
   ]
  },
  {
   "cell_type": "markdown",
   "metadata": {
    "application/vnd.databricks.v1+cell": {
     "cellMetadata": {},
     "inputWidgets": {},
     "nuid": "1fd10b74-2390-4736-bfb6-c0d96d229780",
     "showTitle": false,
     "tableResultSettingsMap": {},
     "title": ""
    }
   },
   "source": [
    "### D2. Users Bronze\n",
    "\n",
    "The table **users_bronze** is our focus and will be our source for the ingested user information, where we'll apply **Binning Anonymization** to the **Date of Birth (DOB)**.\n",
    "\n"
   ]
  },
  {
   "cell_type": "code",
   "execution_count": 0,
   "metadata": {
    "application/vnd.databricks.v1+cell": {
     "cellMetadata": {
      "byteLimit": 2048000,
      "implicitDf": true,
      "rowLimit": 10000
     },
     "inputWidgets": {},
     "nuid": "f2d12933-f348-45d4-8ecb-c93c05f0a3d0",
     "showTitle": false,
     "tableResultSettingsMap": {},
     "title": ""
    }
   },
   "outputs": [
    {
     "output_type": "display_data",
     "data": {
      "text/html": [
       "<style scoped>\n",
       "  .table-result-container {\n",
       "    max-height: 300px;\n",
       "    overflow: auto;\n",
       "  }\n",
       "  table, th, td {\n",
       "    border: 1px solid black;\n",
       "    border-collapse: collapse;\n",
       "  }\n",
       "  th, td {\n",
       "    padding: 5px;\n",
       "  }\n",
       "  th {\n",
       "    text-align: left;\n",
       "  }\n",
       "</style><div class='table-result-container'><table class='table-result'><thead style='background-color: white'><tr><th>user_id</th><th>dob</th><th>gender</th><th>city</th><th>state</th></tr></thead><tbody><tr><td>37012</td><td>1925-02-26</td><td>M</td><td>Torrance</td><td>CA</td></tr><tr><td>45875</td><td>1933-12-13</td><td>M</td><td>El Monte</td><td>CA</td></tr><tr><td>41954</td><td>1964-01-05</td><td>F</td><td>Glendale</td><td>CA</td></tr><tr><td>28521</td><td>1921-02-08</td><td>M</td><td>Torrance</td><td>CA</td></tr><tr><td>12140</td><td>1999-02-02</td><td>M</td><td>Pearblossom</td><td>CA</td></tr><tr><td>23250</td><td>1951-11-12</td><td>M</td><td>Van Nuys</td><td>CA</td></tr><tr><td>19859</td><td>1991-11-07</td><td>F</td><td>Santa Clarita</td><td>CA</td></tr><tr><td>32018</td><td>1964-11-25</td><td>M</td><td>Los Angeles</td><td>CA</td></tr><tr><td>30088</td><td>1995-08-08</td><td>M</td><td>Los Angeles</td><td>CA</td></tr><tr><td>16093</td><td>1986-04-28</td><td>F</td><td>Inglewood</td><td>CA</td></tr><tr><td>47403</td><td>1987-12-08</td><td>F</td><td>Carson</td><td>CA</td></tr><tr><td>33987</td><td>1965-05-10</td><td>F</td><td>Canyon Country</td><td>CA</td></tr><tr><td>19548</td><td>1972-02-12</td><td>F</td><td>Los Angeles</td><td>CA</td></tr><tr><td>14633</td><td>1997-09-04</td><td>F</td><td>Gardena</td><td>CA</td></tr><tr><td>28776</td><td>null</td><td>null</td><td>null</td><td>null</td></tr><tr><td>49296</td><td>1989-04-23</td><td>M</td><td>Pacoima</td><td>CA</td></tr><tr><td>36590</td><td>1980-09-10</td><td>F</td><td>Glendale</td><td>CA</td></tr><tr><td>36644</td><td>1941-03-07</td><td>M</td><td>Altadena</td><td>CA</td></tr><tr><td>25143</td><td>1944-08-13</td><td>M</td><td>Palmdale</td><td>CA</td></tr><tr><td>19150</td><td>1994-10-12</td><td>F</td><td>Carson</td><td>CA</td></tr><tr><td>36117</td><td>1972-11-10</td><td>F</td><td>Los Angeles</td><td>CA</td></tr><tr><td>40559</td><td>1952-07-04</td><td>M</td><td>Glendale</td><td>CA</td></tr><tr><td>41796</td><td>1940-11-21</td><td>M</td><td>Santa Clarita</td><td>CA</td></tr><tr><td>42643</td><td>null</td><td>null</td><td>null</td><td>null</td></tr><tr><td>47261</td><td>1946-11-05</td><td>M</td><td>Culver City</td><td>CA</td></tr><tr><td>40872</td><td>1982-03-08</td><td>M</td><td>Los Angeles</td><td>CA</td></tr><tr><td>31057</td><td>1999-05-04</td><td>F</td><td>Pacoima</td><td>CA</td></tr><tr><td>19888</td><td>1936-09-06</td><td>M</td><td>Los Alamitos</td><td>CA</td></tr><tr><td>20217</td><td>1995-10-20</td><td>F</td><td>Long Beach</td><td>CA</td></tr><tr><td>43810</td><td>2000-09-16</td><td>F</td><td>Frazier Park</td><td>CA</td></tr><tr><td>17217</td><td>1996-11-21</td><td>F</td><td>Sierra Madre</td><td>CA</td></tr><tr><td>48721</td><td>1943-05-02</td><td>F</td><td>Los Angeles</td><td>CA</td></tr><tr><td>40177</td><td>1928-09-24</td><td>M</td><td>Avalon</td><td>CA</td></tr><tr><td>13559</td><td>1980-03-06</td><td>F</td><td>Santa Monica</td><td>CA</td></tr><tr><td>49271</td><td>1925-03-01</td><td>M</td><td>Arcadia</td><td>CA</td></tr><tr><td>13937</td><td>1982-04-26</td><td>M</td><td>Toluca Lake</td><td>CA</td></tr><tr><td>48913</td><td>1949-03-28</td><td>M</td><td>Los Angeles</td><td>CA</td></tr><tr><td>29745</td><td>2001-12-20</td><td>F</td><td>Edwards</td><td>CA</td></tr><tr><td>33733</td><td>1965-10-30</td><td>M</td><td>Rowland Heights</td><td>CA</td></tr><tr><td>42643</td><td>1955-06-10</td><td>F</td><td>Los Angeles</td><td>CA</td></tr><tr><td>39676</td><td>1930-08-31</td><td>M</td><td>Rowland Heights</td><td>CA</td></tr><tr><td>11745</td><td>1955-06-29</td><td>F</td><td>Long Beach</td><td>CA</td></tr><tr><td>29130</td><td>1960-10-28</td><td>M</td><td>Los Angeles</td><td>CA</td></tr><tr><td>28359</td><td>1997-06-17</td><td>F</td><td>Yorba Linda</td><td>CA</td></tr><tr><td>23767</td><td>1979-06-01</td><td>M</td><td>Los Alamitos</td><td>CA</td></tr><tr><td>22480</td><td>1960-01-18</td><td>F</td><td>Canyon Country</td><td>CA</td></tr><tr><td>41192</td><td>1979-07-21</td><td>M</td><td>Inglewood</td><td>CA</td></tr><tr><td>28776</td><td>1938-01-21</td><td>O</td><td>Gardena</td><td>CA</td></tr><tr><td>30514</td><td>1941-11-22</td><td>F</td><td>Calabasas</td><td>CA</td></tr><tr><td>35428</td><td>1949-09-06</td><td>F</td><td>Rowland Heights</td><td>CA</td></tr><tr><td>20496</td><td>1979-04-29</td><td>M</td><td>Redondo Beach</td><td>CA</td></tr><tr><td>49296</td><td>1989-04-23</td><td>M</td><td>North Hollywood</td><td>CA</td></tr><tr><td>26285</td><td>1969-11-15</td><td>M</td><td>Beverly Hills</td><td>CA</td></tr><tr><td>35226</td><td>1954-01-17</td><td>M</td><td>Glendale</td><td>CA</td></tr><tr><td>40872</td><td>1982-03-08</td><td>M</td><td>Los Angeles</td><td>CA</td></tr><tr><td>34740</td><td>1991-04-18</td><td>M</td><td>Santa Monica</td><td>CA</td></tr><tr><td>28588</td><td>1982-04-23</td><td>M</td><td>Arcadia</td><td>CA</td></tr><tr><td>19005</td><td>1944-07-22</td><td>F</td><td>Studio City</td><td>CA</td></tr><tr><td>12474</td><td>1939-07-25</td><td>M</td><td>San Fernando</td><td>CA</td></tr><tr><td>26847</td><td>1995-10-07</td><td>M</td><td>Lakewood</td><td>CA</td></tr></tbody></table></div>"
      ]
     },
     "metadata": {
      "application/vnd.databricks.v1+output": {
       "addedWidgets": {},
       "aggData": [],
       "aggError": "",
       "aggOverflow": false,
       "aggSchema": [],
       "aggSeriesLimitReached": false,
       "aggType": "",
       "arguments": {},
       "columnCustomDisplayInfos": {},
       "data": [
        [
         37012,
         "1925-02-26",
         "M",
         "Torrance",
         "CA"
        ],
        [
         45875,
         "1933-12-13",
         "M",
         "El Monte",
         "CA"
        ],
        [
         41954,
         "1964-01-05",
         "F",
         "Glendale",
         "CA"
        ],
        [
         28521,
         "1921-02-08",
         "M",
         "Torrance",
         "CA"
        ],
        [
         12140,
         "1999-02-02",
         "M",
         "Pearblossom",
         "CA"
        ],
        [
         23250,
         "1951-11-12",
         "M",
         "Van Nuys",
         "CA"
        ],
        [
         19859,
         "1991-11-07",
         "F",
         "Santa Clarita",
         "CA"
        ],
        [
         32018,
         "1964-11-25",
         "M",
         "Los Angeles",
         "CA"
        ],
        [
         30088,
         "1995-08-08",
         "M",
         "Los Angeles",
         "CA"
        ],
        [
         16093,
         "1986-04-28",
         "F",
         "Inglewood",
         "CA"
        ],
        [
         47403,
         "1987-12-08",
         "F",
         "Carson",
         "CA"
        ],
        [
         33987,
         "1965-05-10",
         "F",
         "Canyon Country",
         "CA"
        ],
        [
         19548,
         "1972-02-12",
         "F",
         "Los Angeles",
         "CA"
        ],
        [
         14633,
         "1997-09-04",
         "F",
         "Gardena",
         "CA"
        ],
        [
         28776,
         null,
         null,
         null,
         null
        ],
        [
         49296,
         "1989-04-23",
         "M",
         "Pacoima",
         "CA"
        ],
        [
         36590,
         "1980-09-10",
         "F",
         "Glendale",
         "CA"
        ],
        [
         36644,
         "1941-03-07",
         "M",
         "Altadena",
         "CA"
        ],
        [
         25143,
         "1944-08-13",
         "M",
         "Palmdale",
         "CA"
        ],
        [
         19150,
         "1994-10-12",
         "F",
         "Carson",
         "CA"
        ],
        [
         36117,
         "1972-11-10",
         "F",
         "Los Angeles",
         "CA"
        ],
        [
         40559,
         "1952-07-04",
         "M",
         "Glendale",
         "CA"
        ],
        [
         41796,
         "1940-11-21",
         "M",
         "Santa Clarita",
         "CA"
        ],
        [
         42643,
         null,
         null,
         null,
         null
        ],
        [
         47261,
         "1946-11-05",
         "M",
         "Culver City",
         "CA"
        ],
        [
         40872,
         "1982-03-08",
         "M",
         "Los Angeles",
         "CA"
        ],
        [
         31057,
         "1999-05-04",
         "F",
         "Pacoima",
         "CA"
        ],
        [
         19888,
         "1936-09-06",
         "M",
         "Los Alamitos",
         "CA"
        ],
        [
         20217,
         "1995-10-20",
         "F",
         "Long Beach",
         "CA"
        ],
        [
         43810,
         "2000-09-16",
         "F",
         "Frazier Park",
         "CA"
        ],
        [
         17217,
         "1996-11-21",
         "F",
         "Sierra Madre",
         "CA"
        ],
        [
         48721,
         "1943-05-02",
         "F",
         "Los Angeles",
         "CA"
        ],
        [
         40177,
         "1928-09-24",
         "M",
         "Avalon",
         "CA"
        ],
        [
         13559,
         "1980-03-06",
         "F",
         "Santa Monica",
         "CA"
        ],
        [
         49271,
         "1925-03-01",
         "M",
         "Arcadia",
         "CA"
        ],
        [
         13937,
         "1982-04-26",
         "M",
         "Toluca Lake",
         "CA"
        ],
        [
         48913,
         "1949-03-28",
         "M",
         "Los Angeles",
         "CA"
        ],
        [
         29745,
         "2001-12-20",
         "F",
         "Edwards",
         "CA"
        ],
        [
         33733,
         "1965-10-30",
         "M",
         "Rowland Heights",
         "CA"
        ],
        [
         42643,
         "1955-06-10",
         "F",
         "Los Angeles",
         "CA"
        ],
        [
         39676,
         "1930-08-31",
         "M",
         "Rowland Heights",
         "CA"
        ],
        [
         11745,
         "1955-06-29",
         "F",
         "Long Beach",
         "CA"
        ],
        [
         29130,
         "1960-10-28",
         "M",
         "Los Angeles",
         "CA"
        ],
        [
         28359,
         "1997-06-17",
         "F",
         "Yorba Linda",
         "CA"
        ],
        [
         23767,
         "1979-06-01",
         "M",
         "Los Alamitos",
         "CA"
        ],
        [
         22480,
         "1960-01-18",
         "F",
         "Canyon Country",
         "CA"
        ],
        [
         41192,
         "1979-07-21",
         "M",
         "Inglewood",
         "CA"
        ],
        [
         28776,
         "1938-01-21",
         "O",
         "Gardena",
         "CA"
        ],
        [
         30514,
         "1941-11-22",
         "F",
         "Calabasas",
         "CA"
        ],
        [
         35428,
         "1949-09-06",
         "F",
         "Rowland Heights",
         "CA"
        ],
        [
         20496,
         "1979-04-29",
         "M",
         "Redondo Beach",
         "CA"
        ],
        [
         49296,
         "1989-04-23",
         "M",
         "North Hollywood",
         "CA"
        ],
        [
         26285,
         "1969-11-15",
         "M",
         "Beverly Hills",
         "CA"
        ],
        [
         35226,
         "1954-01-17",
         "M",
         "Glendale",
         "CA"
        ],
        [
         40872,
         "1982-03-08",
         "M",
         "Los Angeles",
         "CA"
        ],
        [
         34740,
         "1991-04-18",
         "M",
         "Santa Monica",
         "CA"
        ],
        [
         28588,
         "1982-04-23",
         "M",
         "Arcadia",
         "CA"
        ],
        [
         19005,
         "1944-07-22",
         "F",
         "Studio City",
         "CA"
        ],
        [
         12474,
         "1939-07-25",
         "M",
         "San Fernando",
         "CA"
        ],
        [
         26847,
         "1995-10-07",
         "M",
         "Lakewood",
         "CA"
        ]
       ],
       "datasetInfos": [],
       "dbfsResultPath": null,
       "isJsonSchema": true,
       "metadata": {
        "createTempViewForImplicitDf": true,
        "dataframeName": "_sqldf",
        "executionCount": 23
       },
       "overflow": false,
       "plotOptions": {
        "customPlotOptions": {},
        "displayType": "table",
        "pivotAggregation": null,
        "pivotColumns": null,
        "xColumns": null,
        "yColumns": null
       },
       "removedWidgets": [],
       "schema": [
        {
         "metadata": "{}",
         "name": "user_id",
         "type": "\"long\""
        },
        {
         "metadata": "{}",
         "name": "dob",
         "type": "\"date\""
        },
        {
         "metadata": "{}",
         "name": "gender",
         "type": "\"string\""
        },
        {
         "metadata": "{}",
         "name": "city",
         "type": "\"string\""
        },
        {
         "metadata": "{}",
         "name": "state",
         "type": "\"string\""
        }
       ],
       "type": "table"
      }
     },
     "output_type": "display_data"
    }
   ],
   "source": [
    "%sql\n",
    "SELECT \n",
    "  user_id,\n",
    "  dob,\n",
    "  gender,\n",
    "  city,\n",
    "  state \n",
    "FROM users_bronze"
   ]
  },
  {
   "cell_type": "markdown",
   "metadata": {
    "application/vnd.databricks.v1+cell": {
     "cellMetadata": {},
     "inputWidgets": {},
     "nuid": "8ae217a5-8592-4ca9-a27d-cf6a61f1ec03",
     "showTitle": false,
     "tableResultSettingsMap": {},
     "title": ""
    }
   },
   "source": [
    "### D3. User Age Bins\n",
    "\n",
    "The table **user_age_bins** shows the results of the **binning anonymization** applied, check **age** column and the range provide for each user.\n"
   ]
  },
  {
   "cell_type": "code",
   "execution_count": 0,
   "metadata": {
    "application/vnd.databricks.v1+cell": {
     "cellMetadata": {
      "byteLimit": 2048000,
      "implicitDf": true,
      "rowLimit": 10000
     },
     "inputWidgets": {},
     "nuid": "24e6f7c0-3fc6-41c4-8813-d635a171a095",
     "showTitle": false,
     "tableResultSettingsMap": {},
     "title": ""
    }
   },
   "outputs": [
    {
     "output_type": "display_data",
     "data": {
      "text/html": [
       "<style scoped>\n",
       "  .table-result-container {\n",
       "    max-height: 300px;\n",
       "    overflow: auto;\n",
       "  }\n",
       "  table, th, td {\n",
       "    border: 1px solid black;\n",
       "    border-collapse: collapse;\n",
       "  }\n",
       "  th, td {\n",
       "    padding: 5px;\n",
       "  }\n",
       "  th {\n",
       "    text-align: left;\n",
       "  }\n",
       "</style><div class='table-result-container'><table class='table-result'><thead style='background-color: white'><tr><th>user_id</th><th>age</th><th>gender</th><th>city</th><th>state</th></tr></thead><tbody><tr><td>37012</td><td>95+</td><td>M</td><td>Torrance</td><td>CA</td></tr><tr><td>45875</td><td>85-95</td><td>M</td><td>El Monte</td><td>CA</td></tr><tr><td>41954</td><td>55-65</td><td>F</td><td>Glendale</td><td>CA</td></tr><tr><td>28521</td><td>95+</td><td>M</td><td>Torrance</td><td>CA</td></tr><tr><td>12140</td><td>25-35</td><td>M</td><td>Pearblossom</td><td>CA</td></tr><tr><td>23250</td><td>65-75</td><td>M</td><td>Van Nuys</td><td>CA</td></tr><tr><td>19859</td><td>25-35</td><td>F</td><td>Santa Clarita</td><td>CA</td></tr><tr><td>32018</td><td>55-65</td><td>M</td><td>Los Angeles</td><td>CA</td></tr><tr><td>30088</td><td>25-35</td><td>M</td><td>Los Angeles</td><td>CA</td></tr><tr><td>16093</td><td>35-45</td><td>F</td><td>Inglewood</td><td>CA</td></tr><tr><td>47403</td><td>35-45</td><td>F</td><td>Carson</td><td>CA</td></tr><tr><td>33987</td><td>55-65</td><td>F</td><td>Canyon Country</td><td>CA</td></tr><tr><td>19548</td><td>45-55</td><td>F</td><td>Los Angeles</td><td>CA</td></tr><tr><td>14633</td><td>25-35</td><td>F</td><td>Gardena</td><td>CA</td></tr><tr><td>28776</td><td>invalid age</td><td>null</td><td>null</td><td>null</td></tr><tr><td>49296</td><td>35-45</td><td>M</td><td>Pacoima</td><td>CA</td></tr><tr><td>36590</td><td>35-45</td><td>F</td><td>Glendale</td><td>CA</td></tr><tr><td>36644</td><td>75-85</td><td>M</td><td>Altadena</td><td>CA</td></tr><tr><td>25143</td><td>75-85</td><td>M</td><td>Palmdale</td><td>CA</td></tr><tr><td>19150</td><td>25-35</td><td>F</td><td>Carson</td><td>CA</td></tr><tr><td>36117</td><td>45-55</td><td>F</td><td>Los Angeles</td><td>CA</td></tr><tr><td>40559</td><td>65-75</td><td>M</td><td>Glendale</td><td>CA</td></tr><tr><td>41796</td><td>75-85</td><td>M</td><td>Santa Clarita</td><td>CA</td></tr><tr><td>42643</td><td>invalid age</td><td>null</td><td>null</td><td>null</td></tr><tr><td>47261</td><td>75-85</td><td>M</td><td>Culver City</td><td>CA</td></tr><tr><td>40872</td><td>35-45</td><td>M</td><td>Los Angeles</td><td>CA</td></tr><tr><td>31057</td><td>25-35</td><td>F</td><td>Pacoima</td><td>CA</td></tr><tr><td>19888</td><td>85-95</td><td>M</td><td>Los Alamitos</td><td>CA</td></tr><tr><td>20217</td><td>25-35</td><td>F</td><td>Long Beach</td><td>CA</td></tr><tr><td>43810</td><td>18-25</td><td>F</td><td>Frazier Park</td><td>CA</td></tr><tr><td>17217</td><td>25-35</td><td>F</td><td>Sierra Madre</td><td>CA</td></tr><tr><td>48721</td><td>75-85</td><td>F</td><td>Los Angeles</td><td>CA</td></tr><tr><td>40177</td><td>95+</td><td>M</td><td>Avalon</td><td>CA</td></tr><tr><td>13559</td><td>45-55</td><td>F</td><td>Santa Monica</td><td>CA</td></tr><tr><td>49271</td><td>95+</td><td>M</td><td>Arcadia</td><td>CA</td></tr><tr><td>13937</td><td>35-45</td><td>M</td><td>Toluca Lake</td><td>CA</td></tr><tr><td>48913</td><td>75-85</td><td>M</td><td>Los Angeles</td><td>CA</td></tr><tr><td>29745</td><td>18-25</td><td>F</td><td>Edwards</td><td>CA</td></tr><tr><td>33733</td><td>55-65</td><td>M</td><td>Rowland Heights</td><td>CA</td></tr><tr><td>42643</td><td>65-75</td><td>F</td><td>Los Angeles</td><td>CA</td></tr><tr><td>39676</td><td>85-95</td><td>M</td><td>Rowland Heights</td><td>CA</td></tr><tr><td>11745</td><td>65-75</td><td>F</td><td>Long Beach</td><td>CA</td></tr><tr><td>29130</td><td>55-65</td><td>M</td><td>Los Angeles</td><td>CA</td></tr><tr><td>28359</td><td>25-35</td><td>F</td><td>Yorba Linda</td><td>CA</td></tr><tr><td>23767</td><td>45-55</td><td>M</td><td>Los Alamitos</td><td>CA</td></tr><tr><td>22480</td><td>65-75</td><td>F</td><td>Canyon Country</td><td>CA</td></tr><tr><td>41192</td><td>45-55</td><td>M</td><td>Inglewood</td><td>CA</td></tr><tr><td>28776</td><td>85-95</td><td>O</td><td>Gardena</td><td>CA</td></tr><tr><td>30514</td><td>75-85</td><td>F</td><td>Calabasas</td><td>CA</td></tr><tr><td>35428</td><td>75-85</td><td>F</td><td>Rowland Heights</td><td>CA</td></tr><tr><td>20496</td><td>45-55</td><td>M</td><td>Redondo Beach</td><td>CA</td></tr><tr><td>49296</td><td>35-45</td><td>M</td><td>North Hollywood</td><td>CA</td></tr><tr><td>26285</td><td>55-65</td><td>M</td><td>Beverly Hills</td><td>CA</td></tr><tr><td>35226</td><td>65-75</td><td>M</td><td>Glendale</td><td>CA</td></tr><tr><td>40872</td><td>35-45</td><td>M</td><td>Los Angeles</td><td>CA</td></tr><tr><td>34740</td><td>25-35</td><td>M</td><td>Santa Monica</td><td>CA</td></tr><tr><td>28588</td><td>35-45</td><td>M</td><td>Arcadia</td><td>CA</td></tr><tr><td>19005</td><td>75-85</td><td>F</td><td>Studio City</td><td>CA</td></tr><tr><td>12474</td><td>85-95</td><td>M</td><td>San Fernando</td><td>CA</td></tr><tr><td>26847</td><td>25-35</td><td>M</td><td>Lakewood</td><td>CA</td></tr></tbody></table></div>"
      ]
     },
     "metadata": {
      "application/vnd.databricks.v1+output": {
       "addedWidgets": {},
       "aggData": [],
       "aggError": "",
       "aggOverflow": false,
       "aggSchema": [],
       "aggSeriesLimitReached": false,
       "aggType": "",
       "arguments": {},
       "columnCustomDisplayInfos": {},
       "data": [
        [
         37012,
         "95+",
         "M",
         "Torrance",
         "CA"
        ],
        [
         45875,
         "85-95",
         "M",
         "El Monte",
         "CA"
        ],
        [
         41954,
         "55-65",
         "F",
         "Glendale",
         "CA"
        ],
        [
         28521,
         "95+",
         "M",
         "Torrance",
         "CA"
        ],
        [
         12140,
         "25-35",
         "M",
         "Pearblossom",
         "CA"
        ],
        [
         23250,
         "65-75",
         "M",
         "Van Nuys",
         "CA"
        ],
        [
         19859,
         "25-35",
         "F",
         "Santa Clarita",
         "CA"
        ],
        [
         32018,
         "55-65",
         "M",
         "Los Angeles",
         "CA"
        ],
        [
         30088,
         "25-35",
         "M",
         "Los Angeles",
         "CA"
        ],
        [
         16093,
         "35-45",
         "F",
         "Inglewood",
         "CA"
        ],
        [
         47403,
         "35-45",
         "F",
         "Carson",
         "CA"
        ],
        [
         33987,
         "55-65",
         "F",
         "Canyon Country",
         "CA"
        ],
        [
         19548,
         "45-55",
         "F",
         "Los Angeles",
         "CA"
        ],
        [
         14633,
         "25-35",
         "F",
         "Gardena",
         "CA"
        ],
        [
         28776,
         "invalid age",
         null,
         null,
         null
        ],
        [
         49296,
         "35-45",
         "M",
         "Pacoima",
         "CA"
        ],
        [
         36590,
         "35-45",
         "F",
         "Glendale",
         "CA"
        ],
        [
         36644,
         "75-85",
         "M",
         "Altadena",
         "CA"
        ],
        [
         25143,
         "75-85",
         "M",
         "Palmdale",
         "CA"
        ],
        [
         19150,
         "25-35",
         "F",
         "Carson",
         "CA"
        ],
        [
         36117,
         "45-55",
         "F",
         "Los Angeles",
         "CA"
        ],
        [
         40559,
         "65-75",
         "M",
         "Glendale",
         "CA"
        ],
        [
         41796,
         "75-85",
         "M",
         "Santa Clarita",
         "CA"
        ],
        [
         42643,
         "invalid age",
         null,
         null,
         null
        ],
        [
         47261,
         "75-85",
         "M",
         "Culver City",
         "CA"
        ],
        [
         40872,
         "35-45",
         "M",
         "Los Angeles",
         "CA"
        ],
        [
         31057,
         "25-35",
         "F",
         "Pacoima",
         "CA"
        ],
        [
         19888,
         "85-95",
         "M",
         "Los Alamitos",
         "CA"
        ],
        [
         20217,
         "25-35",
         "F",
         "Long Beach",
         "CA"
        ],
        [
         43810,
         "18-25",
         "F",
         "Frazier Park",
         "CA"
        ],
        [
         17217,
         "25-35",
         "F",
         "Sierra Madre",
         "CA"
        ],
        [
         48721,
         "75-85",
         "F",
         "Los Angeles",
         "CA"
        ],
        [
         40177,
         "95+",
         "M",
         "Avalon",
         "CA"
        ],
        [
         13559,
         "45-55",
         "F",
         "Santa Monica",
         "CA"
        ],
        [
         49271,
         "95+",
         "M",
         "Arcadia",
         "CA"
        ],
        [
         13937,
         "35-45",
         "M",
         "Toluca Lake",
         "CA"
        ],
        [
         48913,
         "75-85",
         "M",
         "Los Angeles",
         "CA"
        ],
        [
         29745,
         "18-25",
         "F",
         "Edwards",
         "CA"
        ],
        [
         33733,
         "55-65",
         "M",
         "Rowland Heights",
         "CA"
        ],
        [
         42643,
         "65-75",
         "F",
         "Los Angeles",
         "CA"
        ],
        [
         39676,
         "85-95",
         "M",
         "Rowland Heights",
         "CA"
        ],
        [
         11745,
         "65-75",
         "F",
         "Long Beach",
         "CA"
        ],
        [
         29130,
         "55-65",
         "M",
         "Los Angeles",
         "CA"
        ],
        [
         28359,
         "25-35",
         "F",
         "Yorba Linda",
         "CA"
        ],
        [
         23767,
         "45-55",
         "M",
         "Los Alamitos",
         "CA"
        ],
        [
         22480,
         "65-75",
         "F",
         "Canyon Country",
         "CA"
        ],
        [
         41192,
         "45-55",
         "M",
         "Inglewood",
         "CA"
        ],
        [
         28776,
         "85-95",
         "O",
         "Gardena",
         "CA"
        ],
        [
         30514,
         "75-85",
         "F",
         "Calabasas",
         "CA"
        ],
        [
         35428,
         "75-85",
         "F",
         "Rowland Heights",
         "CA"
        ],
        [
         20496,
         "45-55",
         "M",
         "Redondo Beach",
         "CA"
        ],
        [
         49296,
         "35-45",
         "M",
         "North Hollywood",
         "CA"
        ],
        [
         26285,
         "55-65",
         "M",
         "Beverly Hills",
         "CA"
        ],
        [
         35226,
         "65-75",
         "M",
         "Glendale",
         "CA"
        ],
        [
         40872,
         "35-45",
         "M",
         "Los Angeles",
         "CA"
        ],
        [
         34740,
         "25-35",
         "M",
         "Santa Monica",
         "CA"
        ],
        [
         28588,
         "35-45",
         "M",
         "Arcadia",
         "CA"
        ],
        [
         19005,
         "75-85",
         "F",
         "Studio City",
         "CA"
        ],
        [
         12474,
         "85-95",
         "M",
         "San Fernando",
         "CA"
        ],
        [
         26847,
         "25-35",
         "M",
         "Lakewood",
         "CA"
        ]
       ],
       "datasetInfos": [],
       "dbfsResultPath": null,
       "isJsonSchema": true,
       "metadata": {
        "createTempViewForImplicitDf": true,
        "dataframeName": "_sqldf",
        "executionCount": 24
       },
       "overflow": false,
       "plotOptions": {
        "customPlotOptions": {},
        "displayType": "table",
        "pivotAggregation": null,
        "pivotColumns": null,
        "xColumns": null,
        "yColumns": null
       },
       "removedWidgets": [],
       "schema": [
        {
         "metadata": "{}",
         "name": "user_id",
         "type": "\"long\""
        },
        {
         "metadata": "{}",
         "name": "age",
         "type": "\"string\""
        },
        {
         "metadata": "{}",
         "name": "gender",
         "type": "\"string\""
        },
        {
         "metadata": "{}",
         "name": "city",
         "type": "\"string\""
        },
        {
         "metadata": "{}",
         "name": "state",
         "type": "\"string\""
        }
       ],
       "type": "table"
      }
     },
     "output_type": "display_data"
    }
   ],
   "source": [
    "%sql\n",
    "SELECT * \n",
    "FROM user_age_bins"
   ]
  },
  {
   "cell_type": "markdown",
   "metadata": {
    "application/vnd.databricks.v1+cell": {
     "cellMetadata": {},
     "inputWidgets": {},
     "nuid": "4f56281e-0b95-460b-9c90-e97c087557a8",
     "showTitle": false,
     "tableResultSettingsMap": {},
     "title": ""
    }
   },
   "source": [
    "## E. Land New Data and Trigger the Pipeline\n",
    "\n",
    "Run the cell below to land more data in the source directory, then navigate to the Pipelines UI and manually trigger a pipeline update.\n",
    "\n",
    "As we continue through the course, you can return to this notebook and use the method provided below to land new data. Running this entire notebook again will delete the underlying data files for both the source data and your DLT Pipeline and enable you to start over."
   ]
  },
  {
   "cell_type": "code",
   "execution_count": 0,
   "metadata": {
    "application/vnd.databricks.v1+cell": {
     "cellMetadata": {
      "byteLimit": 2048000,
      "rowLimit": 10000
     },
     "inputWidgets": {},
     "nuid": "f32354c7-73c7-42e5-a553-cbbeaa1a4cf1",
     "showTitle": false,
     "tableResultSettingsMap": {},
     "title": ""
    }
   },
   "outputs": [
    {
     "output_type": "stream",
     "name": "stdout",
     "output_type": "stream",
     "text": [
      "\n----Loading files to user's volume-----\nFile number 1 - part-00000-tid-21464587674693947-64543f44-9e22-4df6-96dd-f12b589615ac-106-1-c000.json is already in the source volume. Skipping file.\nFile number 2 - part-00001-tid-21464587674693947-64543f44-9e22-4df6-96dd-f12b589615ac-107-1-c000.json is already in the source volume. Skipping file.\nFile number 3 - Copying file /Volumes/dbacademy/ops/labuser10747597_1750981120@vocareum_com/pii/stream_source/daily/part-00002-tid-21464587674693947-64543f44-9e22-4df6-96dd-f12b589615ac-108-1-c000.json --> /Volumes/labuser10747597_1750981120/pii_data/pii/stream_source/daily/part-00002-tid-21464587674693947-64543f44-9e22-4df6-96dd-f12b589615ac-108-1-c000.json.\nFile number 4 - Copying file /Volumes/dbacademy/ops/labuser10747597_1750981120@vocareum_com/pii/stream_source/daily/part-00003-tid-21464587674693947-64543f44-9e22-4df6-96dd-f12b589615ac-109-1-c000.json --> /Volumes/labuser10747597_1750981120/pii_data/pii/stream_source/daily/part-00003-tid-21464587674693947-64543f44-9e22-4df6-96dd-f12b589615ac-109-1-c000.json.\nStop loading files to user's volume.\n"
     ]
    }
   ],
   "source": [
    "## Load files into (your catalog -> pii_data -> volumes -> pii -> stream_source -> daily)\n",
    "DA.load(copy_from=DA.paths.stream_source.daily_working_dir,\n",
    "        copy_to=DA.paths.stream_source.daily,\n",
    "        n=4)"
   ]
  },
  {
   "cell_type": "markdown",
   "metadata": {
    "application/vnd.databricks.v1+cell": {
     "cellMetadata": {},
     "inputWidgets": {},
     "nuid": "6d1e100b-6965-412c-b67c-70e5ab77f48a",
     "showTitle": false,
     "tableResultSettingsMap": {},
     "title": ""
    }
   },
   "source": [
    "\n",
    "&copy; 2025 Databricks, Inc. All rights reserved. Apache, Apache Spark, Spark, the Spark Logo, Apache Iceberg, Iceberg, and the Apache Iceberg logo are trademarks of the <a href=\"https://www.apache.org/\" target=\"blank\">Apache Software Foundation</a>.<br/>\n",
    "<br/><a href=\"https://databricks.com/privacy-policy\" target=\"blank\">Privacy Policy</a> | \n",
    "<a href=\"https://databricks.com/terms-of-use\" target=\"blank\">Terms of Use</a> | \n",
    "<a href=\"https://help.databricks.com/\" target=\"blank\">Support</a>\n"
   ]
  }
 ],
 "metadata": {
  "application/vnd.databricks.v1+notebook": {
   "computePreferences": null,
   "dashboards": [],
   "environmentMetadata": null,
   "inputWidgetPreferences": null,
   "language": "python",
   "notebookMetadata": {
    "mostRecentlyExecutedCommandWithImplicitDF": {
     "commandId": 3913647707152965,
     "dataframes": [
      "_sqldf"
     ]
    },
    "pythonIndentUnit": 4
   },
   "notebookName": "DP 1.2 - PII Data Security",
   "widgets": {}
  },
  "language_info": {
   "name": "python"
  }
 },
 "nbformat": 4,
 "nbformat_minor": 0
}